{
 "cells": [
  {
   "cell_type": "markdown",
   "metadata": {},
   "source": [
    "# JigsawHSI for Hyper Spectral Image Classification\n",
    "\n",
    "**Author:** Jaime MORAGA\n",
    "**ORCID :** https://orcid.org/0000-0003-4483-9900"
   ]
  },
  {
   "cell_type": "markdown",
   "metadata": {},
   "source": [
    "# Select dataset"
   ]
  },
  {
   "cell_type": "code",
   "execution_count": 1,
   "metadata": {
    "scrolled": true
   },
   "outputs": [],
   "source": [
    "## GLOBAL VARIABLES\n",
    "# dataset = 'PU_100'\n",
    "# dataset = 'IP_99.74'\n",
    "dataset = 'SA_100'\n"
   ]
  },
  {
   "cell_type": "markdown",
   "metadata": {},
   "source": [
    "# Initialize all random functions with same seed"
   ]
  },
  {
   "cell_type": "code",
   "execution_count": 2,
   "metadata": {},
   "outputs": [
    {
     "name": "stderr",
     "output_type": "stream",
     "text": [
      "2025-01-19 10:35:49.578023: E external/local_xla/xla/stream_executor/cuda/cuda_fft.cc:477] Unable to register cuFFT factory: Attempting to register factory for plugin cuFFT when one has already been registered\n",
      "WARNING: All log messages before absl::InitializeLog() is called are written to STDERR\n",
      "E0000 00:00:1737308149.596179  191150 cuda_dnn.cc:8310] Unable to register cuDNN factory: Attempting to register factory for plugin cuDNN when one has already been registered\n",
      "E0000 00:00:1737308149.601475  191150 cuda_blas.cc:1418] Unable to register cuBLAS factory: Attempting to register factory for plugin cuBLAS when one has already been registered\n"
     ]
    }
   ],
   "source": [
    "import os\n",
    "# Use this before loading tensorflow\n",
    "#os.environ['TF_CPP_MIN_LOG_LEVEL'] = '1' # Block INFO messages\n",
    "os.environ['TF_CPP_MIN_LOG_LEVEL'] = '2' # Block INFO and WARNING messages\n",
    "#os.environ['TF_CPP_MIN_LOG_LEVEL'] = '3' # Block INFO, WARNING and ERROR messages\n",
    "# https://www.tensorflow.org/api_docs/python/tf/autograph/set_verbosity\n",
    "os.environ[\"AUTOGRAPH_VERBOSITY\"] = \"0\"\n",
    "import tensorflow as tf\n",
    "tf.get_logger().setLevel(\"WARNING\")\n",
    "\n",
    "import random\n",
    "import numpy as np\n",
    "\n",
    "def random_seed():\n",
    "    return os.urandom(42)\n",
    "\n",
    "def reset_seeds(random_state = 42):\n",
    "    try:\n",
    "        tf.keras.utils.set_random_seed(random_state) # This resets all\n",
    "        return 0\n",
    "    except:\n",
    "        random.seed(random_state)\n",
    "        np.random.seed(random_state)\n",
    "        tf.random.set_seed(random_state) # Tensorflow 2.9+\n",
    "    try:\n",
    "        from tensorflow import set_random_seed # Tensorflow 1.x\n",
    "        set_random_seed(random_state)\n",
    "        return 2\n",
    "    except:\n",
    "        pass\n",
    "    return 1\n",
    "\n",
    "max_gpus = len(tf.config.list_physical_devices('GPU'))\n",
    "\n",
    "\"\"\"\n",
    "Reset all random seeds\n",
    "\"\"\"\n",
    "r = reset_seeds(345)\n",
    "del r"
   ]
  },
  {
   "cell_type": "markdown",
   "metadata": {},
   "source": [
    "# Import libraries"
   ]
  },
  {
   "cell_type": "code",
   "execution_count": 3,
   "metadata": {
    "colab": {
     "base_uri": "https://localhost:8080/",
     "height": 50
    },
    "executionInfo": {
     "elapsed": 5572,
     "status": "ok",
     "timestamp": 1602478409232,
     "user": {
      "displayName": "Tanmay Chakraborty",
      "photoUrl": "https://lh3.googleusercontent.com/a-/AOh14Gi7eevbipSJbPNmjfEacGnvwa7ZJkT_EcljzNX6FQ=s64",
      "userId": "10513402671331353489"
     },
     "user_tz": -330
    },
    "id": "r9imWZNCMoOM",
    "outputId": "e6ddc3e2-53c3-4e29-ceb6-5b303ac0b75b"
   },
   "outputs": [],
   "source": [
    "from sklearn.model_selection import train_test_split\n",
    "from sklearn.metrics import confusion_matrix, accuracy_score, classification_report, cohen_kappa_score\n",
    " \n",
    "from sklearn.decomposition import FactorAnalysis, NMF\n",
    "from sklearn.decomposition import PCA, TruncatedSVD\n",
    "from operator import truediv\n",
    "\n",
    "import numpy as np\n",
    "import matplotlib.pyplot as plt\n",
    "import scipy.io as sio\n",
    "\n",
    "#!pip install spectral\n",
    "import spectral"
   ]
  },
  {
   "cell_type": "markdown",
   "metadata": {},
   "source": [
    "# Define functions"
   ]
  },
  {
   "cell_type": "markdown",
   "metadata": {},
   "source": [
    "## JigsawHSI definition"
   ]
  },
  {
   "cell_type": "code",
   "execution_count": 4,
   "metadata": {
    "executionInfo": {
     "elapsed": 5565,
     "status": "ok",
     "timestamp": 1602478409233,
     "user": {
      "displayName": "Tanmay Chakraborty",
      "photoUrl": "https://lh3.googleusercontent.com/a-/AOh14Gi7eevbipSJbPNmjfEacGnvwa7ZJkT_EcljzNX6FQ=s64",
      "userId": "10513402671331353489"
     },
     "user_tz": -330
    },
    "id": "HC83Bv1IPQfc"
   },
   "outputs": [
    {
     "name": "stderr",
     "output_type": "stream",
     "text": [
      "I0000 00:00:1737308152.015033  191150 gpu_device.cc:2022] Created device /job:localhost/replica:0/task:0/device:GPU:0 with 7011 MB memory:  -> device: 0, name: NVIDIA GeForce GTX 1070, pci bus id: 0000:01:00.0, compute capability: 6.1\n"
     ]
    }
   ],
   "source": [
    "from tensorflow.keras.utils import Sequence\n",
    "from tensorflow.keras.models import Model, Sequential\n",
    "from tensorflow.keras.layers import Input, Concatenate\n",
    "from tensorflow.keras.layers import Conv2D, AveragePooling2D, MaxPooling2D\n",
    "from tensorflow.keras.layers import Activation, Flatten, Dropout, Dense\n",
    "from tensorflow.keras.regularizers import l2\n",
    "from tensorflow.keras.optimizers import Adadelta, SGD, Adam, Nadam, Adagrad, Adamax\n",
    "\n",
    "from tensorflow.keras.callbacks import ModelCheckpoint, EarlyStopping\n",
    "from tensorflow.keras import utils as np_utils\n",
    "\n",
    "from skimage.transform import rotate\n",
    "from tensorflow.keras.models import clone_model\n",
    "from tensorflow.keras.utils import plot_model\n",
    "\n",
    "# Use MirroredStrategy for multi-GPU training\n",
    "strategy = tf.distribute.MirroredStrategy()\n",
    "\n",
    "def jigsaw_m2( input_net, first_layer = None , internal_size = 13):\n",
    "    # Creates internal filters as Inception: 1x1, 3x3, 5x5 ..., nxn \n",
    "    # Where n = internal_size\n",
    "    jigsaw_t1_1x1 = Conv2D(256, (1,1), padding='same', activation = 'relu', \n",
    "                           kernel_regularizer = l2(0.002))(input_net)\n",
    "    jigsaw_t1_3x3_reduce = Conv2D(96, (1,1), padding='same', activation = 'relu', \n",
    "                                  kernel_regularizer = l2(0.002))(input_net)\n",
    "    jigsaw_t1_3x3 = Conv2D(128, (3,3), padding='same', activation = 'relu', \n",
    "                           kernel_regularizer = l2(0.002))(jigsaw_t1_3x3_reduce) # , name=\"i_3x3\"\n",
    "    if (internal_size >= 5):\n",
    "        jigsaw_t1_5x5_reduce = Conv2D(16, (1,1), padding='same', activation = 'relu', \n",
    "                                      kernel_regularizer = l2(0.002))(input_net)\n",
    "        jigsaw_t1_5x5 = Conv2D(128, (5,5), padding='same', activation = 'relu', \n",
    "                               kernel_regularizer = l2(0.002))(jigsaw_t1_5x5_reduce) # , name=\"i_5x5\"\n",
    "    if (internal_size >= 7):\n",
    "        jigsaw_t1_7x7_reduce = Conv2D(16, (1,1), padding='same', activation = 'relu', \n",
    "                                      kernel_regularizer = l2(0.002))(input_net)\n",
    "        jigsaw_t1_7x7 = Conv2D(128, (7,7), padding='same', activation = 'relu', \n",
    "                               kernel_regularizer = l2(0.002))(jigsaw_t1_7x7_reduce) # , name=\"i_7x7\"\n",
    "    if (internal_size >= 9):\n",
    "        jigsaw_t1_9x9_reduce = Conv2D(16, (1,1), padding='same', activation = 'relu', \n",
    "                                      kernel_regularizer = l2(0.002))(input_net)\n",
    "        jigsaw_t1_9x9 = Conv2D(64, (9,9), padding='same', activation = 'relu', \n",
    "                               kernel_regularizer = l2(0.002))(jigsaw_t1_9x9_reduce) # , name=\"i_9x9\"\n",
    "    if (internal_size >= 11):\n",
    "        jigsaw_t1_11x11_reduce = Conv2D(16, (1,1), padding='same', activation = 'relu', \n",
    "                                        kernel_regularizer = l2(0.002))(input_net)\n",
    "        jigsaw_t1_11x11 = Conv2D(64, (11,11), padding='same', activation = 'relu', \n",
    "                                 kernel_regularizer = l2(0.002))(jigsaw_t1_11x11_reduce) # , name=\"i_11x11\"\n",
    "    if (internal_size >= 13):\n",
    "        jigsaw_t1_13x13_reduce = Conv2D(16, (1,1), padding='same', activation = 'relu', \n",
    "                                        kernel_regularizer = l2(0.002))(input_net)\n",
    "        jigsaw_t1_13x13 = Conv2D(64, (13,13), padding='same', activation = 'relu', \n",
    "                                 kernel_regularizer = l2(0.002))(jigsaw_t1_13x13_reduce) # , name=\"i_13x13\"\n",
    "    jigsaw_t1_pool = MaxPooling2D(pool_size=(3,3), strides = (1,1), padding='same')(input_net)\n",
    "    jigsaw_t1_pool_proj = Conv2D(32, (1,1), padding='same', activation = 'relu', \n",
    "                                 kernel_regularizer = l2(0.002))(jigsaw_t1_pool)\n",
    "    jigsaw_list = [jigsaw_t1_1x1, jigsaw_t1_3x3]\n",
    "    if (internal_size >= 5):\n",
    "        jigsaw_list.append(jigsaw_t1_5x5)\n",
    "    if (internal_size >= 7):\n",
    "        jigsaw_list.append(jigsaw_t1_7x7)\n",
    "    if (internal_size >= 9):\n",
    "        jigsaw_list.append(jigsaw_t1_9x9)\n",
    "    if (internal_size >= 11):\n",
    "        jigsaw_list.append(jigsaw_t1_11x11)\n",
    "    if (internal_size >= 13):\n",
    "        jigsaw_list.append(jigsaw_t1_13x13)\n",
    "    jigsaw_list.append(jigsaw_t1_pool_proj)\n",
    "    if first_layer is not None:\n",
    "        jigsaw_t1_first = Conv2D(96, (1,1), padding='same', activation = 'relu', \n",
    "                                 kernel_regularizer = l2(0.002))(first_layer)\n",
    "        jigsaw_list.append(jigsaw_t1_first)\n",
    "    jigsaw_t1_output = Concatenate(axis = -1)(jigsaw_list)\n",
    "    return jigsaw_t1_output\n",
    "\n",
    "def jigsaw_m_end(input_net, num_classes, first_layer = None):\n",
    "    avg_pooling = AveragePooling2D(pool_size=(3,3), strides=(1,1), name='avg_pooling')(input_net)\n",
    "    flat = Flatten()(avg_pooling)\n",
    "    flat = Dense(16, kernel_regularizer=l2(0.002))(flat)\n",
    "    flat = Dropout(0.4)(flat)\n",
    "    if first_layer is not None:\n",
    "        input_pixel = Flatten()(first_layer)\n",
    "        input_pixel = Dense(16, kernel_regularizer=l2(0.002))(input_pixel)\n",
    "        input_pixel = Dropout(0.2)(input_pixel)\n",
    "        input_pixel = Dense(16, kernel_regularizer=l2(0.002))(input_pixel)\n",
    "        input_pixel = Dropout(0.2)(input_pixel)\n",
    "        flat = Concatenate(axis = -1)([input_pixel, flat])\n",
    "    flat = Dense(32, kernel_regularizer=l2(0.002))(flat)\n",
    "    avg_pooling = Dropout(0.4)(flat)\n",
    "    loss3_classifier = Dense(num_classes, kernel_regularizer=l2(0.002))(avg_pooling)\n",
    "    loss3_classifier_act = Activation('softmax', name='prob')(loss3_classifier)\n",
    "    return loss3_classifier_act\n",
    "\n",
    "\n",
    "# Builds model\n",
    "def build_jigsawHSI(internal_size=13, num_classes=2, image_dim = (19, 19, 7), dimension_filters = None, verbose=1):\n",
    "    with strategy.scope():\n",
    "        my_input = Input( shape=image_dim )\n",
    "        \n",
    "        # Not needed for SA\n",
    "        if ((dimension_filters is None) or (dimension_filters < 1)):\n",
    "            conv1 = None\n",
    "        else:\n",
    "            conv1 = Conv2D(dimension_filters, (1,1), padding='same', activation = 'relu',\n",
    "                          kernel_regularizer = l2(0.002), name='spectral_filter')(my_input)\n",
    "        if(verbose>0):\n",
    "            print(f\"*** Building Jigsaw with up to {internal_size}x{internal_size} kernels\")\n",
    "        # One jigsaw module(s)\n",
    "        jigsaw_01 = jigsaw_m2( my_input if conv1 is None else conv1, internal_size = internal_size )\n",
    "        # For SA, the next two lines must be uncommented\n",
    "        # jigsaw_01 = jigsaw_m2( jigsaw_01, first_layer=my_input, internal_size = internal_size )\n",
    "        # jigsaw_01 = jigsaw_m2( jigsaw_01, internal_size = internal_size )\n",
    "        \n",
    "        # Attaches end to jigsaw modules, returns class within num_classes\n",
    "        loss3_classifier_act = jigsaw_m_end(jigsaw_01,\n",
    "                                        num_classes = num_classes,\n",
    "                                        first_layer = my_input ) # testing num_classes\n",
    "        model3 = Model( inputs = my_input, outputs = loss3_classifier_act )\n",
    "    model3.compile(loss='binary_crossentropy', optimizer=Adadelta(), metrics=['accuracy'])\n",
    "    return model3\n"
   ]
  },
  {
   "cell_type": "code",
   "execution_count": 5,
   "metadata": {},
   "outputs": [],
   "source": [
    "class Kernel3D:\n",
    "    def __init__(self, rows=3, cols=3, shape='rect', radius=None, no_value=np.nan):\n",
    "        if shape == 'circle':\n",
    "            self.rows = 2*radius+1\n",
    "            self.cols = 2*radius+1\n",
    "            self.mask = self.round_mask(radius)\n",
    "            self.row_buffer = radius\n",
    "            self.col_buffer = radius\n",
    "        else:\n",
    "            self.rows = rows\n",
    "            self.cols = cols\n",
    "            self.mask = np.ones((rows, cols))\n",
    "            self.row_buffer = int((rows-1)/2)\n",
    "            self.col_buffer = int((cols-1)/2)\n",
    "        self.mask = self.mask[np.newaxis, :, :]\n",
    "        self.no_value = no_value\n",
    "        assert((rows%2) == 1)\n",
    "        assert((cols%2) == 1)\n",
    "\n",
    "    def round_mask(self, radius):\n",
    "        diameter = 2*radius+1\n",
    "        mask = np.empty((diameter, diameter,))\n",
    "        mask[:] = self.no_value\n",
    "        sq_radius = radius**2\n",
    "        for i in range(diameter):\n",
    "            for j in range(diameter):\n",
    "                if ((i-radius)**2+(j-radius)**2) <= sq_radius:\n",
    "                    mask[i, j] = 1\n",
    "        return mask\n",
    "\n",
    "    def getSubset(self, matrix, row, column):\n",
    "        m_rows = matrix.shape[1]\n",
    "        assert (row >= self.row_buffer), f\"Out of bounds row {row}, from {m_rows}\"\n",
    "        assert (row < (m_rows-self.row_buffer)), f\"Out of bounds row {row}, from {m_rows}\"\n",
    "        m_cols = matrix.shape[2]\n",
    "        assert((column >= self.col_buffer) and (column < (m_cols-self.col_buffer))), f\"Out of bounds column {column}, from {m_cols}\"\n",
    "        row_start = row-self.row_buffer\n",
    "        row_end = row+self.row_buffer\n",
    "        column_start = column-self.col_buffer\n",
    "        column_end = column+self.col_buffer\n",
    "        small_matrix = matrix[:, row_start:row_end+1, column_start:column_end+1]\n",
    "        return small_matrix*self.mask\n",
    "\n",
    "class GeoTiffSlicer(object):\n",
    "    def __init__(self, land_matrix, kernel_rows=None, kernel_cols=None,\n",
    "                 kernel_shape='rect', kernel_radius=0, no_value = np.nan):\n",
    "        # (w, h, d) input tiff expected\n",
    "        # (d, h, w) input tiff from rasterio must be transposed before calling this class\n",
    "        if kernel_cols is None:\n",
    "            kernel_cols = kernel_rows\n",
    "        assert(kernel_cols < land_matrix.shape[2])\n",
    "        assert(kernel_rows < land_matrix.shape[1])\n",
    "        assert((kernel_shape == 'rect') or (kernel_shape == 'circle'))\n",
    "        assert(kernel_radius>=0)\n",
    "        if kernel_shape == 'rect':\n",
    "            self.kernel = Kernel3D(rows=kernel_rows, cols=kernel_cols)\n",
    "        else:\n",
    "            self.kernel = Kernel3D(radius=kernel_radius,\n",
    "                                   shape=kernel_shape,\n",
    "                                   no_value=no_value)\n",
    "            kernel_rows = kernel_cols = 2*kernel_radius+1\n",
    "        self.kernel_rows = kernel_rows\n",
    "        self.kernel_cols = kernel_cols\n",
    "        self.land_matrix = land_matrix\n",
    "        self.land_matrix_channels, self.land_matrix_cols, self.land_matrix_rows = land_matrix.shape\n",
    "        self.land_matrix_cols = land_matrix.shape[2]\n",
    "        self.land_matrix_rows = land_matrix.shape[1]\n",
    "        self.land_matrix_channels = land_matrix.shape[0]\n",
    "        self.small_row_min = self.kernel.row_buffer\n",
    "        self.small_row_max = self.land_matrix_rows - self.small_row_min\n",
    "        self.small_column_min = self.kernel.col_buffer\n",
    "        self.small_column_max = self.land_matrix_cols - self.small_column_min\n",
    "\n",
    "    def apply_mask(self, row, column):\n",
    "        return self.kernel.getSubset(self.land_matrix, row=row, column=column)"
   ]
  },
  {
   "cell_type": "markdown",
   "metadata": {},
   "source": [
    "## Decompostion functions: reduce dimensionality"
   ]
  },
  {
   "cell_type": "code",
   "execution_count": 6,
   "metadata": {
    "executionInfo": {
     "elapsed": 5559,
     "status": "ok",
     "timestamp": 1602478409234,
     "user": {
      "displayName": "Tanmay Chakraborty",
      "photoUrl": "https://lh3.googleusercontent.com/a-/AOh14Gi7eevbipSJbPNmjfEacGnvwa7ZJkT_EcljzNX6FQ=s64",
      "userId": "10513402671331353489"
     },
     "user_tz": -330
    },
    "id": "UGivdxXN1pCh"
   },
   "outputs": [],
   "source": [
    "# Dimensionality reduction algorithms\n",
    "def applyPCA(X, numComponents=75, random_state=0):\n",
    "    newX = np.reshape(X, (-1, X.shape[2])) # Reshape to columns for each band\n",
    "    pca = PCA(n_components=numComponents, whiten=True, random_state=random_state)\n",
    "    newX = pca.fit_transform(newX)\n",
    "    newX = np.reshape(newX, (X.shape[0],X.shape[1], numComponents))\n",
    "    return newX, 'pca'\n",
    "\n",
    "def applyFA(X, numComponents=75, random_state=0):\n",
    "    newX = np.reshape(X, (-1, X.shape[2])) # Reshape to columns for each band\n",
    "    fa = FactorAnalysis(n_components=numComponents, random_state=random_state)\n",
    "    newX = fa.fit_transform(newX)\n",
    "    newX = np.reshape(newX, (X.shape[0],X.shape[1], numComponents))\n",
    "    return newX, 'fa'\n",
    "\n",
    "def applySVD(X, numComponents=75, random_state=0):\n",
    "    newX = np.reshape(X, (-1, X.shape[2])) # Reshape to columns for each band\n",
    "    svd = TruncatedSVD(n_components=numComponents, random_state=random_state)\n",
    "    newX = svd.fit_transform(newX)\n",
    "    newX = np.reshape(newX, (X.shape[0],X.shape[1], numComponents))\n",
    "    return newX, 'svd'\n",
    "\n",
    "def applyNMF(X, numComponents=75, random_state=0):\n",
    "    newX = np.reshape(X, (-1, X.shape[2])) # Reshape to columns for each band\n",
    "    nmf = NMF(n_components=numComponents, random_state=random_state)\n",
    "    newX = nmf.fit_transform(newX)\n",
    "    newX = np.reshape(newX, (X.shape[0],X.shape[1], numComponents))\n",
    "    return newX, 'nmf'\n",
    "\n",
    "def applyNone(X, numComponents=75, random_state=0):\n",
    "    return X, 'None'\n"
   ]
  },
  {
   "cell_type": "markdown",
   "metadata": {},
   "source": [
    "## Utilitary functions"
   ]
  },
  {
   "cell_type": "code",
   "execution_count": 7,
   "metadata": {
    "executionInfo": {
     "elapsed": 5550,
     "status": "ok",
     "timestamp": 1602478409236,
     "user": {
      "displayName": "Tanmay Chakraborty",
      "photoUrl": "https://lh3.googleusercontent.com/a-/AOh14Gi7eevbipSJbPNmjfEacGnvwa7ZJkT_EcljzNX6FQ=s64",
      "userId": "10513402671331353489"
     },
     "user_tz": -330
    },
    "id": "7wXNSkhfM3gs"
   },
   "outputs": [],
   "source": [
    "def readData(dataset, data_path='../../data/HSI'):\n",
    "    data_dict = {\n",
    "        'IP': ('Indian_pines_corrected.mat', 'indian_pines_corrected', 'Indian_pines_gt.mat', 'indian_pines_gt'),\n",
    "        'SA': ('Salinas_corrected.mat', 'salinas_corrected', 'Salinas_gt.mat', 'salinas_gt'),\n",
    "        'PU': ('PaviaU.mat', 'paviaU', 'PaviaU_gt.mat', 'paviaU_gt')\n",
    "    }\n",
    "    (X_1, X_2, y_1, y_2) = data_dict.get(dataset[0:2].upper())\n",
    "    X = sio.loadmat(os.path.join(data_path, X_1))[X_2]\n",
    "    y = sio.loadmat(os.path.join(data_path, y_1))[y_2]\n",
    "    \n",
    "    return (X, y)\n"
   ]
  },
  {
   "cell_type": "code",
   "execution_count": 8,
   "metadata": {
    "executionInfo": {
     "elapsed": 5545,
     "status": "ok",
     "timestamp": 1602478409237,
     "user": {
      "displayName": "Tanmay Chakraborty",
      "photoUrl": "https://lh3.googleusercontent.com/a-/AOh14Gi7eevbipSJbPNmjfEacGnvwa7ZJkT_EcljzNX6FQ=s64",
      "userId": "10513402671331353489"
     },
     "user_tz": -330
    },
    "id": "iaIzfkQ3NDvS"
   },
   "outputs": [],
   "source": [
    "def splitTrainTestSet(X, y, testRatio, randomState=345):\n",
    "    X_train, X_test, y_train, y_test = train_test_split(X, y, test_size=testRatio, random_state=randomState,\n",
    "                                                        stratify=y)\n",
    "    return X_train, X_test, y_train, y_test"
   ]
  },
  {
   "cell_type": "code",
   "execution_count": 9,
   "metadata": {
    "executionInfo": {
     "elapsed": 5538,
     "status": "ok",
     "timestamp": 1602478409237,
     "user": {
      "displayName": "Tanmay Chakraborty",
      "photoUrl": "https://lh3.googleusercontent.com/a-/AOh14Gi7eevbipSJbPNmjfEacGnvwa7ZJkT_EcljzNX6FQ=s64",
      "userId": "10513402671331353489"
     },
     "user_tz": -330
    },
    "id": "M0he4FtONMU-"
   },
   "outputs": [],
   "source": [
    "# Padding functions\n",
    "def padWithZeros(X, margin=2):\n",
    "    newX = np.pad(X, pad_width=((margin, margin),(margin, margin),(0, 0)), constant_values = 0)\n",
    "    return newX\n",
    "\n",
    "def padSymmetric(X, margin=2):\n",
    "    newX = np.pad(X, pad_width=((margin, margin),(margin, margin),(0, 0)), mode = 'symmetric')\n",
    "    return newX\n",
    "\n",
    "\n"
   ]
  },
  {
   "cell_type": "code",
   "execution_count": 10,
   "metadata": {
    "executionInfo": {
     "elapsed": 5533,
     "status": "ok",
     "timestamp": 1602478409238,
     "user": {
      "displayName": "Tanmay Chakraborty",
      "photoUrl": "https://lh3.googleusercontent.com/a-/AOh14Gi7eevbipSJbPNmjfEacGnvwa7ZJkT_EcljzNX6FQ=s64",
      "userId": "10513402671331353489"
     },
     "user_tz": -330
    },
    "id": "l0wsTkhNNO04"
   },
   "outputs": [],
   "source": [
    "def createImageCubes(X, y, window_size=8, removeZeroLabels = True):\n",
    "    margin = int((window_size-1) / 2)\n",
    "    zeroPaddedX = padWithZeros(X, margin=margin)\n",
    "    # split patches\n",
    "    patchesData = np.zeros((X.shape[0] * X.shape[1], window_size, window_size, X.shape[2]))\n",
    "    patchesLabels = np.zeros((X.shape[0] * X.shape[1]))\n",
    "    patchIndex = 0\n",
    "    for r in range(margin, zeroPaddedX.shape[0] - margin):\n",
    "        for c in range(margin, zeroPaddedX.shape[1] - margin):\n",
    "            patch = zeroPaddedX[r - margin:r + margin + 1 , c - margin:c + margin + 1]   \n",
    "            patchesData[patchIndex, :, :, :] = patch\n",
    "            patchesLabels[patchIndex] = y[r-margin, c-margin]\n",
    "            patchIndex = patchIndex + 1\n",
    "    if removeZeroLabels:\n",
    "        patchesData = patchesData[patchesLabels>0,:,:,:]\n",
    "        patchesLabels = patchesLabels[patchesLabels>0]\n",
    "        patchesLabels -= 1\n",
    "    return patchesData, patchesLabels"
   ]
  },
  {
   "cell_type": "markdown",
   "metadata": {},
   "source": [
    "# Load parameters from config file (config.ini)"
   ]
  },
  {
   "cell_type": "code",
   "execution_count": 11,
   "metadata": {},
   "outputs": [],
   "source": [
    "import configparser\n",
    "config = configparser.ConfigParser(inline_comment_prefixes=';#')\n",
    "config.read_file(open('config.ini'))\n",
    "config = config[dataset]"
   ]
  },
  {
   "cell_type": "code",
   "execution_count": null,
   "metadata": {},
   "outputs": [],
   "source": []
  },
  {
   "cell_type": "code",
   "execution_count": 12,
   "metadata": {},
   "outputs": [
    {
     "name": "stdout",
     "output_type": "stream",
     "text": [
      "None\n"
     ]
    }
   ],
   "source": [
    "# Parse parameters and hyper-parameters from config file\n",
    "\n",
    "test_ratio   = config.getfloat('test_ratio', 0.9)\n",
    "window_size  = config.getint('window_size', 25)\n",
    "num_channels = config.getint('num_channels', 3)\n",
    "output_units = config.getint('output_units', 16)\n",
    "\n",
    "filter_size  = config.getint('filter_size', 13)\n",
    "\n",
    "batch_size   = config.getint('batch_size', 30)\n",
    "max_epochs   = config.getint('max_epochs', 100)\n",
    "\n",
    "decomp_func  = config.get('decomp_func', 'pca').lower()\n",
    "optimizer_fn = config.get('optimizer_fn', 'sgd').lower()\n",
    "optimizer_lr = config.getfloat('optimizer_lr', 0.01)\n",
    "max_patience = config.getint('max_patience', 10)\n",
    "\n",
    "hsi_filters  = config.get('hsi_filters', 'none')\n",
    "hsi_filters  = None if (hsi_filters.lower() in ['none', '']) else int(hsi_filters)\n",
    "print(hsi_filters)"
   ]
  },
  {
   "cell_type": "markdown",
   "metadata": {},
   "source": [
    "## Select proper optimizer and decomposition functions"
   ]
  },
  {
   "cell_type": "code",
   "execution_count": 13,
   "metadata": {},
   "outputs": [],
   "source": [
    "dict_reduction={\n",
    "    'fa' : (lambda X, numComponents: applyFA(X, numComponents=numComponents)),\n",
    "    'nmf' : (lambda X, numComponents: applyNMF(X, numComponents=numComponents)),\n",
    "    'pca': (lambda X, numComponents: applyPCA(X, numComponents=numComponents)),\n",
    "    'svd': (lambda X, numComponents: applySVD(X, numComponents=numComponents)),\n",
    "    'none': (lambda X, numComponents: applyNone(X, numComponents=numComponents))\n",
    "}\n",
    "\n",
    "DimReduction=dict_reduction.get(decomp_func)\n",
    "\n",
    "dict_optimizer = {\n",
    "    'sgd'     : SGD(learning_rate=optimizer_lr, momentum=0.9, nesterov=False),\n",
    "    'adadelta': Adadelta(learning_rate=optimizer_lr, rho=0.95, epsilon=1e-07),\n",
    "    'adam'    : Adam(learning_rate=optimizer_lr, epsilon=1e-07),\n",
    "    'nadam'   : Nadam(learning_rate=optimizer_lr, epsilon=1e-07),\n",
    "    'adamax'  : Adamax(learning_rate=optimizer_lr, epsilon=1e-07),\n",
    "    'adagrad' : Adagrad(learning_rate=optimizer_lr, epsilon=1e-07)\n",
    "}\n",
    "\n",
    "FuncOptimizer = dict_optimizer.get(optimizer_fn)"
   ]
  },
  {
   "cell_type": "code",
   "execution_count": 14,
   "metadata": {},
   "outputs": [],
   "source": [
    "# Define names of output files\n",
    "best_model          = dataset + '-best-model.keras'\n",
    "loss_curve          = dataset + '-loss-curve.png'\n",
    "acc_curve           = dataset + '-acc-curve.png'\n",
    "classification_file = dataset + '-classification_report.txt'\n",
    "predictions_img     = dataset + '-predictions.png'\n",
    "architecture_img    = dataset + '-architecture.png'"
   ]
  },
  {
   "cell_type": "code",
   "execution_count": 15,
   "metadata": {
    "colab": {
     "base_uri": "https://localhost:8080/",
     "height": 34
    },
    "executionInfo": {
     "elapsed": 5525,
     "status": "ok",
     "timestamp": 1602478409238,
     "user": {
      "displayName": "Tanmay Chakraborty",
      "photoUrl": "https://lh3.googleusercontent.com/a-/AOh14Gi7eevbipSJbPNmjfEacGnvwa7ZJkT_EcljzNX6FQ=s64",
      "userId": "10513402671331353489"
     },
     "user_tz": -330
    },
    "id": "cnneGlFFNRVo",
    "outputId": "3b00138d-9d02-4b14-f6e2-2b1dc9ad8aeb"
   },
   "outputs": [
    {
     "data": {
      "text/plain": [
       "((512, 217, 204), (512, 217))"
      ]
     },
     "execution_count": 15,
     "metadata": {},
     "output_type": "execute_result"
    }
   ],
   "source": [
    "HSI, HSI_y = readData(dataset[0:2].upper())\n",
    "\n",
    "HSI.shape, HSI_y.shape"
   ]
  },
  {
   "cell_type": "code",
   "execution_count": 16,
   "metadata": {
    "executionInfo": {
     "elapsed": 5518,
     "status": "ok",
     "timestamp": 1602478409239,
     "user": {
      "displayName": "Tanmay Chakraborty",
      "photoUrl": "https://lh3.googleusercontent.com/a-/AOh14Gi7eevbipSJbPNmjfEacGnvwa7ZJkT_EcljzNX6FQ=s64",
      "userId": "10513402671331353489"
     },
     "user_tz": -330
    },
    "id": "TOGl1BmWNdyv"
   },
   "outputs": [],
   "source": [
    "num_channels = np.min([HSI.shape[2], num_channels])"
   ]
  },
  {
   "cell_type": "code",
   "execution_count": 17,
   "metadata": {
    "colab": {
     "base_uri": "https://localhost:8080/",
     "height": 34
    },
    "executionInfo": {
     "elapsed": 30165,
     "status": "ok",
     "timestamp": 1602478433894,
     "user": {
      "displayName": "Tanmay Chakraborty",
      "photoUrl": "https://lh3.googleusercontent.com/a-/AOh14Gi7eevbipSJbPNmjfEacGnvwa7ZJkT_EcljzNX6FQ=s64",
      "userId": "10513402671331353489"
     },
     "user_tz": -330
    },
    "id": "fTYzjiltNj8a",
    "outputId": "7bfa99db-15b8-40d1-83b2-b7d32d039c0e"
   },
   "outputs": [
    {
     "data": {
      "text/plain": [
       "(512, 217, 12)"
      ]
     },
     "execution_count": 17,
     "metadata": {},
     "output_type": "execute_result"
    }
   ],
   "source": [
    "DRI, dim_reduction = DimReduction(HSI,numComponents=num_channels)\n",
    "\n",
    "num_channels = DRI.shape[2]\n",
    "DRI.shape"
   ]
  },
  {
   "cell_type": "code",
   "execution_count": 18,
   "metadata": {
    "colab": {
     "base_uri": "https://localhost:8080/",
     "height": 34
    },
    "executionInfo": {
     "elapsed": 31758,
     "status": "ok",
     "timestamp": 1602478435499,
     "user": {
      "displayName": "Tanmay Chakraborty",
      "photoUrl": "https://lh3.googleusercontent.com/a-/AOh14Gi7eevbipSJbPNmjfEacGnvwa7ZJkT_EcljzNX6FQ=s64",
      "userId": "10513402671331353489"
     },
     "user_tz": -330
    },
    "id": "hiZiDsE0cN-O",
    "outputId": "acf836b7-666b-4104-c856-d4e0b1d1f84f"
   },
   "outputs": [
    {
     "data": {
      "text/plain": [
       "((54129, 25, 25, 12), (54129,))"
      ]
     },
     "execution_count": 18,
     "metadata": {},
     "output_type": "execute_result"
    }
   ],
   "source": [
    "X, y = createImageCubes(DRI, HSI_y, window_size=window_size)\n",
    "\n",
    "X.shape, y.shape"
   ]
  },
  {
   "cell_type": "code",
   "execution_count": 19,
   "metadata": {
    "colab": {
     "base_uri": "https://localhost:8080/",
     "height": 34
    },
    "executionInfo": {
     "elapsed": 31739,
     "status": "ok",
     "timestamp": 1602478435500,
     "user": {
      "displayName": "Tanmay Chakraborty",
      "photoUrl": "https://lh3.googleusercontent.com/a-/AOh14Gi7eevbipSJbPNmjfEacGnvwa7ZJkT_EcljzNX6FQ=s64",
      "userId": "10513402671331353489"
     },
     "user_tz": -330
    },
    "id": "OMYMZxnDcSHb",
    "outputId": "8e9b4564-aff1-40e2-b081-7154c18d5d77"
   },
   "outputs": [
    {
     "data": {
      "text/plain": [
       "((16238, 25, 25, 12), (37891, 25, 25, 12), (16238,), (37891,))"
      ]
     },
     "execution_count": 19,
     "metadata": {},
     "output_type": "execute_result"
    }
   ],
   "source": [
    "Xtrain, Xtest, ytrain, ytest = splitTrainTestSet(X, y, test_ratio)\n",
    "\n",
    "Xtrain.shape, Xtest.shape, ytrain.shape, ytest.shape"
   ]
  },
  {
   "cell_type": "code",
   "execution_count": 20,
   "metadata": {
    "colab": {
     "base_uri": "https://localhost:8080/",
     "height": 34
    },
    "executionInfo": {
     "elapsed": 31716,
     "status": "ok",
     "timestamp": 1602478435501,
     "user": {
      "displayName": "Tanmay Chakraborty",
      "photoUrl": "https://lh3.googleusercontent.com/a-/AOh14Gi7eevbipSJbPNmjfEacGnvwa7ZJkT_EcljzNX6FQ=s64",
      "userId": "10513402671331353489"
     },
     "user_tz": -330
    },
    "id": "VBvWzipfcZDK",
    "outputId": "af402f16-e7ee-4272-c243-ae05646c8317"
   },
   "outputs": [
    {
     "data": {
      "text/plain": [
       "(16238, 25, 25, 12)"
      ]
     },
     "execution_count": 20,
     "metadata": {},
     "output_type": "execute_result"
    }
   ],
   "source": [
    "Xtrain = Xtrain.reshape(-1, window_size, window_size, num_channels) #, 1)\n",
    "Xtrain.shape"
   ]
  },
  {
   "cell_type": "code",
   "execution_count": 21,
   "metadata": {
    "colab": {
     "base_uri": "https://localhost:8080/",
     "height": 34
    },
    "executionInfo": {
     "elapsed": 31703,
     "status": "ok",
     "timestamp": 1602478435502,
     "user": {
      "displayName": "Tanmay Chakraborty",
      "photoUrl": "https://lh3.googleusercontent.com/a-/AOh14Gi7eevbipSJbPNmjfEacGnvwa7ZJkT_EcljzNX6FQ=s64",
      "userId": "10513402671331353489"
     },
     "user_tz": -330
    },
    "id": "lxr7HMjocZvd",
    "outputId": "cb12450a-7ffc-44a2-d57b-2e42e0402ec4"
   },
   "outputs": [
    {
     "data": {
      "text/plain": [
       "(16238, 16)"
      ]
     },
     "execution_count": 21,
     "metadata": {},
     "output_type": "execute_result"
    }
   ],
   "source": [
    "ytrain = np_utils.to_categorical(ytrain)\n",
    "ytrain.shape"
   ]
  },
  {
   "cell_type": "code",
   "execution_count": 22,
   "metadata": {},
   "outputs": [
    {
     "name": "stdout",
     "output_type": "stream",
     "text": [
      "Configuration for dataset [SA_100]:\n",
      "\n",
      "Test Set Ratio: 70.0% of samples\n",
      "Window Size   : 25 pixels per side\n",
      "Dim. Reduction: fa function\n",
      "Num channels  : 12 bands after fa\n",
      "# Network design\n",
      "Input shape   : (25x25x12)\n",
      "HSI Filters   : None filters in first layer\n",
      "Internal Size : (7x7) maximum network filter size\n",
      "# Training hyperparameters\n",
      "Optimizer     : sgd\n",
      "Learning rate : 0.01\n",
      "Batch Size    : 132\n",
      "Num Epochs    : 500\n",
      "Patience      : 20\n",
      "# Training GPUs\n",
      "GPU Maximum   : 1\n",
      "\n"
     ]
    }
   ],
   "source": [
    "# Summarize configuration\n",
    "config_txt  = f'Configuration for dataset [{dataset}]:\\n\\n'\n",
    "config_txt += f'Test Set Ratio: {test_ratio*100}% of samples\\n'\n",
    "config_txt += f'Window Size   : {window_size} pixels per side\\n'\n",
    "config_txt += f'Dim. Reduction: {dim_reduction} function\\n'\n",
    "config_txt += f'Num channels  : {num_channels} bands after {dim_reduction}\\n'\n",
    "config_txt += '# Network design\\n'\n",
    "config_txt += f'Input shape   : ({window_size}x{window_size}x{num_channels})\\n'\n",
    "config_txt += f'HSI Filters   : {hsi_filters} filters in first layer\\n'\n",
    "config_txt += f'Internal Size : ({filter_size}x{filter_size}) maximum network filter size\\n'\n",
    "config_txt += '# Training hyperparameters\\n'\n",
    "config_txt += f'Optimizer     : {optimizer_fn}\\n'\n",
    "config_txt += f'Learning rate : {optimizer_lr}\\n'\n",
    "config_txt += f'Batch Size    : {batch_size}\\n'\n",
    "config_txt += f'Num Epochs    : {max_epochs}\\n' \n",
    "config_txt += f'Patience      : {max_patience}\\n'\n",
    "config_txt += '# Training GPUs\\n'\n",
    "config_txt += f'GPU Maximum   : {max_gpus}\\n'\n",
    "print(config_txt)"
   ]
  },
  {
   "cell_type": "markdown",
   "metadata": {},
   "source": [
    "# Build network"
   ]
  },
  {
   "cell_type": "markdown",
   "metadata": {},
   "source": [
    "### Before building the network, check if trained model exists"
   ]
  },
  {
   "cell_type": "code",
   "execution_count": 24,
   "metadata": {},
   "outputs": [
    {
     "name": "stdout",
     "output_type": "stream",
     "text": [
      "*** Building Jigsaw with up to 7x7 kernels\n"
     ]
    },
    {
     "data": {
      "text/html": [
       "<pre style=\"white-space:pre;overflow-x:auto;line-height:normal;font-family:Menlo,'DejaVu Sans Mono',consolas,'Courier New',monospace\"><span style=\"font-weight: bold\">Model: \"functional\"</span>\n",
       "</pre>\n"
      ],
      "text/plain": [
       "\u001b[1mModel: \"functional\"\u001b[0m\n"
      ]
     },
     "metadata": {},
     "output_type": "display_data"
    },
    {
     "data": {
      "text/html": [
       "<pre style=\"white-space:pre;overflow-x:auto;line-height:normal;font-family:Menlo,'DejaVu Sans Mono',consolas,'Courier New',monospace\">┏━━━━━━━━━━━━━━━━━━━━━┳━━━━━━━━━━━━━━━━━━━┳━━━━━━━━━━━━┳━━━━━━━━━━━━━━━━━━━┓\n",
       "┃<span style=\"font-weight: bold\"> Layer (type)        </span>┃<span style=\"font-weight: bold\"> Output Shape      </span>┃<span style=\"font-weight: bold\">    Param # </span>┃<span style=\"font-weight: bold\"> Connected to      </span>┃\n",
       "┡━━━━━━━━━━━━━━━━━━━━━╇━━━━━━━━━━━━━━━━━━━╇━━━━━━━━━━━━╇━━━━━━━━━━━━━━━━━━━┩\n",
       "│ keras_tensor        │ (<span style=\"color: #00d7ff; text-decoration-color: #00d7ff\">None</span>, <span style=\"color: #00af00; text-decoration-color: #00af00\">25</span>, <span style=\"color: #00af00; text-decoration-color: #00af00\">25</span>,    │          <span style=\"color: #00af00; text-decoration-color: #00af00\">0</span> │ -                 │\n",
       "│ (<span style=\"color: #0087ff; text-decoration-color: #0087ff\">InputLayer</span>)        │ <span style=\"color: #00af00; text-decoration-color: #00af00\">12</span>)               │            │                   │\n",
       "├─────────────────────┼───────────────────┼────────────┼───────────────────┤\n",
       "│ conv2d_1 (<span style=\"color: #0087ff; text-decoration-color: #0087ff\">Conv2D</span>)   │ (<span style=\"color: #00d7ff; text-decoration-color: #00d7ff\">None</span>, <span style=\"color: #00af00; text-decoration-color: #00af00\">25</span>, <span style=\"color: #00af00; text-decoration-color: #00af00\">25</span>,    │      <span style=\"color: #00af00; text-decoration-color: #00af00\">1,248</span> │ keras_tensor[<span style=\"color: #00af00; text-decoration-color: #00af00\">0</span>][<span style=\"color: #00af00; text-decoration-color: #00af00\">…</span> │\n",
       "│                     │ <span style=\"color: #00af00; text-decoration-color: #00af00\">96</span>)               │            │                   │\n",
       "├─────────────────────┼───────────────────┼────────────┼───────────────────┤\n",
       "│ conv2d_3 (<span style=\"color: #0087ff; text-decoration-color: #0087ff\">Conv2D</span>)   │ (<span style=\"color: #00d7ff; text-decoration-color: #00d7ff\">None</span>, <span style=\"color: #00af00; text-decoration-color: #00af00\">25</span>, <span style=\"color: #00af00; text-decoration-color: #00af00\">25</span>,    │        <span style=\"color: #00af00; text-decoration-color: #00af00\">208</span> │ keras_tensor[<span style=\"color: #00af00; text-decoration-color: #00af00\">0</span>][<span style=\"color: #00af00; text-decoration-color: #00af00\">…</span> │\n",
       "│                     │ <span style=\"color: #00af00; text-decoration-color: #00af00\">16</span>)               │            │                   │\n",
       "├─────────────────────┼───────────────────┼────────────┼───────────────────┤\n",
       "│ conv2d_5 (<span style=\"color: #0087ff; text-decoration-color: #0087ff\">Conv2D</span>)   │ (<span style=\"color: #00d7ff; text-decoration-color: #00d7ff\">None</span>, <span style=\"color: #00af00; text-decoration-color: #00af00\">25</span>, <span style=\"color: #00af00; text-decoration-color: #00af00\">25</span>,    │        <span style=\"color: #00af00; text-decoration-color: #00af00\">208</span> │ keras_tensor[<span style=\"color: #00af00; text-decoration-color: #00af00\">0</span>][<span style=\"color: #00af00; text-decoration-color: #00af00\">…</span> │\n",
       "│                     │ <span style=\"color: #00af00; text-decoration-color: #00af00\">16</span>)               │            │                   │\n",
       "├─────────────────────┼───────────────────┼────────────┼───────────────────┤\n",
       "│ max_pooling2d       │ (<span style=\"color: #00d7ff; text-decoration-color: #00d7ff\">None</span>, <span style=\"color: #00af00; text-decoration-color: #00af00\">25</span>, <span style=\"color: #00af00; text-decoration-color: #00af00\">25</span>,    │          <span style=\"color: #00af00; text-decoration-color: #00af00\">0</span> │ keras_tensor[<span style=\"color: #00af00; text-decoration-color: #00af00\">0</span>][<span style=\"color: #00af00; text-decoration-color: #00af00\">…</span> │\n",
       "│ (<span style=\"color: #0087ff; text-decoration-color: #0087ff\">MaxPooling2D</span>)      │ <span style=\"color: #00af00; text-decoration-color: #00af00\">12</span>)               │            │                   │\n",
       "├─────────────────────┼───────────────────┼────────────┼───────────────────┤\n",
       "│ conv2d (<span style=\"color: #0087ff; text-decoration-color: #0087ff\">Conv2D</span>)     │ (<span style=\"color: #00d7ff; text-decoration-color: #00d7ff\">None</span>, <span style=\"color: #00af00; text-decoration-color: #00af00\">25</span>, <span style=\"color: #00af00; text-decoration-color: #00af00\">25</span>,    │      <span style=\"color: #00af00; text-decoration-color: #00af00\">3,328</span> │ keras_tensor[<span style=\"color: #00af00; text-decoration-color: #00af00\">0</span>][<span style=\"color: #00af00; text-decoration-color: #00af00\">…</span> │\n",
       "│                     │ <span style=\"color: #00af00; text-decoration-color: #00af00\">256</span>)              │            │                   │\n",
       "├─────────────────────┼───────────────────┼────────────┼───────────────────┤\n",
       "│ conv2d_2 (<span style=\"color: #0087ff; text-decoration-color: #0087ff\">Conv2D</span>)   │ (<span style=\"color: #00d7ff; text-decoration-color: #00d7ff\">None</span>, <span style=\"color: #00af00; text-decoration-color: #00af00\">25</span>, <span style=\"color: #00af00; text-decoration-color: #00af00\">25</span>,    │    <span style=\"color: #00af00; text-decoration-color: #00af00\">110,720</span> │ conv2d_1[<span style=\"color: #00af00; text-decoration-color: #00af00\">0</span>][<span style=\"color: #00af00; text-decoration-color: #00af00\">0</span>]    │\n",
       "│                     │ <span style=\"color: #00af00; text-decoration-color: #00af00\">128</span>)              │            │                   │\n",
       "├─────────────────────┼───────────────────┼────────────┼───────────────────┤\n",
       "│ conv2d_4 (<span style=\"color: #0087ff; text-decoration-color: #0087ff\">Conv2D</span>)   │ (<span style=\"color: #00d7ff; text-decoration-color: #00d7ff\">None</span>, <span style=\"color: #00af00; text-decoration-color: #00af00\">25</span>, <span style=\"color: #00af00; text-decoration-color: #00af00\">25</span>,    │     <span style=\"color: #00af00; text-decoration-color: #00af00\">51,328</span> │ conv2d_3[<span style=\"color: #00af00; text-decoration-color: #00af00\">0</span>][<span style=\"color: #00af00; text-decoration-color: #00af00\">0</span>]    │\n",
       "│                     │ <span style=\"color: #00af00; text-decoration-color: #00af00\">128</span>)              │            │                   │\n",
       "├─────────────────────┼───────────────────┼────────────┼───────────────────┤\n",
       "│ conv2d_6 (<span style=\"color: #0087ff; text-decoration-color: #0087ff\">Conv2D</span>)   │ (<span style=\"color: #00d7ff; text-decoration-color: #00d7ff\">None</span>, <span style=\"color: #00af00; text-decoration-color: #00af00\">25</span>, <span style=\"color: #00af00; text-decoration-color: #00af00\">25</span>,    │    <span style=\"color: #00af00; text-decoration-color: #00af00\">100,480</span> │ conv2d_5[<span style=\"color: #00af00; text-decoration-color: #00af00\">0</span>][<span style=\"color: #00af00; text-decoration-color: #00af00\">0</span>]    │\n",
       "│                     │ <span style=\"color: #00af00; text-decoration-color: #00af00\">128</span>)              │            │                   │\n",
       "├─────────────────────┼───────────────────┼────────────┼───────────────────┤\n",
       "│ conv2d_7 (<span style=\"color: #0087ff; text-decoration-color: #0087ff\">Conv2D</span>)   │ (<span style=\"color: #00d7ff; text-decoration-color: #00d7ff\">None</span>, <span style=\"color: #00af00; text-decoration-color: #00af00\">25</span>, <span style=\"color: #00af00; text-decoration-color: #00af00\">25</span>,    │        <span style=\"color: #00af00; text-decoration-color: #00af00\">416</span> │ max_pooling2d[<span style=\"color: #00af00; text-decoration-color: #00af00\">0</span>]… │\n",
       "│                     │ <span style=\"color: #00af00; text-decoration-color: #00af00\">32</span>)               │            │                   │\n",
       "├─────────────────────┼───────────────────┼────────────┼───────────────────┤\n",
       "│ flatten_1 (<span style=\"color: #0087ff; text-decoration-color: #0087ff\">Flatten</span>) │ (<span style=\"color: #00d7ff; text-decoration-color: #00d7ff\">None</span>, <span style=\"color: #00af00; text-decoration-color: #00af00\">7500</span>)      │          <span style=\"color: #00af00; text-decoration-color: #00af00\">0</span> │ keras_tensor[<span style=\"color: #00af00; text-decoration-color: #00af00\">0</span>][<span style=\"color: #00af00; text-decoration-color: #00af00\">…</span> │\n",
       "├─────────────────────┼───────────────────┼────────────┼───────────────────┤\n",
       "│ concatenate         │ (<span style=\"color: #00d7ff; text-decoration-color: #00d7ff\">None</span>, <span style=\"color: #00af00; text-decoration-color: #00af00\">25</span>, <span style=\"color: #00af00; text-decoration-color: #00af00\">25</span>,    │          <span style=\"color: #00af00; text-decoration-color: #00af00\">0</span> │ conv2d[<span style=\"color: #00af00; text-decoration-color: #00af00\">0</span>][<span style=\"color: #00af00; text-decoration-color: #00af00\">0</span>],     │\n",
       "│ (<span style=\"color: #0087ff; text-decoration-color: #0087ff\">Concatenate</span>)       │ <span style=\"color: #00af00; text-decoration-color: #00af00\">672</span>)              │            │ conv2d_2[<span style=\"color: #00af00; text-decoration-color: #00af00\">0</span>][<span style=\"color: #00af00; text-decoration-color: #00af00\">0</span>],   │\n",
       "│                     │                   │            │ conv2d_4[<span style=\"color: #00af00; text-decoration-color: #00af00\">0</span>][<span style=\"color: #00af00; text-decoration-color: #00af00\">0</span>],   │\n",
       "│                     │                   │            │ conv2d_6[<span style=\"color: #00af00; text-decoration-color: #00af00\">0</span>][<span style=\"color: #00af00; text-decoration-color: #00af00\">0</span>],   │\n",
       "│                     │                   │            │ conv2d_7[<span style=\"color: #00af00; text-decoration-color: #00af00\">0</span>][<span style=\"color: #00af00; text-decoration-color: #00af00\">0</span>]    │\n",
       "├─────────────────────┼───────────────────┼────────────┼───────────────────┤\n",
       "│ dense_1 (<span style=\"color: #0087ff; text-decoration-color: #0087ff\">Dense</span>)     │ (<span style=\"color: #00d7ff; text-decoration-color: #00d7ff\">None</span>, <span style=\"color: #00af00; text-decoration-color: #00af00\">16</span>)        │    <span style=\"color: #00af00; text-decoration-color: #00af00\">120,016</span> │ flatten_1[<span style=\"color: #00af00; text-decoration-color: #00af00\">0</span>][<span style=\"color: #00af00; text-decoration-color: #00af00\">0</span>]   │\n",
       "├─────────────────────┼───────────────────┼────────────┼───────────────────┤\n",
       "│ avg_pooling         │ (<span style=\"color: #00d7ff; text-decoration-color: #00d7ff\">None</span>, <span style=\"color: #00af00; text-decoration-color: #00af00\">23</span>, <span style=\"color: #00af00; text-decoration-color: #00af00\">23</span>,    │          <span style=\"color: #00af00; text-decoration-color: #00af00\">0</span> │ concatenate[<span style=\"color: #00af00; text-decoration-color: #00af00\">0</span>][<span style=\"color: #00af00; text-decoration-color: #00af00\">0</span>] │\n",
       "│ (<span style=\"color: #0087ff; text-decoration-color: #0087ff\">AveragePooling2D</span>)  │ <span style=\"color: #00af00; text-decoration-color: #00af00\">672</span>)              │            │                   │\n",
       "├─────────────────────┼───────────────────┼────────────┼───────────────────┤\n",
       "│ dropout_1 (<span style=\"color: #0087ff; text-decoration-color: #0087ff\">Dropout</span>) │ (<span style=\"color: #00d7ff; text-decoration-color: #00d7ff\">None</span>, <span style=\"color: #00af00; text-decoration-color: #00af00\">16</span>)        │          <span style=\"color: #00af00; text-decoration-color: #00af00\">0</span> │ dense_1[<span style=\"color: #00af00; text-decoration-color: #00af00\">0</span>][<span style=\"color: #00af00; text-decoration-color: #00af00\">0</span>]     │\n",
       "├─────────────────────┼───────────────────┼────────────┼───────────────────┤\n",
       "│ flatten (<span style=\"color: #0087ff; text-decoration-color: #0087ff\">Flatten</span>)   │ (<span style=\"color: #00d7ff; text-decoration-color: #00d7ff\">None</span>, <span style=\"color: #00af00; text-decoration-color: #00af00\">355488</span>)    │          <span style=\"color: #00af00; text-decoration-color: #00af00\">0</span> │ avg_pooling[<span style=\"color: #00af00; text-decoration-color: #00af00\">0</span>][<span style=\"color: #00af00; text-decoration-color: #00af00\">0</span>] │\n",
       "├─────────────────────┼───────────────────┼────────────┼───────────────────┤\n",
       "│ dense_2 (<span style=\"color: #0087ff; text-decoration-color: #0087ff\">Dense</span>)     │ (<span style=\"color: #00d7ff; text-decoration-color: #00d7ff\">None</span>, <span style=\"color: #00af00; text-decoration-color: #00af00\">16</span>)        │        <span style=\"color: #00af00; text-decoration-color: #00af00\">272</span> │ dropout_1[<span style=\"color: #00af00; text-decoration-color: #00af00\">0</span>][<span style=\"color: #00af00; text-decoration-color: #00af00\">0</span>]   │\n",
       "├─────────────────────┼───────────────────┼────────────┼───────────────────┤\n",
       "│ dense (<span style=\"color: #0087ff; text-decoration-color: #0087ff\">Dense</span>)       │ (<span style=\"color: #00d7ff; text-decoration-color: #00d7ff\">None</span>, <span style=\"color: #00af00; text-decoration-color: #00af00\">16</span>)        │  <span style=\"color: #00af00; text-decoration-color: #00af00\">5,687,824</span> │ flatten[<span style=\"color: #00af00; text-decoration-color: #00af00\">0</span>][<span style=\"color: #00af00; text-decoration-color: #00af00\">0</span>]     │\n",
       "├─────────────────────┼───────────────────┼────────────┼───────────────────┤\n",
       "│ dropout_2 (<span style=\"color: #0087ff; text-decoration-color: #0087ff\">Dropout</span>) │ (<span style=\"color: #00d7ff; text-decoration-color: #00d7ff\">None</span>, <span style=\"color: #00af00; text-decoration-color: #00af00\">16</span>)        │          <span style=\"color: #00af00; text-decoration-color: #00af00\">0</span> │ dense_2[<span style=\"color: #00af00; text-decoration-color: #00af00\">0</span>][<span style=\"color: #00af00; text-decoration-color: #00af00\">0</span>]     │\n",
       "├─────────────────────┼───────────────────┼────────────┼───────────────────┤\n",
       "│ dropout (<span style=\"color: #0087ff; text-decoration-color: #0087ff\">Dropout</span>)   │ (<span style=\"color: #00d7ff; text-decoration-color: #00d7ff\">None</span>, <span style=\"color: #00af00; text-decoration-color: #00af00\">16</span>)        │          <span style=\"color: #00af00; text-decoration-color: #00af00\">0</span> │ dense[<span style=\"color: #00af00; text-decoration-color: #00af00\">0</span>][<span style=\"color: #00af00; text-decoration-color: #00af00\">0</span>]       │\n",
       "├─────────────────────┼───────────────────┼────────────┼───────────────────┤\n",
       "│ concatenate_1       │ (<span style=\"color: #00d7ff; text-decoration-color: #00d7ff\">None</span>, <span style=\"color: #00af00; text-decoration-color: #00af00\">32</span>)        │          <span style=\"color: #00af00; text-decoration-color: #00af00\">0</span> │ dropout_2[<span style=\"color: #00af00; text-decoration-color: #00af00\">0</span>][<span style=\"color: #00af00; text-decoration-color: #00af00\">0</span>],  │\n",
       "│ (<span style=\"color: #0087ff; text-decoration-color: #0087ff\">Concatenate</span>)       │                   │            │ dropout[<span style=\"color: #00af00; text-decoration-color: #00af00\">0</span>][<span style=\"color: #00af00; text-decoration-color: #00af00\">0</span>]     │\n",
       "├─────────────────────┼───────────────────┼────────────┼───────────────────┤\n",
       "│ dense_3 (<span style=\"color: #0087ff; text-decoration-color: #0087ff\">Dense</span>)     │ (<span style=\"color: #00d7ff; text-decoration-color: #00d7ff\">None</span>, <span style=\"color: #00af00; text-decoration-color: #00af00\">32</span>)        │      <span style=\"color: #00af00; text-decoration-color: #00af00\">1,056</span> │ concatenate_1[<span style=\"color: #00af00; text-decoration-color: #00af00\">0</span>]… │\n",
       "├─────────────────────┼───────────────────┼────────────┼───────────────────┤\n",
       "│ dropout_3 (<span style=\"color: #0087ff; text-decoration-color: #0087ff\">Dropout</span>) │ (<span style=\"color: #00d7ff; text-decoration-color: #00d7ff\">None</span>, <span style=\"color: #00af00; text-decoration-color: #00af00\">32</span>)        │          <span style=\"color: #00af00; text-decoration-color: #00af00\">0</span> │ dense_3[<span style=\"color: #00af00; text-decoration-color: #00af00\">0</span>][<span style=\"color: #00af00; text-decoration-color: #00af00\">0</span>]     │\n",
       "├─────────────────────┼───────────────────┼────────────┼───────────────────┤\n",
       "│ dense_4 (<span style=\"color: #0087ff; text-decoration-color: #0087ff\">Dense</span>)     │ (<span style=\"color: #00d7ff; text-decoration-color: #00d7ff\">None</span>, <span style=\"color: #00af00; text-decoration-color: #00af00\">16</span>)        │        <span style=\"color: #00af00; text-decoration-color: #00af00\">528</span> │ dropout_3[<span style=\"color: #00af00; text-decoration-color: #00af00\">0</span>][<span style=\"color: #00af00; text-decoration-color: #00af00\">0</span>]   │\n",
       "├─────────────────────┼───────────────────┼────────────┼───────────────────┤\n",
       "│ prob (<span style=\"color: #0087ff; text-decoration-color: #0087ff\">Activation</span>)   │ (<span style=\"color: #00d7ff; text-decoration-color: #00d7ff\">None</span>, <span style=\"color: #00af00; text-decoration-color: #00af00\">16</span>)        │          <span style=\"color: #00af00; text-decoration-color: #00af00\">0</span> │ dense_4[<span style=\"color: #00af00; text-decoration-color: #00af00\">0</span>][<span style=\"color: #00af00; text-decoration-color: #00af00\">0</span>]     │\n",
       "└─────────────────────┴───────────────────┴────────────┴───────────────────┘\n",
       "</pre>\n"
      ],
      "text/plain": [
       "┏━━━━━━━━━━━━━━━━━━━━━┳━━━━━━━━━━━━━━━━━━━┳━━━━━━━━━━━━┳━━━━━━━━━━━━━━━━━━━┓\n",
       "┃\u001b[1m \u001b[0m\u001b[1mLayer (type)       \u001b[0m\u001b[1m \u001b[0m┃\u001b[1m \u001b[0m\u001b[1mOutput Shape     \u001b[0m\u001b[1m \u001b[0m┃\u001b[1m \u001b[0m\u001b[1m   Param #\u001b[0m\u001b[1m \u001b[0m┃\u001b[1m \u001b[0m\u001b[1mConnected to     \u001b[0m\u001b[1m \u001b[0m┃\n",
       "┡━━━━━━━━━━━━━━━━━━━━━╇━━━━━━━━━━━━━━━━━━━╇━━━━━━━━━━━━╇━━━━━━━━━━━━━━━━━━━┩\n",
       "│ keras_tensor        │ (\u001b[38;5;45mNone\u001b[0m, \u001b[38;5;34m25\u001b[0m, \u001b[38;5;34m25\u001b[0m,    │          \u001b[38;5;34m0\u001b[0m │ -                 │\n",
       "│ (\u001b[38;5;33mInputLayer\u001b[0m)        │ \u001b[38;5;34m12\u001b[0m)               │            │                   │\n",
       "├─────────────────────┼───────────────────┼────────────┼───────────────────┤\n",
       "│ conv2d_1 (\u001b[38;5;33mConv2D\u001b[0m)   │ (\u001b[38;5;45mNone\u001b[0m, \u001b[38;5;34m25\u001b[0m, \u001b[38;5;34m25\u001b[0m,    │      \u001b[38;5;34m1,248\u001b[0m │ keras_tensor[\u001b[38;5;34m0\u001b[0m][\u001b[38;5;34m…\u001b[0m │\n",
       "│                     │ \u001b[38;5;34m96\u001b[0m)               │            │                   │\n",
       "├─────────────────────┼───────────────────┼────────────┼───────────────────┤\n",
       "│ conv2d_3 (\u001b[38;5;33mConv2D\u001b[0m)   │ (\u001b[38;5;45mNone\u001b[0m, \u001b[38;5;34m25\u001b[0m, \u001b[38;5;34m25\u001b[0m,    │        \u001b[38;5;34m208\u001b[0m │ keras_tensor[\u001b[38;5;34m0\u001b[0m][\u001b[38;5;34m…\u001b[0m │\n",
       "│                     │ \u001b[38;5;34m16\u001b[0m)               │            │                   │\n",
       "├─────────────────────┼───────────────────┼────────────┼───────────────────┤\n",
       "│ conv2d_5 (\u001b[38;5;33mConv2D\u001b[0m)   │ (\u001b[38;5;45mNone\u001b[0m, \u001b[38;5;34m25\u001b[0m, \u001b[38;5;34m25\u001b[0m,    │        \u001b[38;5;34m208\u001b[0m │ keras_tensor[\u001b[38;5;34m0\u001b[0m][\u001b[38;5;34m…\u001b[0m │\n",
       "│                     │ \u001b[38;5;34m16\u001b[0m)               │            │                   │\n",
       "├─────────────────────┼───────────────────┼────────────┼───────────────────┤\n",
       "│ max_pooling2d       │ (\u001b[38;5;45mNone\u001b[0m, \u001b[38;5;34m25\u001b[0m, \u001b[38;5;34m25\u001b[0m,    │          \u001b[38;5;34m0\u001b[0m │ keras_tensor[\u001b[38;5;34m0\u001b[0m][\u001b[38;5;34m…\u001b[0m │\n",
       "│ (\u001b[38;5;33mMaxPooling2D\u001b[0m)      │ \u001b[38;5;34m12\u001b[0m)               │            │                   │\n",
       "├─────────────────────┼───────────────────┼────────────┼───────────────────┤\n",
       "│ conv2d (\u001b[38;5;33mConv2D\u001b[0m)     │ (\u001b[38;5;45mNone\u001b[0m, \u001b[38;5;34m25\u001b[0m, \u001b[38;5;34m25\u001b[0m,    │      \u001b[38;5;34m3,328\u001b[0m │ keras_tensor[\u001b[38;5;34m0\u001b[0m][\u001b[38;5;34m…\u001b[0m │\n",
       "│                     │ \u001b[38;5;34m256\u001b[0m)              │            │                   │\n",
       "├─────────────────────┼───────────────────┼────────────┼───────────────────┤\n",
       "│ conv2d_2 (\u001b[38;5;33mConv2D\u001b[0m)   │ (\u001b[38;5;45mNone\u001b[0m, \u001b[38;5;34m25\u001b[0m, \u001b[38;5;34m25\u001b[0m,    │    \u001b[38;5;34m110,720\u001b[0m │ conv2d_1[\u001b[38;5;34m0\u001b[0m][\u001b[38;5;34m0\u001b[0m]    │\n",
       "│                     │ \u001b[38;5;34m128\u001b[0m)              │            │                   │\n",
       "├─────────────────────┼───────────────────┼────────────┼───────────────────┤\n",
       "│ conv2d_4 (\u001b[38;5;33mConv2D\u001b[0m)   │ (\u001b[38;5;45mNone\u001b[0m, \u001b[38;5;34m25\u001b[0m, \u001b[38;5;34m25\u001b[0m,    │     \u001b[38;5;34m51,328\u001b[0m │ conv2d_3[\u001b[38;5;34m0\u001b[0m][\u001b[38;5;34m0\u001b[0m]    │\n",
       "│                     │ \u001b[38;5;34m128\u001b[0m)              │            │                   │\n",
       "├─────────────────────┼───────────────────┼────────────┼───────────────────┤\n",
       "│ conv2d_6 (\u001b[38;5;33mConv2D\u001b[0m)   │ (\u001b[38;5;45mNone\u001b[0m, \u001b[38;5;34m25\u001b[0m, \u001b[38;5;34m25\u001b[0m,    │    \u001b[38;5;34m100,480\u001b[0m │ conv2d_5[\u001b[38;5;34m0\u001b[0m][\u001b[38;5;34m0\u001b[0m]    │\n",
       "│                     │ \u001b[38;5;34m128\u001b[0m)              │            │                   │\n",
       "├─────────────────────┼───────────────────┼────────────┼───────────────────┤\n",
       "│ conv2d_7 (\u001b[38;5;33mConv2D\u001b[0m)   │ (\u001b[38;5;45mNone\u001b[0m, \u001b[38;5;34m25\u001b[0m, \u001b[38;5;34m25\u001b[0m,    │        \u001b[38;5;34m416\u001b[0m │ max_pooling2d[\u001b[38;5;34m0\u001b[0m]… │\n",
       "│                     │ \u001b[38;5;34m32\u001b[0m)               │            │                   │\n",
       "├─────────────────────┼───────────────────┼────────────┼───────────────────┤\n",
       "│ flatten_1 (\u001b[38;5;33mFlatten\u001b[0m) │ (\u001b[38;5;45mNone\u001b[0m, \u001b[38;5;34m7500\u001b[0m)      │          \u001b[38;5;34m0\u001b[0m │ keras_tensor[\u001b[38;5;34m0\u001b[0m][\u001b[38;5;34m…\u001b[0m │\n",
       "├─────────────────────┼───────────────────┼────────────┼───────────────────┤\n",
       "│ concatenate         │ (\u001b[38;5;45mNone\u001b[0m, \u001b[38;5;34m25\u001b[0m, \u001b[38;5;34m25\u001b[0m,    │          \u001b[38;5;34m0\u001b[0m │ conv2d[\u001b[38;5;34m0\u001b[0m][\u001b[38;5;34m0\u001b[0m],     │\n",
       "│ (\u001b[38;5;33mConcatenate\u001b[0m)       │ \u001b[38;5;34m672\u001b[0m)              │            │ conv2d_2[\u001b[38;5;34m0\u001b[0m][\u001b[38;5;34m0\u001b[0m],   │\n",
       "│                     │                   │            │ conv2d_4[\u001b[38;5;34m0\u001b[0m][\u001b[38;5;34m0\u001b[0m],   │\n",
       "│                     │                   │            │ conv2d_6[\u001b[38;5;34m0\u001b[0m][\u001b[38;5;34m0\u001b[0m],   │\n",
       "│                     │                   │            │ conv2d_7[\u001b[38;5;34m0\u001b[0m][\u001b[38;5;34m0\u001b[0m]    │\n",
       "├─────────────────────┼───────────────────┼────────────┼───────────────────┤\n",
       "│ dense_1 (\u001b[38;5;33mDense\u001b[0m)     │ (\u001b[38;5;45mNone\u001b[0m, \u001b[38;5;34m16\u001b[0m)        │    \u001b[38;5;34m120,016\u001b[0m │ flatten_1[\u001b[38;5;34m0\u001b[0m][\u001b[38;5;34m0\u001b[0m]   │\n",
       "├─────────────────────┼───────────────────┼────────────┼───────────────────┤\n",
       "│ avg_pooling         │ (\u001b[38;5;45mNone\u001b[0m, \u001b[38;5;34m23\u001b[0m, \u001b[38;5;34m23\u001b[0m,    │          \u001b[38;5;34m0\u001b[0m │ concatenate[\u001b[38;5;34m0\u001b[0m][\u001b[38;5;34m0\u001b[0m] │\n",
       "│ (\u001b[38;5;33mAveragePooling2D\u001b[0m)  │ \u001b[38;5;34m672\u001b[0m)              │            │                   │\n",
       "├─────────────────────┼───────────────────┼────────────┼───────────────────┤\n",
       "│ dropout_1 (\u001b[38;5;33mDropout\u001b[0m) │ (\u001b[38;5;45mNone\u001b[0m, \u001b[38;5;34m16\u001b[0m)        │          \u001b[38;5;34m0\u001b[0m │ dense_1[\u001b[38;5;34m0\u001b[0m][\u001b[38;5;34m0\u001b[0m]     │\n",
       "├─────────────────────┼───────────────────┼────────────┼───────────────────┤\n",
       "│ flatten (\u001b[38;5;33mFlatten\u001b[0m)   │ (\u001b[38;5;45mNone\u001b[0m, \u001b[38;5;34m355488\u001b[0m)    │          \u001b[38;5;34m0\u001b[0m │ avg_pooling[\u001b[38;5;34m0\u001b[0m][\u001b[38;5;34m0\u001b[0m] │\n",
       "├─────────────────────┼───────────────────┼────────────┼───────────────────┤\n",
       "│ dense_2 (\u001b[38;5;33mDense\u001b[0m)     │ (\u001b[38;5;45mNone\u001b[0m, \u001b[38;5;34m16\u001b[0m)        │        \u001b[38;5;34m272\u001b[0m │ dropout_1[\u001b[38;5;34m0\u001b[0m][\u001b[38;5;34m0\u001b[0m]   │\n",
       "├─────────────────────┼───────────────────┼────────────┼───────────────────┤\n",
       "│ dense (\u001b[38;5;33mDense\u001b[0m)       │ (\u001b[38;5;45mNone\u001b[0m, \u001b[38;5;34m16\u001b[0m)        │  \u001b[38;5;34m5,687,824\u001b[0m │ flatten[\u001b[38;5;34m0\u001b[0m][\u001b[38;5;34m0\u001b[0m]     │\n",
       "├─────────────────────┼───────────────────┼────────────┼───────────────────┤\n",
       "│ dropout_2 (\u001b[38;5;33mDropout\u001b[0m) │ (\u001b[38;5;45mNone\u001b[0m, \u001b[38;5;34m16\u001b[0m)        │          \u001b[38;5;34m0\u001b[0m │ dense_2[\u001b[38;5;34m0\u001b[0m][\u001b[38;5;34m0\u001b[0m]     │\n",
       "├─────────────────────┼───────────────────┼────────────┼───────────────────┤\n",
       "│ dropout (\u001b[38;5;33mDropout\u001b[0m)   │ (\u001b[38;5;45mNone\u001b[0m, \u001b[38;5;34m16\u001b[0m)        │          \u001b[38;5;34m0\u001b[0m │ dense[\u001b[38;5;34m0\u001b[0m][\u001b[38;5;34m0\u001b[0m]       │\n",
       "├─────────────────────┼───────────────────┼────────────┼───────────────────┤\n",
       "│ concatenate_1       │ (\u001b[38;5;45mNone\u001b[0m, \u001b[38;5;34m32\u001b[0m)        │          \u001b[38;5;34m0\u001b[0m │ dropout_2[\u001b[38;5;34m0\u001b[0m][\u001b[38;5;34m0\u001b[0m],  │\n",
       "│ (\u001b[38;5;33mConcatenate\u001b[0m)       │                   │            │ dropout[\u001b[38;5;34m0\u001b[0m][\u001b[38;5;34m0\u001b[0m]     │\n",
       "├─────────────────────┼───────────────────┼────────────┼───────────────────┤\n",
       "│ dense_3 (\u001b[38;5;33mDense\u001b[0m)     │ (\u001b[38;5;45mNone\u001b[0m, \u001b[38;5;34m32\u001b[0m)        │      \u001b[38;5;34m1,056\u001b[0m │ concatenate_1[\u001b[38;5;34m0\u001b[0m]… │\n",
       "├─────────────────────┼───────────────────┼────────────┼───────────────────┤\n",
       "│ dropout_3 (\u001b[38;5;33mDropout\u001b[0m) │ (\u001b[38;5;45mNone\u001b[0m, \u001b[38;5;34m32\u001b[0m)        │          \u001b[38;5;34m0\u001b[0m │ dense_3[\u001b[38;5;34m0\u001b[0m][\u001b[38;5;34m0\u001b[0m]     │\n",
       "├─────────────────────┼───────────────────┼────────────┼───────────────────┤\n",
       "│ dense_4 (\u001b[38;5;33mDense\u001b[0m)     │ (\u001b[38;5;45mNone\u001b[0m, \u001b[38;5;34m16\u001b[0m)        │        \u001b[38;5;34m528\u001b[0m │ dropout_3[\u001b[38;5;34m0\u001b[0m][\u001b[38;5;34m0\u001b[0m]   │\n",
       "├─────────────────────┼───────────────────┼────────────┼───────────────────┤\n",
       "│ prob (\u001b[38;5;33mActivation\u001b[0m)   │ (\u001b[38;5;45mNone\u001b[0m, \u001b[38;5;34m16\u001b[0m)        │          \u001b[38;5;34m0\u001b[0m │ dense_4[\u001b[38;5;34m0\u001b[0m][\u001b[38;5;34m0\u001b[0m]     │\n",
       "└─────────────────────┴───────────────────┴────────────┴───────────────────┘\n"
      ]
     },
     "metadata": {},
     "output_type": "display_data"
    },
    {
     "data": {
      "text/html": [
       "<pre style=\"white-space:pre;overflow-x:auto;line-height:normal;font-family:Menlo,'DejaVu Sans Mono',consolas,'Courier New',monospace\"><span style=\"font-weight: bold\"> Total params: </span><span style=\"color: #00af00; text-decoration-color: #00af00\">6,077,632</span> (23.18 MB)\n",
       "</pre>\n"
      ],
      "text/plain": [
       "\u001b[1m Total params: \u001b[0m\u001b[38;5;34m6,077,632\u001b[0m (23.18 MB)\n"
      ]
     },
     "metadata": {},
     "output_type": "display_data"
    },
    {
     "data": {
      "text/html": [
       "<pre style=\"white-space:pre;overflow-x:auto;line-height:normal;font-family:Menlo,'DejaVu Sans Mono',consolas,'Courier New',monospace\"><span style=\"font-weight: bold\"> Trainable params: </span><span style=\"color: #00af00; text-decoration-color: #00af00\">6,077,632</span> (23.18 MB)\n",
       "</pre>\n"
      ],
      "text/plain": [
       "\u001b[1m Trainable params: \u001b[0m\u001b[38;5;34m6,077,632\u001b[0m (23.18 MB)\n"
      ]
     },
     "metadata": {},
     "output_type": "display_data"
    },
    {
     "data": {
      "text/html": [
       "<pre style=\"white-space:pre;overflow-x:auto;line-height:normal;font-family:Menlo,'DejaVu Sans Mono',consolas,'Courier New',monospace\"><span style=\"font-weight: bold\"> Non-trainable params: </span><span style=\"color: #00af00; text-decoration-color: #00af00\">0</span> (0.00 B)\n",
       "</pre>\n"
      ],
      "text/plain": [
       "\u001b[1m Non-trainable params: \u001b[0m\u001b[38;5;34m0\u001b[0m (0.00 B)\n"
      ]
     },
     "metadata": {},
     "output_type": "display_data"
    },
    {
     "name": "stdout",
     "output_type": "stream",
     "text": [
      "You must install pydot (`pip install pydot`) for `plot_model` to work.\n",
      "You must install pydot (`pip install pydot`) for `plot_model` to work.\n",
      "Epoch 1/500\n"
     ]
    },
    {
     "name": "stderr",
     "output_type": "stream",
     "text": [
      "WARNING: All log messages before absl::InitializeLog() is called are written to STDERR\n",
      "I0000 00:00:1737308456.621653  191227 service.cc:148] XLA service 0x73c71c011350 initialized for platform CUDA (this does not guarantee that XLA will be used). Devices:\n",
      "I0000 00:00:1737308456.621675  191227 service.cc:156]   StreamExecutor device (0): NVIDIA GeForce GTX 1070, Compute Capability 6.1\n",
      "I0000 00:00:1737308456.929137  191227 cuda_dnn.cc:529] Loaded cuDNN version 90300\n"
     ]
    },
    {
     "name": "stdout",
     "output_type": "stream",
     "text": [
      "\u001b[1m  2/124\u001b[0m \u001b[37m━━━━━━━━━━━━━━━━━━━━\u001b[0m \u001b[1m6s\u001b[0m 55ms/step - accuracy: 0.1136 - loss: 5.5678  "
     ]
    },
    {
     "name": "stderr",
     "output_type": "stream",
     "text": [
      "I0000 00:00:1737308464.304465  191227 device_compiler.h:188] Compiled cluster using XLA!  This line is logged at most once for the lifetime of the process.\n"
     ]
    },
    {
     "name": "stdout",
     "output_type": "stream",
     "text": [
      "\u001b[1m124/124\u001b[0m \u001b[32m━━━━━━━━━━━━━━━━━━━━\u001b[0m\u001b[37m\u001b[0m \u001b[1m0s\u001b[0m 86ms/step - accuracy: 0.7024 - loss: 3.2697\n",
      "Epoch 1: accuracy improved from -inf to 0.83409, saving model to SA_100-best-model.keras\n",
      "\u001b[1m124/124\u001b[0m \u001b[32m━━━━━━━━━━━━━━━━━━━━\u001b[0m\u001b[37m\u001b[0m \u001b[1m21s\u001b[0m 90ms/step - accuracy: 0.7035 - loss: 3.2585\n",
      "Epoch 2/500\n",
      "\u001b[1m123/124\u001b[0m \u001b[32m━━━━━━━━━━━━━━━━━━━\u001b[0m\u001b[37m━\u001b[0m \u001b[1m0s\u001b[0m 50ms/step - accuracy: 0.9342 - loss: 0.9632\n",
      "Epoch 2: accuracy improved from 0.83409 to 0.95486, saving model to SA_100-best-model.keras\n",
      "\u001b[1m124/124\u001b[0m \u001b[32m━━━━━━━━━━━━━━━━━━━━\u001b[0m\u001b[37m\u001b[0m \u001b[1m7s\u001b[0m 53ms/step - accuracy: 0.9345 - loss: 0.9617\n",
      "Epoch 3/500\n",
      "\u001b[1m123/124\u001b[0m \u001b[32m━━━━━━━━━━━━━━━━━━━\u001b[0m\u001b[37m━\u001b[0m \u001b[1m0s\u001b[0m 44ms/step - accuracy: 0.9808 - loss: 0.7338\n",
      "Epoch 3: accuracy improved from 0.95486 to 0.98362, saving model to SA_100-best-model.keras\n",
      "\u001b[1m124/124\u001b[0m \u001b[32m━━━━━━━━━━━━━━━━━━━━\u001b[0m\u001b[37m\u001b[0m \u001b[1m6s\u001b[0m 48ms/step - accuracy: 0.9808 - loss: 0.7334\n",
      "Epoch 4/500\n",
      "\u001b[1m123/124\u001b[0m \u001b[32m━━━━━━━━━━━━━━━━━━━\u001b[0m\u001b[37m━\u001b[0m \u001b[1m0s\u001b[0m 43ms/step - accuracy: 0.9867 - loss: 0.6632\n",
      "Epoch 4: accuracy improved from 0.98362 to 0.98793, saving model to SA_100-best-model.keras\n",
      "\u001b[1m124/124\u001b[0m \u001b[32m━━━━━━━━━━━━━━━━━━━━\u001b[0m\u001b[37m\u001b[0m \u001b[1m6s\u001b[0m 47ms/step - accuracy: 0.9867 - loss: 0.6629\n",
      "Epoch 5/500\n",
      "\u001b[1m123/124\u001b[0m \u001b[32m━━━━━━━━━━━━━━━━━━━\u001b[0m\u001b[37m━\u001b[0m \u001b[1m0s\u001b[0m 43ms/step - accuracy: 0.9891 - loss: 0.5956\n",
      "Epoch 5: accuracy improved from 0.98793 to 0.99064, saving model to SA_100-best-model.keras\n",
      "\u001b[1m124/124\u001b[0m \u001b[32m━━━━━━━━━━━━━━━━━━━━\u001b[0m\u001b[37m\u001b[0m \u001b[1m6s\u001b[0m 47ms/step - accuracy: 0.9891 - loss: 0.5953\n",
      "Epoch 6/500\n",
      "\u001b[1m123/124\u001b[0m \u001b[32m━━━━━━━━━━━━━━━━━━━\u001b[0m\u001b[37m━\u001b[0m \u001b[1m0s\u001b[0m 44ms/step - accuracy: 0.9925 - loss: 0.5378\n",
      "Epoch 6: accuracy improved from 0.99064 to 0.99279, saving model to SA_100-best-model.keras\n",
      "\u001b[1m124/124\u001b[0m \u001b[32m━━━━━━━━━━━━━━━━━━━━\u001b[0m\u001b[37m\u001b[0m \u001b[1m6s\u001b[0m 47ms/step - accuracy: 0.9925 - loss: 0.5376\n",
      "Epoch 7/500\n",
      "\u001b[1m123/124\u001b[0m \u001b[32m━━━━━━━━━━━━━━━━━━━\u001b[0m\u001b[37m━\u001b[0m \u001b[1m0s\u001b[0m 44ms/step - accuracy: 0.9934 - loss: 0.4954\n",
      "Epoch 7: accuracy improved from 0.99279 to 0.99415, saving model to SA_100-best-model.keras\n",
      "\u001b[1m124/124\u001b[0m \u001b[32m━━━━━━━━━━━━━━━━━━━━\u001b[0m\u001b[37m\u001b[0m \u001b[1m6s\u001b[0m 47ms/step - accuracy: 0.9934 - loss: 0.4952\n",
      "Epoch 8/500\n",
      "\u001b[1m123/124\u001b[0m \u001b[32m━━━━━━━━━━━━━━━━━━━\u001b[0m\u001b[37m━\u001b[0m \u001b[1m0s\u001b[0m 46ms/step - accuracy: 0.9957 - loss: 0.4521\n",
      "Epoch 8: accuracy improved from 0.99415 to 0.99563, saving model to SA_100-best-model.keras\n",
      "\u001b[1m124/124\u001b[0m \u001b[32m━━━━━━━━━━━━━━━━━━━━\u001b[0m\u001b[37m\u001b[0m \u001b[1m6s\u001b[0m 49ms/step - accuracy: 0.9957 - loss: 0.4520\n",
      "Epoch 9/500\n",
      "\u001b[1m124/124\u001b[0m \u001b[32m━━━━━━━━━━━━━━━━━━━━\u001b[0m\u001b[37m\u001b[0m \u001b[1m0s\u001b[0m 46ms/step - accuracy: 0.9955 - loss: 0.4179\n",
      "Epoch 9: accuracy improved from 0.99563 to 0.99569, saving model to SA_100-best-model.keras\n",
      "\u001b[1m124/124\u001b[0m \u001b[32m━━━━━━━━━━━━━━━━━━━━\u001b[0m\u001b[37m\u001b[0m \u001b[1m6s\u001b[0m 50ms/step - accuracy: 0.9955 - loss: 0.4178\n",
      "Epoch 10/500\n",
      "\u001b[1m123/124\u001b[0m \u001b[32m━━━━━━━━━━━━━━━━━━━\u001b[0m\u001b[37m━\u001b[0m \u001b[1m0s\u001b[0m 47ms/step - accuracy: 0.9962 - loss: 0.3871\n",
      "Epoch 10: accuracy improved from 0.99569 to 0.99624, saving model to SA_100-best-model.keras\n",
      "\u001b[1m124/124\u001b[0m \u001b[32m━━━━━━━━━━━━━━━━━━━━\u001b[0m\u001b[37m\u001b[0m \u001b[1m6s\u001b[0m 52ms/step - accuracy: 0.9962 - loss: 0.3870\n",
      "Epoch 11/500\n",
      "\u001b[1m123/124\u001b[0m \u001b[32m━━━━━━━━━━━━━━━━━━━\u001b[0m\u001b[37m━\u001b[0m \u001b[1m0s\u001b[0m 49ms/step - accuracy: 0.9968 - loss: 0.3552\n",
      "Epoch 11: accuracy did not improve from 0.99624\n",
      "\u001b[1m124/124\u001b[0m \u001b[32m━━━━━━━━━━━━━━━━━━━━\u001b[0m\u001b[37m\u001b[0m \u001b[1m6s\u001b[0m 49ms/step - accuracy: 0.9967 - loss: 0.3551\n",
      "Epoch 12/500\n",
      "\u001b[1m124/124\u001b[0m \u001b[32m━━━━━━━━━━━━━━━━━━━━\u001b[0m\u001b[37m\u001b[0m \u001b[1m0s\u001b[0m 49ms/step - accuracy: 0.9951 - loss: 0.3353\n",
      "Epoch 12: accuracy did not improve from 0.99624\n",
      "\u001b[1m124/124\u001b[0m \u001b[32m━━━━━━━━━━━━━━━━━━━━\u001b[0m\u001b[37m\u001b[0m \u001b[1m6s\u001b[0m 49ms/step - accuracy: 0.9951 - loss: 0.3353\n",
      "Epoch 13/500\n",
      "\u001b[1m123/124\u001b[0m \u001b[32m━━━━━━━━━━━━━━━━━━━\u001b[0m\u001b[37m━\u001b[0m \u001b[1m0s\u001b[0m 49ms/step - accuracy: 0.9963 - loss: 0.3089\n",
      "Epoch 13: accuracy improved from 0.99624 to 0.99630, saving model to SA_100-best-model.keras\n",
      "\u001b[1m124/124\u001b[0m \u001b[32m━━━━━━━━━━━━━━━━━━━━\u001b[0m\u001b[37m\u001b[0m \u001b[1m7s\u001b[0m 53ms/step - accuracy: 0.9963 - loss: 0.3088\n",
      "Epoch 14/500\n",
      "\u001b[1m123/124\u001b[0m \u001b[32m━━━━━━━━━━━━━━━━━━━\u001b[0m\u001b[37m━\u001b[0m \u001b[1m0s\u001b[0m 49ms/step - accuracy: 0.9952 - loss: 0.2908\n",
      "Epoch 14: accuracy did not improve from 0.99630\n",
      "\u001b[1m124/124\u001b[0m \u001b[32m━━━━━━━━━━━━━━━━━━━━\u001b[0m\u001b[37m\u001b[0m \u001b[1m6s\u001b[0m 49ms/step - accuracy: 0.9952 - loss: 0.2907\n",
      "Epoch 15/500\n",
      "\u001b[1m123/124\u001b[0m \u001b[32m━━━━━━━━━━━━━━━━━━━\u001b[0m\u001b[37m━\u001b[0m \u001b[1m0s\u001b[0m 48ms/step - accuracy: 0.9954 - loss: 0.2743\n",
      "Epoch 15: accuracy improved from 0.99630 to 0.99643, saving model to SA_100-best-model.keras\n",
      "\u001b[1m124/124\u001b[0m \u001b[32m━━━━━━━━━━━━━━━━━━━━\u001b[0m\u001b[37m\u001b[0m \u001b[1m6s\u001b[0m 52ms/step - accuracy: 0.9954 - loss: 0.2742\n",
      "Epoch 16/500\n",
      "\u001b[1m123/124\u001b[0m \u001b[32m━━━━━━━━━━━━━━━━━━━\u001b[0m\u001b[37m━\u001b[0m \u001b[1m0s\u001b[0m 48ms/step - accuracy: 0.9970 - loss: 0.2544\n",
      "Epoch 16: accuracy improved from 0.99643 to 0.99717, saving model to SA_100-best-model.keras\n",
      "\u001b[1m124/124\u001b[0m \u001b[32m━━━━━━━━━━━━━━━━━━━━\u001b[0m\u001b[37m\u001b[0m \u001b[1m6s\u001b[0m 52ms/step - accuracy: 0.9970 - loss: 0.2544\n",
      "Epoch 17/500\n",
      "\u001b[1m124/124\u001b[0m \u001b[32m━━━━━━━━━━━━━━━━━━━━\u001b[0m\u001b[37m\u001b[0m \u001b[1m0s\u001b[0m 47ms/step - accuracy: 0.9972 - loss: 0.2382\n",
      "Epoch 17: accuracy improved from 0.99717 to 0.99729, saving model to SA_100-best-model.keras\n",
      "\u001b[1m124/124\u001b[0m \u001b[32m━━━━━━━━━━━━━━━━━━━━\u001b[0m\u001b[37m\u001b[0m \u001b[1m6s\u001b[0m 52ms/step - accuracy: 0.9972 - loss: 0.2382\n",
      "Epoch 18/500\n",
      "\u001b[1m124/124\u001b[0m \u001b[32m━━━━━━━━━━━━━━━━━━━━\u001b[0m\u001b[37m\u001b[0m \u001b[1m0s\u001b[0m 47ms/step - accuracy: 0.9973 - loss: 0.2229\n",
      "Epoch 18: accuracy did not improve from 0.99729\n",
      "\u001b[1m124/124\u001b[0m \u001b[32m━━━━━━━━━━━━━━━━━━━━\u001b[0m\u001b[37m\u001b[0m \u001b[1m6s\u001b[0m 48ms/step - accuracy: 0.9973 - loss: 0.2229\n",
      "Epoch 19/500\n",
      "\u001b[1m123/124\u001b[0m \u001b[32m━━━━━━━━━━━━━━━━━━━\u001b[0m\u001b[37m━\u001b[0m \u001b[1m0s\u001b[0m 48ms/step - accuracy: 0.9967 - loss: 0.2105\n",
      "Epoch 19: accuracy did not improve from 0.99729\n",
      "\u001b[1m124/124\u001b[0m \u001b[32m━━━━━━━━━━━━━━━━━━━━\u001b[0m\u001b[37m\u001b[0m \u001b[1m6s\u001b[0m 48ms/step - accuracy: 0.9967 - loss: 0.2105\n",
      "Epoch 20/500\n",
      "\u001b[1m123/124\u001b[0m \u001b[32m━━━━━━━━━━━━━━━━━━━\u001b[0m\u001b[37m━\u001b[0m \u001b[1m0s\u001b[0m 47ms/step - accuracy: 0.9966 - loss: 0.2013\n",
      "Epoch 20: accuracy did not improve from 0.99729\n",
      "\u001b[1m124/124\u001b[0m \u001b[32m━━━━━━━━━━━━━━━━━━━━\u001b[0m\u001b[37m\u001b[0m \u001b[1m6s\u001b[0m 47ms/step - accuracy: 0.9966 - loss: 0.2012\n",
      "Epoch 21/500\n",
      "\u001b[1m123/124\u001b[0m \u001b[32m━━━━━━━━━━━━━━━━━━━\u001b[0m\u001b[37m━\u001b[0m \u001b[1m0s\u001b[0m 47ms/step - accuracy: 0.9982 - loss: 0.1883\n",
      "Epoch 21: accuracy improved from 0.99729 to 0.99754, saving model to SA_100-best-model.keras\n",
      "\u001b[1m124/124\u001b[0m \u001b[32m━━━━━━━━━━━━━━━━━━━━\u001b[0m\u001b[37m\u001b[0m \u001b[1m6s\u001b[0m 51ms/step - accuracy: 0.9981 - loss: 0.1883\n",
      "Epoch 22/500\n",
      "\u001b[1m123/124\u001b[0m \u001b[32m━━━━━━━━━━━━━━━━━━━\u001b[0m\u001b[37m━\u001b[0m \u001b[1m0s\u001b[0m 47ms/step - accuracy: 0.9965 - loss: 0.1845\n",
      "Epoch 22: accuracy did not improve from 0.99754\n",
      "\u001b[1m124/124\u001b[0m \u001b[32m━━━━━━━━━━━━━━━━━━━━\u001b[0m\u001b[37m\u001b[0m \u001b[1m6s\u001b[0m 47ms/step - accuracy: 0.9965 - loss: 0.1845\n",
      "Epoch 23/500\n",
      "\u001b[1m123/124\u001b[0m \u001b[32m━━━━━━━━━━━━━━━━━━━\u001b[0m\u001b[37m━\u001b[0m \u001b[1m0s\u001b[0m 47ms/step - accuracy: 0.9970 - loss: 0.1722\n",
      "Epoch 23: accuracy did not improve from 0.99754\n",
      "\u001b[1m124/124\u001b[0m \u001b[32m━━━━━━━━━━━━━━━━━━━━\u001b[0m\u001b[37m\u001b[0m \u001b[1m6s\u001b[0m 47ms/step - accuracy: 0.9970 - loss: 0.1722\n",
      "Epoch 24/500\n",
      "\u001b[1m123/124\u001b[0m \u001b[32m━━━━━━━━━━━━━━━━━━━\u001b[0m\u001b[37m━\u001b[0m \u001b[1m0s\u001b[0m 47ms/step - accuracy: 0.9962 - loss: 0.1656\n",
      "Epoch 24: accuracy did not improve from 0.99754\n",
      "\u001b[1m124/124\u001b[0m \u001b[32m━━━━━━━━━━━━━━━━━━━━\u001b[0m\u001b[37m\u001b[0m \u001b[1m6s\u001b[0m 47ms/step - accuracy: 0.9962 - loss: 0.1656\n",
      "Epoch 25/500\n",
      "\u001b[1m124/124\u001b[0m \u001b[32m━━━━━━━━━━━━━━━━━━━━\u001b[0m\u001b[37m\u001b[0m \u001b[1m0s\u001b[0m 46ms/step - accuracy: 0.9973 - loss: 0.1567\n",
      "Epoch 25: accuracy improved from 0.99754 to 0.99778, saving model to SA_100-best-model.keras\n",
      "\u001b[1m124/124\u001b[0m \u001b[32m━━━━━━━━━━━━━━━━━━━━\u001b[0m\u001b[37m\u001b[0m \u001b[1m6s\u001b[0m 50ms/step - accuracy: 0.9973 - loss: 0.1567\n",
      "Epoch 26/500\n",
      "\u001b[1m123/124\u001b[0m \u001b[32m━━━━━━━━━━━━━━━━━━━\u001b[0m\u001b[37m━\u001b[0m \u001b[1m0s\u001b[0m 47ms/step - accuracy: 0.9974 - loss: 0.1502\n",
      "Epoch 26: accuracy did not improve from 0.99778\n",
      "\u001b[1m124/124\u001b[0m \u001b[32m━━━━━━━━━━━━━━━━━━━━\u001b[0m\u001b[37m\u001b[0m \u001b[1m6s\u001b[0m 47ms/step - accuracy: 0.9974 - loss: 0.1502\n",
      "Epoch 27/500\n",
      "\u001b[1m124/124\u001b[0m \u001b[32m━━━━━━━━━━━━━━━━━━━━\u001b[0m\u001b[37m\u001b[0m \u001b[1m0s\u001b[0m 47ms/step - accuracy: 0.9975 - loss: 0.1438\n",
      "Epoch 27: accuracy improved from 0.99778 to 0.99784, saving model to SA_100-best-model.keras\n",
      "\u001b[1m124/124\u001b[0m \u001b[32m━━━━━━━━━━━━━━━━━━━━\u001b[0m\u001b[37m\u001b[0m \u001b[1m6s\u001b[0m 51ms/step - accuracy: 0.9975 - loss: 0.1437\n",
      "Epoch 28/500\n",
      "\u001b[1m124/124\u001b[0m \u001b[32m━━━━━━━━━━━━━━━━━━━━\u001b[0m\u001b[37m\u001b[0m \u001b[1m0s\u001b[0m 47ms/step - accuracy: 0.9972 - loss: 0.1405\n",
      "Epoch 28: accuracy did not improve from 0.99784\n",
      "\u001b[1m124/124\u001b[0m \u001b[32m━━━━━━━━━━━━━━━━━━━━\u001b[0m\u001b[37m\u001b[0m \u001b[1m6s\u001b[0m 47ms/step - accuracy: 0.9972 - loss: 0.1405\n",
      "Epoch 29/500\n",
      "\u001b[1m124/124\u001b[0m \u001b[32m━━━━━━━━━━━━━━━━━━━━\u001b[0m\u001b[37m\u001b[0m \u001b[1m0s\u001b[0m 46ms/step - accuracy: 0.9987 - loss: 0.1337\n",
      "Epoch 29: accuracy improved from 0.99784 to 0.99840, saving model to SA_100-best-model.keras\n",
      "\u001b[1m124/124\u001b[0m \u001b[32m━━━━━━━━━━━━━━━━━━━━\u001b[0m\u001b[37m\u001b[0m \u001b[1m6s\u001b[0m 50ms/step - accuracy: 0.9986 - loss: 0.1337\n",
      "Epoch 30/500\n",
      "\u001b[1m123/124\u001b[0m \u001b[32m━━━━━━━━━━━━━━━━━━━\u001b[0m\u001b[37m━\u001b[0m \u001b[1m0s\u001b[0m 47ms/step - accuracy: 0.9979 - loss: 0.1295\n",
      "Epoch 30: accuracy did not improve from 0.99840\n",
      "\u001b[1m124/124\u001b[0m \u001b[32m━━━━━━━━━━━━━━━━━━━━\u001b[0m\u001b[37m\u001b[0m \u001b[1m6s\u001b[0m 47ms/step - accuracy: 0.9979 - loss: 0.1295\n",
      "Epoch 31/500\n",
      "\u001b[1m124/124\u001b[0m \u001b[32m━━━━━━━━━━━━━━━━━━━━\u001b[0m\u001b[37m\u001b[0m \u001b[1m0s\u001b[0m 46ms/step - accuracy: 0.9976 - loss: 0.1277\n",
      "Epoch 31: accuracy did not improve from 0.99840\n",
      "\u001b[1m124/124\u001b[0m \u001b[32m━━━━━━━━━━━━━━━━━━━━\u001b[0m\u001b[37m\u001b[0m \u001b[1m6s\u001b[0m 47ms/step - accuracy: 0.9976 - loss: 0.1277\n",
      "Epoch 32/500\n",
      "\u001b[1m124/124\u001b[0m \u001b[32m━━━━━━━━━━━━━━━━━━━━\u001b[0m\u001b[37m\u001b[0m \u001b[1m0s\u001b[0m 46ms/step - accuracy: 0.9988 - loss: 0.1211\n",
      "Epoch 32: accuracy did not improve from 0.99840\n",
      "\u001b[1m124/124\u001b[0m \u001b[32m━━━━━━━━━━━━━━━━━━━━\u001b[0m\u001b[37m\u001b[0m \u001b[1m6s\u001b[0m 46ms/step - accuracy: 0.9988 - loss: 0.1211\n",
      "Epoch 33/500\n",
      "\u001b[1m123/124\u001b[0m \u001b[32m━━━━━━━━━━━━━━━━━━━\u001b[0m\u001b[37m━\u001b[0m \u001b[1m0s\u001b[0m 47ms/step - accuracy: 0.9940 - loss: 0.1298\n",
      "Epoch 33: accuracy did not improve from 0.99840\n",
      "\u001b[1m124/124\u001b[0m \u001b[32m━━━━━━━━━━━━━━━━━━━━\u001b[0m\u001b[37m\u001b[0m \u001b[1m6s\u001b[0m 46ms/step - accuracy: 0.9940 - loss: 0.1297\n",
      "Epoch 34/500\n",
      "\u001b[1m124/124\u001b[0m \u001b[32m━━━━━━━━━━━━━━━━━━━━\u001b[0m\u001b[37m\u001b[0m \u001b[1m0s\u001b[0m 46ms/step - accuracy: 0.9976 - loss: 0.1159\n",
      "Epoch 34: accuracy did not improve from 0.99840\n",
      "\u001b[1m124/124\u001b[0m \u001b[32m━━━━━━━━━━━━━━━━━━━━\u001b[0m\u001b[37m\u001b[0m \u001b[1m6s\u001b[0m 47ms/step - accuracy: 0.9976 - loss: 0.1159\n",
      "Epoch 35/500\n",
      "\u001b[1m124/124\u001b[0m \u001b[32m━━━━━━━━━━━━━━━━━━━━\u001b[0m\u001b[37m\u001b[0m \u001b[1m0s\u001b[0m 46ms/step - accuracy: 0.9980 - loss: 0.1140\n",
      "Epoch 35: accuracy did not improve from 0.99840\n",
      "\u001b[1m124/124\u001b[0m \u001b[32m━━━━━━━━━━━━━━━━━━━━\u001b[0m\u001b[37m\u001b[0m \u001b[1m6s\u001b[0m 46ms/step - accuracy: 0.9980 - loss: 0.1140\n",
      "Epoch 36/500\n",
      "\u001b[1m124/124\u001b[0m \u001b[32m━━━━━━━━━━━━━━━━━━━━\u001b[0m\u001b[37m\u001b[0m \u001b[1m0s\u001b[0m 46ms/step - accuracy: 0.9976 - loss: 0.1121\n",
      "Epoch 36: accuracy did not improve from 0.99840\n",
      "\u001b[1m124/124\u001b[0m \u001b[32m━━━━━━━━━━━━━━━━━━━━\u001b[0m\u001b[37m\u001b[0m \u001b[1m6s\u001b[0m 47ms/step - accuracy: 0.9976 - loss: 0.1121\n",
      "Epoch 37/500\n",
      "\u001b[1m124/124\u001b[0m \u001b[32m━━━━━━━━━━━━━━━━━━━━\u001b[0m\u001b[37m\u001b[0m \u001b[1m0s\u001b[0m 46ms/step - accuracy: 0.9980 - loss: 0.1099\n",
      "Epoch 37: accuracy did not improve from 0.99840\n",
      "\u001b[1m124/124\u001b[0m \u001b[32m━━━━━━━━━━━━━━━━━━━━\u001b[0m\u001b[37m\u001b[0m \u001b[1m6s\u001b[0m 46ms/step - accuracy: 0.9980 - loss: 0.1099\n",
      "Epoch 38/500\n",
      "\u001b[1m124/124\u001b[0m \u001b[32m━━━━━━━━━━━━━━━━━━━━\u001b[0m\u001b[37m\u001b[0m \u001b[1m0s\u001b[0m 46ms/step - accuracy: 0.9978 - loss: 0.1055\n",
      "Epoch 38: accuracy did not improve from 0.99840\n",
      "\u001b[1m124/124\u001b[0m \u001b[32m━━━━━━━━━━━━━━━━━━━━\u001b[0m\u001b[37m\u001b[0m \u001b[1m6s\u001b[0m 46ms/step - accuracy: 0.9978 - loss: 0.1055\n",
      "Epoch 39/500\n",
      "\u001b[1m123/124\u001b[0m \u001b[32m━━━━━━━━━━━━━━━━━━━\u001b[0m\u001b[37m━\u001b[0m \u001b[1m0s\u001b[0m 46ms/step - accuracy: 0.9975 - loss: 0.1056\n",
      "Epoch 39: accuracy did not improve from 0.99840\n",
      "\u001b[1m124/124\u001b[0m \u001b[32m━━━━━━━━━━━━━━━━━━━━\u001b[0m\u001b[37m\u001b[0m \u001b[1m6s\u001b[0m 46ms/step - accuracy: 0.9975 - loss: 0.1056\n",
      "Epoch 40/500\n",
      "\u001b[1m124/124\u001b[0m \u001b[32m━━━━━━━━━━━━━━━━━━━━\u001b[0m\u001b[37m\u001b[0m \u001b[1m0s\u001b[0m 45ms/step - accuracy: 0.9988 - loss: 0.1018\n",
      "Epoch 40: accuracy did not improve from 0.99840\n",
      "\u001b[1m124/124\u001b[0m \u001b[32m━━━━━━━━━━━━━━━━━━━━\u001b[0m\u001b[37m\u001b[0m \u001b[1m6s\u001b[0m 46ms/step - accuracy: 0.9988 - loss: 0.1018\n",
      "Epoch 41/500\n",
      "\u001b[1m124/124\u001b[0m \u001b[32m━━━━━━━━━━━━━━━━━━━━\u001b[0m\u001b[37m\u001b[0m \u001b[1m0s\u001b[0m 46ms/step - accuracy: 0.9986 - loss: 0.1002\n",
      "Epoch 41: accuracy did not improve from 0.99840\n",
      "\u001b[1m124/124\u001b[0m \u001b[32m━━━━━━━━━━━━━━━━━━━━\u001b[0m\u001b[37m\u001b[0m \u001b[1m6s\u001b[0m 46ms/step - accuracy: 0.9986 - loss: 0.1002\n",
      "Epoch 42/500\n",
      "\u001b[1m124/124\u001b[0m \u001b[32m━━━━━━━━━━━━━━━━━━━━\u001b[0m\u001b[37m\u001b[0m \u001b[1m0s\u001b[0m 46ms/step - accuracy: 0.9981 - loss: 0.0984\n",
      "Epoch 42: accuracy did not improve from 0.99840\n",
      "\u001b[1m124/124\u001b[0m \u001b[32m━━━━━━━━━━━━━━━━━━━━\u001b[0m\u001b[37m\u001b[0m \u001b[1m6s\u001b[0m 46ms/step - accuracy: 0.9981 - loss: 0.0984\n",
      "Epoch 43/500\n",
      "\u001b[1m124/124\u001b[0m \u001b[32m━━━━━━━━━━━━━━━━━━━━\u001b[0m\u001b[37m\u001b[0m \u001b[1m0s\u001b[0m 46ms/step - accuracy: 0.9981 - loss: 0.0979\n",
      "Epoch 43: accuracy did not improve from 0.99840\n",
      "\u001b[1m124/124\u001b[0m \u001b[32m━━━━━━━━━━━━━━━━━━━━\u001b[0m\u001b[37m\u001b[0m \u001b[1m6s\u001b[0m 46ms/step - accuracy: 0.9981 - loss: 0.0979\n",
      "Epoch 44/500\n",
      "\u001b[1m124/124\u001b[0m \u001b[32m━━━━━━━━━━━━━━━━━━━━\u001b[0m\u001b[37m\u001b[0m \u001b[1m0s\u001b[0m 46ms/step - accuracy: 0.9993 - loss: 0.0936\n",
      "Epoch 44: accuracy improved from 0.99840 to 0.99871, saving model to SA_100-best-model.keras\n",
      "\u001b[1m124/124\u001b[0m \u001b[32m━━━━━━━━━━━━━━━━━━━━\u001b[0m\u001b[37m\u001b[0m \u001b[1m6s\u001b[0m 50ms/step - accuracy: 0.9993 - loss: 0.0936\n",
      "Epoch 45/500\n",
      "\u001b[1m124/124\u001b[0m \u001b[32m━━━━━━━━━━━━━━━━━━━━\u001b[0m\u001b[37m\u001b[0m \u001b[1m0s\u001b[0m 46ms/step - accuracy: 0.9972 - loss: 0.0959\n",
      "Epoch 45: accuracy did not improve from 0.99871\n",
      "\u001b[1m124/124\u001b[0m \u001b[32m━━━━━━━━━━━━━━━━━━━━\u001b[0m\u001b[37m\u001b[0m \u001b[1m6s\u001b[0m 46ms/step - accuracy: 0.9972 - loss: 0.0959\n",
      "Epoch 46/500\n",
      "\u001b[1m123/124\u001b[0m \u001b[32m━━━━━━━━━━━━━━━━━━━\u001b[0m\u001b[37m━\u001b[0m \u001b[1m0s\u001b[0m 47ms/step - accuracy: 0.9982 - loss: 0.0923\n",
      "Epoch 46: accuracy did not improve from 0.99871\n",
      "\u001b[1m124/124\u001b[0m \u001b[32m━━━━━━━━━━━━━━━━━━━━\u001b[0m\u001b[37m\u001b[0m \u001b[1m6s\u001b[0m 47ms/step - accuracy: 0.9982 - loss: 0.0923\n",
      "Epoch 47/500\n",
      "\u001b[1m123/124\u001b[0m \u001b[32m━━━━━━━━━━━━━━━━━━━\u001b[0m\u001b[37m━\u001b[0m \u001b[1m0s\u001b[0m 46ms/step - accuracy: 0.9986 - loss: 0.0913\n",
      "Epoch 47: accuracy did not improve from 0.99871\n",
      "\u001b[1m124/124\u001b[0m \u001b[32m━━━━━━━━━━━━━━━━━━━━\u001b[0m\u001b[37m\u001b[0m \u001b[1m6s\u001b[0m 47ms/step - accuracy: 0.9986 - loss: 0.0913\n",
      "Epoch 48/500\n",
      "\u001b[1m124/124\u001b[0m \u001b[32m━━━━━━━━━━━━━━━━━━━━\u001b[0m\u001b[37m\u001b[0m \u001b[1m0s\u001b[0m 46ms/step - accuracy: 0.9981 - loss: 0.0905\n",
      "Epoch 48: accuracy did not improve from 0.99871\n",
      "\u001b[1m124/124\u001b[0m \u001b[32m━━━━━━━━━━━━━━━━━━━━\u001b[0m\u001b[37m\u001b[0m \u001b[1m6s\u001b[0m 46ms/step - accuracy: 0.9981 - loss: 0.0905\n",
      "Epoch 49/500\n",
      "\u001b[1m123/124\u001b[0m \u001b[32m━━━━━━━━━━━━━━━━━━━\u001b[0m\u001b[37m━\u001b[0m \u001b[1m0s\u001b[0m 47ms/step - accuracy: 0.9971 - loss: 0.0922\n",
      "Epoch 49: accuracy did not improve from 0.99871\n",
      "\u001b[1m124/124\u001b[0m \u001b[32m━━━━━━━━━━━━━━━━━━━━\u001b[0m\u001b[37m\u001b[0m \u001b[1m6s\u001b[0m 46ms/step - accuracy: 0.9971 - loss: 0.0922\n",
      "Epoch 50/500\n",
      "\u001b[1m124/124\u001b[0m \u001b[32m━━━━━━━━━━━━━━━━━━━━\u001b[0m\u001b[37m\u001b[0m \u001b[1m0s\u001b[0m 46ms/step - accuracy: 0.9962 - loss: 0.0941\n",
      "Epoch 50: accuracy did not improve from 0.99871\n",
      "\u001b[1m124/124\u001b[0m \u001b[32m━━━━━━━━━━━━━━━━━━━━\u001b[0m\u001b[37m\u001b[0m \u001b[1m6s\u001b[0m 46ms/step - accuracy: 0.9962 - loss: 0.0941\n",
      "Epoch 51/500\n",
      "\u001b[1m124/124\u001b[0m \u001b[32m━━━━━━━━━━━━━━━━━━━━\u001b[0m\u001b[37m\u001b[0m \u001b[1m0s\u001b[0m 47ms/step - accuracy: 0.9984 - loss: 0.0896\n",
      "Epoch 51: accuracy did not improve from 0.99871\n",
      "\u001b[1m124/124\u001b[0m \u001b[32m━━━━━━━━━━━━━━━━━━━━\u001b[0m\u001b[37m\u001b[0m \u001b[1m6s\u001b[0m 47ms/step - accuracy: 0.9984 - loss: 0.0896\n",
      "Epoch 52/500\n",
      "\u001b[1m123/124\u001b[0m \u001b[32m━━━━━━━━━━━━━━━━━━━\u001b[0m\u001b[37m━\u001b[0m \u001b[1m0s\u001b[0m 46ms/step - accuracy: 0.9983 - loss: 0.0879\n",
      "Epoch 52: accuracy did not improve from 0.99871\n",
      "\u001b[1m124/124\u001b[0m \u001b[32m━━━━━━━━━━━━━━━━━━━━\u001b[0m\u001b[37m\u001b[0m \u001b[1m6s\u001b[0m 46ms/step - accuracy: 0.9983 - loss: 0.0879\n",
      "Epoch 53/500\n",
      "\u001b[1m124/124\u001b[0m \u001b[32m━━━━━━━━━━━━━━━━━━━━\u001b[0m\u001b[37m\u001b[0m \u001b[1m0s\u001b[0m 45ms/step - accuracy: 0.9972 - loss: 0.0881\n",
      "Epoch 53: accuracy did not improve from 0.99871\n",
      "\u001b[1m124/124\u001b[0m \u001b[32m━━━━━━━━━━━━━━━━━━━━\u001b[0m\u001b[37m\u001b[0m \u001b[1m6s\u001b[0m 46ms/step - accuracy: 0.9972 - loss: 0.0881\n",
      "Epoch 54/500\n",
      "\u001b[1m124/124\u001b[0m \u001b[32m━━━━━━━━━━━━━━━━━━━━\u001b[0m\u001b[37m\u001b[0m \u001b[1m0s\u001b[0m 46ms/step - accuracy: 0.9985 - loss: 0.0864\n",
      "Epoch 54: accuracy did not improve from 0.99871\n",
      "\u001b[1m124/124\u001b[0m \u001b[32m━━━━━━━━━━━━━━━━━━━━\u001b[0m\u001b[37m\u001b[0m \u001b[1m6s\u001b[0m 46ms/step - accuracy: 0.9985 - loss: 0.0864\n",
      "Epoch 55/500\n",
      "\u001b[1m123/124\u001b[0m \u001b[32m━━━━━━━━━━━━━━━━━━━\u001b[0m\u001b[37m━\u001b[0m \u001b[1m0s\u001b[0m 46ms/step - accuracy: 0.9982 - loss: 0.0854\n",
      "Epoch 55: accuracy did not improve from 0.99871\n",
      "\u001b[1m124/124\u001b[0m \u001b[32m━━━━━━━━━━━━━━━━━━━━\u001b[0m\u001b[37m\u001b[0m \u001b[1m6s\u001b[0m 46ms/step - accuracy: 0.9982 - loss: 0.0854\n",
      "Epoch 56/500\n",
      "\u001b[1m124/124\u001b[0m \u001b[32m━━━━━━━━━━━━━━━━━━━━\u001b[0m\u001b[37m\u001b[0m \u001b[1m0s\u001b[0m 45ms/step - accuracy: 0.9984 - loss: 0.0852\n",
      "Epoch 56: accuracy did not improve from 0.99871\n",
      "\u001b[1m124/124\u001b[0m \u001b[32m━━━━━━━━━━━━━━━━━━━━\u001b[0m\u001b[37m\u001b[0m \u001b[1m6s\u001b[0m 46ms/step - accuracy: 0.9984 - loss: 0.0852\n",
      "Epoch 57/500\n",
      "\u001b[1m124/124\u001b[0m \u001b[32m━━━━━━━━━━━━━━━━━━━━\u001b[0m\u001b[37m\u001b[0m \u001b[1m0s\u001b[0m 46ms/step - accuracy: 0.9985 - loss: 0.0835\n",
      "Epoch 57: accuracy did not improve from 0.99871\n",
      "\u001b[1m124/124\u001b[0m \u001b[32m━━━━━━━━━━━━━━━━━━━━\u001b[0m\u001b[37m\u001b[0m \u001b[1m6s\u001b[0m 46ms/step - accuracy: 0.9985 - loss: 0.0835\n",
      "Epoch 58/500\n",
      "\u001b[1m123/124\u001b[0m \u001b[32m━━━━━━━━━━━━━━━━━━━\u001b[0m\u001b[37m━\u001b[0m \u001b[1m0s\u001b[0m 47ms/step - accuracy: 0.9985 - loss: 0.0839\n",
      "Epoch 58: accuracy did not improve from 0.99871\n",
      "\u001b[1m124/124\u001b[0m \u001b[32m━━━━━━━━━━━━━━━━━━━━\u001b[0m\u001b[37m\u001b[0m \u001b[1m10s\u001b[0m 47ms/step - accuracy: 0.9985 - loss: 0.0839\n",
      "Epoch 59/500\n",
      "\u001b[1m124/124\u001b[0m \u001b[32m━━━━━━━━━━━━━━━━━━━━\u001b[0m\u001b[37m\u001b[0m \u001b[1m0s\u001b[0m 46ms/step - accuracy: 0.9978 - loss: 0.0855\n",
      "Epoch 59: accuracy did not improve from 0.99871\n",
      "\u001b[1m124/124\u001b[0m \u001b[32m━━━━━━━━━━━━━━━━━━━━\u001b[0m\u001b[37m\u001b[0m \u001b[1m6s\u001b[0m 47ms/step - accuracy: 0.9978 - loss: 0.0855\n",
      "Epoch 60/500\n",
      "\u001b[1m123/124\u001b[0m \u001b[32m━━━━━━━━━━━━━━━━━━━\u001b[0m\u001b[37m━\u001b[0m \u001b[1m0s\u001b[0m 45ms/step - accuracy: 0.9970 - loss: 0.0893\n",
      "Epoch 60: accuracy did not improve from 0.99871\n",
      "\u001b[1m124/124\u001b[0m \u001b[32m━━━━━━━━━━━━━━━━━━━━\u001b[0m\u001b[37m\u001b[0m \u001b[1m10s\u001b[0m 45ms/step - accuracy: 0.9969 - loss: 0.0901\n",
      "Epoch 61/500\n",
      "\u001b[1m124/124\u001b[0m \u001b[32m━━━━━━━━━━━━━━━━━━━━\u001b[0m\u001b[37m\u001b[0m \u001b[1m0s\u001b[0m 45ms/step - accuracy: 0.9570 - loss: 0.2149\n",
      "Epoch 61: accuracy did not improve from 0.99871\n",
      "\u001b[1m124/124\u001b[0m \u001b[32m━━━━━━━━━━━━━━━━━━━━\u001b[0m\u001b[37m\u001b[0m \u001b[1m6s\u001b[0m 45ms/step - accuracy: 0.9572 - loss: 0.2143\n",
      "Epoch 62/500\n",
      "\u001b[1m124/124\u001b[0m \u001b[32m━━━━━━━━━━━━━━━━━━━━\u001b[0m\u001b[37m\u001b[0m \u001b[1m0s\u001b[0m 46ms/step - accuracy: 0.9967 - loss: 0.0948\n",
      "Epoch 62: accuracy did not improve from 0.99871\n",
      "\u001b[1m124/124\u001b[0m \u001b[32m━━━━━━━━━━━━━━━━━━━━\u001b[0m\u001b[37m\u001b[0m \u001b[1m6s\u001b[0m 46ms/step - accuracy: 0.9967 - loss: 0.0948\n",
      "Epoch 63/500\n",
      "\u001b[1m123/124\u001b[0m \u001b[32m━━━━━━━━━━━━━━━━━━━\u001b[0m\u001b[37m━\u001b[0m \u001b[1m0s\u001b[0m 45ms/step - accuracy: 0.9983 - loss: 0.0883\n",
      "Epoch 63: accuracy did not improve from 0.99871\n",
      "\u001b[1m124/124\u001b[0m \u001b[32m━━━━━━━━━━━━━━━━━━━━\u001b[0m\u001b[37m\u001b[0m \u001b[1m6s\u001b[0m 45ms/step - accuracy: 0.9983 - loss: 0.0883\n",
      "Epoch 64/500\n",
      "\u001b[1m123/124\u001b[0m \u001b[32m━━━━━━━━━━━━━━━━━━━\u001b[0m\u001b[37m━\u001b[0m \u001b[1m0s\u001b[0m 45ms/step - accuracy: 0.9984 - loss: 0.0874\n",
      "Epoch 64: accuracy did not improve from 0.99871\n",
      "\u001b[1m124/124\u001b[0m \u001b[32m━━━━━━━━━━━━━━━━━━━━\u001b[0m\u001b[37m\u001b[0m \u001b[1m6s\u001b[0m 45ms/step - accuracy: 0.9984 - loss: 0.0874\n",
      "Epoch 65/500\n",
      "\u001b[1m123/124\u001b[0m \u001b[32m━━━━━━━━━━━━━━━━━━━\u001b[0m\u001b[37m━\u001b[0m \u001b[1m0s\u001b[0m 45ms/step - accuracy: 0.9983 - loss: 0.0853\n",
      "Epoch 65: accuracy did not improve from 0.99871\n",
      "\u001b[1m124/124\u001b[0m \u001b[32m━━━━━━━━━━━━━━━━━━━━\u001b[0m\u001b[37m\u001b[0m \u001b[1m6s\u001b[0m 45ms/step - accuracy: 0.9983 - loss: 0.0853\n",
      "Epoch 66/500\n",
      "\u001b[1m123/124\u001b[0m \u001b[32m━━━━━━━━━━━━━━━━━━━\u001b[0m\u001b[37m━\u001b[0m \u001b[1m0s\u001b[0m 45ms/step - accuracy: 0.9981 - loss: 0.0834\n",
      "Epoch 66: accuracy did not improve from 0.99871\n",
      "\u001b[1m124/124\u001b[0m \u001b[32m━━━━━━━━━━━━━━━━━━━━\u001b[0m\u001b[37m\u001b[0m \u001b[1m6s\u001b[0m 45ms/step - accuracy: 0.9981 - loss: 0.0834\n",
      "Epoch 67/500\n",
      "\u001b[1m123/124\u001b[0m \u001b[32m━━━━━━━━━━━━━━━━━━━\u001b[0m\u001b[37m━\u001b[0m \u001b[1m0s\u001b[0m 45ms/step - accuracy: 0.9982 - loss: 0.0827\n",
      "Epoch 67: accuracy did not improve from 0.99871\n",
      "\u001b[1m124/124\u001b[0m \u001b[32m━━━━━━━━━━━━━━━━━━━━\u001b[0m\u001b[37m\u001b[0m \u001b[1m6s\u001b[0m 45ms/step - accuracy: 0.9982 - loss: 0.0827\n",
      "Epoch 68/500\n",
      "\u001b[1m124/124\u001b[0m \u001b[32m━━━━━━━━━━━━━━━━━━━━\u001b[0m\u001b[37m\u001b[0m \u001b[1m0s\u001b[0m 45ms/step - accuracy: 0.9985 - loss: 0.0816\n",
      "Epoch 68: accuracy did not improve from 0.99871\n",
      "\u001b[1m124/124\u001b[0m \u001b[32m━━━━━━━━━━━━━━━━━━━━\u001b[0m\u001b[37m\u001b[0m \u001b[1m6s\u001b[0m 46ms/step - accuracy: 0.9985 - loss: 0.0816\n",
      "Epoch 69/500\n",
      "\u001b[1m124/124\u001b[0m \u001b[32m━━━━━━━━━━━━━━━━━━━━\u001b[0m\u001b[37m\u001b[0m \u001b[1m0s\u001b[0m 45ms/step - accuracy: 0.9987 - loss: 0.0803\n",
      "Epoch 69: accuracy did not improve from 0.99871\n",
      "\u001b[1m124/124\u001b[0m \u001b[32m━━━━━━━━━━━━━━━━━━━━\u001b[0m\u001b[37m\u001b[0m \u001b[1m6s\u001b[0m 46ms/step - accuracy: 0.9987 - loss: 0.0803\n",
      "Epoch 70/500\n",
      "\u001b[1m123/124\u001b[0m \u001b[32m━━━━━━━━━━━━━━━━━━━\u001b[0m\u001b[37m━\u001b[0m \u001b[1m0s\u001b[0m 47ms/step - accuracy: 0.9984 - loss: 0.0819\n",
      "Epoch 70: accuracy did not improve from 0.99871\n",
      "\u001b[1m124/124\u001b[0m \u001b[32m━━━━━━━━━━━━━━━━━━━━\u001b[0m\u001b[37m\u001b[0m \u001b[1m6s\u001b[0m 47ms/step - accuracy: 0.9984 - loss: 0.0818\n",
      "Epoch 71/500\n",
      "\u001b[1m123/124\u001b[0m \u001b[32m━━━━━━━━━━━━━━━━━━━\u001b[0m\u001b[37m━\u001b[0m \u001b[1m0s\u001b[0m 46ms/step - accuracy: 0.9988 - loss: 0.0799\n",
      "Epoch 71: accuracy improved from 0.99871 to 0.99877, saving model to SA_100-best-model.keras\n",
      "\u001b[1m124/124\u001b[0m \u001b[32m━━━━━━━━━━━━━━━━━━━━\u001b[0m\u001b[37m\u001b[0m \u001b[1m6s\u001b[0m 50ms/step - accuracy: 0.9988 - loss: 0.0799\n",
      "Epoch 72/500\n",
      "\u001b[1m123/124\u001b[0m \u001b[32m━━━━━━━━━━━━━━━━━━━\u001b[0m\u001b[37m━\u001b[0m \u001b[1m0s\u001b[0m 45ms/step - accuracy: 0.9988 - loss: 0.0795\n",
      "Epoch 72: accuracy did not improve from 0.99877\n",
      "\u001b[1m124/124\u001b[0m \u001b[32m━━━━━━━━━━━━━━━━━━━━\u001b[0m\u001b[37m\u001b[0m \u001b[1m6s\u001b[0m 45ms/step - accuracy: 0.9988 - loss: 0.0795\n",
      "Epoch 73/500\n",
      "\u001b[1m124/124\u001b[0m \u001b[32m━━━━━━━━━━━━━━━━━━━━\u001b[0m\u001b[37m\u001b[0m \u001b[1m0s\u001b[0m 45ms/step - accuracy: 0.9974 - loss: 0.0815\n",
      "Epoch 73: accuracy did not improve from 0.99877\n",
      "\u001b[1m124/124\u001b[0m \u001b[32m━━━━━━━━━━━━━━━━━━━━\u001b[0m\u001b[37m\u001b[0m \u001b[1m6s\u001b[0m 45ms/step - accuracy: 0.9974 - loss: 0.0815\n",
      "Epoch 74/500\n",
      "\u001b[1m123/124\u001b[0m \u001b[32m━━━━━━━━━━━━━━━━━━━\u001b[0m\u001b[37m━\u001b[0m \u001b[1m0s\u001b[0m 45ms/step - accuracy: 0.9975 - loss: 0.0810\n",
      "Epoch 74: accuracy did not improve from 0.99877\n",
      "\u001b[1m124/124\u001b[0m \u001b[32m━━━━━━━━━━━━━━━━━━━━\u001b[0m\u001b[37m\u001b[0m \u001b[1m6s\u001b[0m 45ms/step - accuracy: 0.9975 - loss: 0.0810\n",
      "Epoch 75/500\n",
      "\u001b[1m123/124\u001b[0m \u001b[32m━━━━━━━━━━━━━━━━━━━\u001b[0m\u001b[37m━\u001b[0m \u001b[1m0s\u001b[0m 45ms/step - accuracy: 0.9984 - loss: 0.0788\n",
      "Epoch 75: accuracy did not improve from 0.99877\n",
      "\u001b[1m124/124\u001b[0m \u001b[32m━━━━━━━━━━━━━━━━━━━━\u001b[0m\u001b[37m\u001b[0m \u001b[1m6s\u001b[0m 45ms/step - accuracy: 0.9984 - loss: 0.0788\n",
      "Epoch 76/500\n",
      "\u001b[1m124/124\u001b[0m \u001b[32m━━━━━━━━━━━━━━━━━━━━\u001b[0m\u001b[37m\u001b[0m \u001b[1m0s\u001b[0m 44ms/step - accuracy: 0.9991 - loss: 0.0777\n",
      "Epoch 76: accuracy improved from 0.99877 to 0.99908, saving model to SA_100-best-model.keras\n",
      "\u001b[1m124/124\u001b[0m \u001b[32m━━━━━━━━━━━━━━━━━━━━\u001b[0m\u001b[37m\u001b[0m \u001b[1m6s\u001b[0m 48ms/step - accuracy: 0.9991 - loss: 0.0777\n",
      "Epoch 77/500\n",
      "\u001b[1m123/124\u001b[0m \u001b[32m━━━━━━━━━━━━━━━━━━━\u001b[0m\u001b[37m━\u001b[0m \u001b[1m0s\u001b[0m 45ms/step - accuracy: 0.9988 - loss: 0.0774\n",
      "Epoch 77: accuracy did not improve from 0.99908\n",
      "\u001b[1m124/124\u001b[0m \u001b[32m━━━━━━━━━━━━━━━━━━━━\u001b[0m\u001b[37m\u001b[0m \u001b[1m6s\u001b[0m 45ms/step - accuracy: 0.9988 - loss: 0.0774\n",
      "Epoch 78/500\n",
      "\u001b[1m124/124\u001b[0m \u001b[32m━━━━━━━━━━━━━━━━━━━━\u001b[0m\u001b[37m\u001b[0m \u001b[1m0s\u001b[0m 45ms/step - accuracy: 0.9979 - loss: 0.0797\n",
      "Epoch 78: accuracy did not improve from 0.99908\n",
      "\u001b[1m124/124\u001b[0m \u001b[32m━━━━━━━━━━━━━━━━━━━━\u001b[0m\u001b[37m\u001b[0m \u001b[1m6s\u001b[0m 45ms/step - accuracy: 0.9979 - loss: 0.0797\n",
      "Epoch 79/500\n",
      "\u001b[1m123/124\u001b[0m \u001b[32m━━━━━━━━━━━━━━━━━━━\u001b[0m\u001b[37m━\u001b[0m \u001b[1m0s\u001b[0m 45ms/step - accuracy: 0.9985 - loss: 0.0766\n",
      "Epoch 79: accuracy did not improve from 0.99908\n",
      "\u001b[1m124/124\u001b[0m \u001b[32m━━━━━━━━━━━━━━━━━━━━\u001b[0m\u001b[37m\u001b[0m \u001b[1m6s\u001b[0m 45ms/step - accuracy: 0.9985 - loss: 0.0766\n",
      "Epoch 80/500\n",
      "\u001b[1m123/124\u001b[0m \u001b[32m━━━━━━━━━━━━━━━━━━━\u001b[0m\u001b[37m━\u001b[0m \u001b[1m0s\u001b[0m 45ms/step - accuracy: 0.9982 - loss: 0.0776\n",
      "Epoch 80: accuracy did not improve from 0.99908\n",
      "\u001b[1m124/124\u001b[0m \u001b[32m━━━━━━━━━━━━━━━━━━━━\u001b[0m\u001b[37m\u001b[0m \u001b[1m6s\u001b[0m 45ms/step - accuracy: 0.9982 - loss: 0.0776\n",
      "Epoch 81/500\n",
      "\u001b[1m123/124\u001b[0m \u001b[32m━━━━━━━━━━━━━━━━━━━\u001b[0m\u001b[37m━\u001b[0m \u001b[1m0s\u001b[0m 45ms/step - accuracy: 0.9978 - loss: 0.0776\n",
      "Epoch 81: accuracy did not improve from 0.99908\n",
      "\u001b[1m124/124\u001b[0m \u001b[32m━━━━━━━━━━━━━━━━━━━━\u001b[0m\u001b[37m\u001b[0m \u001b[1m6s\u001b[0m 45ms/step - accuracy: 0.9978 - loss: 0.0776\n",
      "Epoch 82/500\n",
      "\u001b[1m123/124\u001b[0m \u001b[32m━━━━━━━━━━━━━━━━━━━\u001b[0m\u001b[37m━\u001b[0m \u001b[1m0s\u001b[0m 45ms/step - accuracy: 0.9975 - loss: 0.0787\n",
      "Epoch 82: accuracy did not improve from 0.99908\n",
      "\u001b[1m124/124\u001b[0m \u001b[32m━━━━━━━━━━━━━━━━━━━━\u001b[0m\u001b[37m\u001b[0m \u001b[1m6s\u001b[0m 45ms/step - accuracy: 0.9975 - loss: 0.0786\n",
      "Epoch 83/500\n",
      "\u001b[1m124/124\u001b[0m \u001b[32m━━━━━━━━━━━━━━━━━━━━\u001b[0m\u001b[37m\u001b[0m \u001b[1m0s\u001b[0m 45ms/step - accuracy: 0.9980 - loss: 0.0760\n",
      "Epoch 83: accuracy did not improve from 0.99908\n",
      "\u001b[1m124/124\u001b[0m \u001b[32m━━━━━━━━━━━━━━━━━━━━\u001b[0m\u001b[37m\u001b[0m \u001b[1m6s\u001b[0m 45ms/step - accuracy: 0.9980 - loss: 0.0760\n",
      "Epoch 84/500\n",
      "\u001b[1m123/124\u001b[0m \u001b[32m━━━━━━━━━━━━━━━━━━━\u001b[0m\u001b[37m━\u001b[0m \u001b[1m0s\u001b[0m 44ms/step - accuracy: 0.9987 - loss: 0.0750\n",
      "Epoch 84: accuracy did not improve from 0.99908\n",
      "\u001b[1m124/124\u001b[0m \u001b[32m━━━━━━━━━━━━━━━━━━━━\u001b[0m\u001b[37m\u001b[0m \u001b[1m5s\u001b[0m 44ms/step - accuracy: 0.9987 - loss: 0.0751\n",
      "Epoch 85/500\n",
      "\u001b[1m123/124\u001b[0m \u001b[32m━━━━━━━━━━━━━━━━━━━\u001b[0m\u001b[37m━\u001b[0m \u001b[1m0s\u001b[0m 44ms/step - accuracy: 0.9989 - loss: 0.0752\n",
      "Epoch 85: accuracy did not improve from 0.99908\n",
      "\u001b[1m124/124\u001b[0m \u001b[32m━━━━━━━━━━━━━━━━━━━━\u001b[0m\u001b[37m\u001b[0m \u001b[1m5s\u001b[0m 44ms/step - accuracy: 0.9989 - loss: 0.0752\n",
      "Epoch 86/500\n",
      "\u001b[1m124/124\u001b[0m \u001b[32m━━━━━━━━━━━━━━━━━━━━\u001b[0m\u001b[37m\u001b[0m \u001b[1m0s\u001b[0m 44ms/step - accuracy: 0.9989 - loss: 0.0744\n",
      "Epoch 86: accuracy did not improve from 0.99908\n",
      "\u001b[1m124/124\u001b[0m \u001b[32m━━━━━━━━━━━━━━━━━━━━\u001b[0m\u001b[37m\u001b[0m \u001b[1m6s\u001b[0m 44ms/step - accuracy: 0.9989 - loss: 0.0744\n",
      "Epoch 87/500\n",
      "\u001b[1m123/124\u001b[0m \u001b[32m━━━━━━━━━━━━━━━━━━━\u001b[0m\u001b[37m━\u001b[0m \u001b[1m0s\u001b[0m 44ms/step - accuracy: 0.9977 - loss: 0.0772\n",
      "Epoch 87: accuracy did not improve from 0.99908\n",
      "\u001b[1m124/124\u001b[0m \u001b[32m━━━━━━━━━━━━━━━━━━━━\u001b[0m\u001b[37m\u001b[0m \u001b[1m5s\u001b[0m 44ms/step - accuracy: 0.9977 - loss: 0.0772\n",
      "Epoch 88/500\n",
      "\u001b[1m123/124\u001b[0m \u001b[32m━━━━━━━━━━━━━━━━━━━\u001b[0m\u001b[37m━\u001b[0m \u001b[1m0s\u001b[0m 44ms/step - accuracy: 0.9979 - loss: 0.0761\n",
      "Epoch 88: accuracy did not improve from 0.99908\n",
      "\u001b[1m124/124\u001b[0m \u001b[32m━━━━━━━━━━━━━━━━━━━━\u001b[0m\u001b[37m\u001b[0m \u001b[1m5s\u001b[0m 44ms/step - accuracy: 0.9979 - loss: 0.0761\n",
      "Epoch 89/500\n",
      "\u001b[1m123/124\u001b[0m \u001b[32m━━━━━━━━━━━━━━━━━━━\u001b[0m\u001b[37m━\u001b[0m \u001b[1m0s\u001b[0m 44ms/step - accuracy: 0.9981 - loss: 0.0760\n",
      "Epoch 89: accuracy did not improve from 0.99908\n",
      "\u001b[1m124/124\u001b[0m \u001b[32m━━━━━━━━━━━━━━━━━━━━\u001b[0m\u001b[37m\u001b[0m \u001b[1m5s\u001b[0m 44ms/step - accuracy: 0.9981 - loss: 0.0760\n",
      "Epoch 90/500\n",
      "\u001b[1m123/124\u001b[0m \u001b[32m━━━━━━━━━━━━━━━━━━━\u001b[0m\u001b[37m━\u001b[0m \u001b[1m0s\u001b[0m 45ms/step - accuracy: 0.9982 - loss: 0.0751\n",
      "Epoch 90: accuracy did not improve from 0.99908\n",
      "\u001b[1m124/124\u001b[0m \u001b[32m━━━━━━━━━━━━━━━━━━━━\u001b[0m\u001b[37m\u001b[0m \u001b[1m6s\u001b[0m 45ms/step - accuracy: 0.9982 - loss: 0.0751\n",
      "Epoch 91/500\n",
      "\u001b[1m124/124\u001b[0m \u001b[32m━━━━━━━━━━━━━━━━━━━━\u001b[0m\u001b[37m\u001b[0m \u001b[1m0s\u001b[0m 46ms/step - accuracy: 0.9987 - loss: 0.0738\n",
      "Epoch 91: accuracy did not improve from 0.99908\n",
      "\u001b[1m124/124\u001b[0m \u001b[32m━━━━━━━━━━━━━━━━━━━━\u001b[0m\u001b[37m\u001b[0m \u001b[1m6s\u001b[0m 47ms/step - accuracy: 0.9987 - loss: 0.0738\n",
      "Epoch 92/500\n",
      "\u001b[1m123/124\u001b[0m \u001b[32m━━━━━━━━━━━━━━━━━━━\u001b[0m\u001b[37m━\u001b[0m \u001b[1m0s\u001b[0m 46ms/step - accuracy: 0.9971 - loss: 0.0771\n",
      "Epoch 92: accuracy did not improve from 0.99908\n",
      "\u001b[1m124/124\u001b[0m \u001b[32m━━━━━━━━━━━━━━━━━━━━\u001b[0m\u001b[37m\u001b[0m \u001b[1m6s\u001b[0m 46ms/step - accuracy: 0.9971 - loss: 0.0771\n",
      "Epoch 93/500\n",
      "\u001b[1m124/124\u001b[0m \u001b[32m━━━━━━━━━━━━━━━━━━━━\u001b[0m\u001b[37m\u001b[0m \u001b[1m0s\u001b[0m 44ms/step - accuracy: 0.9988 - loss: 0.0737\n",
      "Epoch 93: accuracy did not improve from 0.99908\n",
      "\u001b[1m124/124\u001b[0m \u001b[32m━━━━━━━━━━━━━━━━━━━━\u001b[0m\u001b[37m\u001b[0m \u001b[1m6s\u001b[0m 44ms/step - accuracy: 0.9988 - loss: 0.0737\n",
      "Epoch 94/500\n",
      "\u001b[1m123/124\u001b[0m \u001b[32m━━━━━━━━━━━━━━━━━━━\u001b[0m\u001b[37m━\u001b[0m \u001b[1m0s\u001b[0m 45ms/step - accuracy: 0.9976 - loss: 0.0753\n",
      "Epoch 94: accuracy did not improve from 0.99908\n",
      "\u001b[1m124/124\u001b[0m \u001b[32m━━━━━━━━━━━━━━━━━━━━\u001b[0m\u001b[37m\u001b[0m \u001b[1m6s\u001b[0m 45ms/step - accuracy: 0.9976 - loss: 0.0753\n",
      "Epoch 95/500\n",
      "\u001b[1m123/124\u001b[0m \u001b[32m━━━━━━━━━━━━━━━━━━━\u001b[0m\u001b[37m━\u001b[0m \u001b[1m0s\u001b[0m 44ms/step - accuracy: 0.9995 - loss: 0.0731\n",
      "Epoch 95: accuracy did not improve from 0.99908\n",
      "\u001b[1m124/124\u001b[0m \u001b[32m━━━━━━━━━━━━━━━━━━━━\u001b[0m\u001b[37m\u001b[0m \u001b[1m5s\u001b[0m 44ms/step - accuracy: 0.9995 - loss: 0.0731\n",
      "Epoch 96/500\n",
      "\u001b[1m124/124\u001b[0m \u001b[32m━━━━━━━━━━━━━━━━━━━━\u001b[0m\u001b[37m\u001b[0m \u001b[1m0s\u001b[0m 44ms/step - accuracy: 0.9981 - loss: 0.0752\n",
      "Epoch 96: accuracy did not improve from 0.99908\n",
      "\u001b[1m124/124\u001b[0m \u001b[32m━━━━━━━━━━━━━━━━━━━━\u001b[0m\u001b[37m\u001b[0m \u001b[1m5s\u001b[0m 44ms/step - accuracy: 0.9981 - loss: 0.0752\n",
      "Epoch 97/500\n",
      "\u001b[1m123/124\u001b[0m \u001b[32m━━━━━━━━━━━━━━━━━━━\u001b[0m\u001b[37m━\u001b[0m \u001b[1m0s\u001b[0m 44ms/step - accuracy: 0.9986 - loss: 0.0740\n",
      "Epoch 97: accuracy did not improve from 0.99908\n",
      "\u001b[1m124/124\u001b[0m \u001b[32m━━━━━━━━━━━━━━━━━━━━\u001b[0m\u001b[37m\u001b[0m \u001b[1m5s\u001b[0m 44ms/step - accuracy: 0.9986 - loss: 0.0740\n",
      "Epoch 98/500\n",
      "\u001b[1m124/124\u001b[0m \u001b[32m━━━━━━━━━━━━━━━━━━━━\u001b[0m\u001b[37m\u001b[0m \u001b[1m0s\u001b[0m 44ms/step - accuracy: 0.9990 - loss: 0.0733\n",
      "Epoch 98: accuracy did not improve from 0.99908\n",
      "\u001b[1m124/124\u001b[0m \u001b[32m━━━━━━━━━━━━━━━━━━━━\u001b[0m\u001b[37m\u001b[0m \u001b[1m5s\u001b[0m 44ms/step - accuracy: 0.9990 - loss: 0.0733\n",
      "Epoch 99/500\n",
      "\u001b[1m123/124\u001b[0m \u001b[32m━━━━━━━━━━━━━━━━━━━\u001b[0m\u001b[37m━\u001b[0m \u001b[1m0s\u001b[0m 44ms/step - accuracy: 0.9983 - loss: 0.0735\n",
      "Epoch 99: accuracy did not improve from 0.99908\n",
      "\u001b[1m124/124\u001b[0m \u001b[32m━━━━━━━━━━━━━━━━━━━━\u001b[0m\u001b[37m\u001b[0m \u001b[1m6s\u001b[0m 44ms/step - accuracy: 0.9983 - loss: 0.0735\n",
      "Epoch 100/500\n",
      "\u001b[1m124/124\u001b[0m \u001b[32m━━━━━━━━━━━━━━━━━━━━\u001b[0m\u001b[37m\u001b[0m \u001b[1m0s\u001b[0m 49ms/step - accuracy: 0.9989 - loss: 0.0718\n",
      "Epoch 100: accuracy did not improve from 0.99908\n",
      "\u001b[1m124/124\u001b[0m \u001b[32m━━━━━━━━━━━━━━━━━━━━\u001b[0m\u001b[37m\u001b[0m \u001b[1m6s\u001b[0m 50ms/step - accuracy: 0.9989 - loss: 0.0718\n",
      "Epoch 101/500\n",
      "\u001b[1m123/124\u001b[0m \u001b[32m━━━━━━━━━━━━━━━━━━━\u001b[0m\u001b[37m━\u001b[0m \u001b[1m0s\u001b[0m 45ms/step - accuracy: 0.9979 - loss: 0.0735\n",
      "Epoch 101: accuracy did not improve from 0.99908\n",
      "\u001b[1m124/124\u001b[0m \u001b[32m━━━━━━━━━━━━━━━━━━━━\u001b[0m\u001b[37m\u001b[0m \u001b[1m6s\u001b[0m 45ms/step - accuracy: 0.9979 - loss: 0.0735\n",
      "Epoch 102/500\n",
      "\u001b[1m123/124\u001b[0m \u001b[32m━━━━━━━━━━━━━━━━━━━\u001b[0m\u001b[37m━\u001b[0m \u001b[1m0s\u001b[0m 44ms/step - accuracy: 0.9991 - loss: 0.0715\n",
      "Epoch 102: accuracy did not improve from 0.99908\n",
      "\u001b[1m124/124\u001b[0m \u001b[32m━━━━━━━━━━━━━━━━━━━━\u001b[0m\u001b[37m\u001b[0m \u001b[1m5s\u001b[0m 44ms/step - accuracy: 0.9991 - loss: 0.0716\n",
      "Epoch 103/500\n",
      "\u001b[1m124/124\u001b[0m \u001b[32m━━━━━━━━━━━━━━━━━━━━\u001b[0m\u001b[37m\u001b[0m \u001b[1m0s\u001b[0m 44ms/step - accuracy: 0.9978 - loss: 0.0753\n",
      "Epoch 103: accuracy did not improve from 0.99908\n",
      "\u001b[1m124/124\u001b[0m \u001b[32m━━━━━━━━━━━━━━━━━━━━\u001b[0m\u001b[37m\u001b[0m \u001b[1m5s\u001b[0m 44ms/step - accuracy: 0.9978 - loss: 0.0753\n",
      "Epoch 104/500\n",
      "\u001b[1m124/124\u001b[0m \u001b[32m━━━━━━━━━━━━━━━━━━━━\u001b[0m\u001b[37m\u001b[0m \u001b[1m0s\u001b[0m 45ms/step - accuracy: 0.9970 - loss: 0.0762\n",
      "Epoch 104: accuracy did not improve from 0.99908\n",
      "\u001b[1m124/124\u001b[0m \u001b[32m━━━━━━━━━━━━━━━━━━━━\u001b[0m\u001b[37m\u001b[0m \u001b[1m6s\u001b[0m 45ms/step - accuracy: 0.9970 - loss: 0.0762\n",
      "Epoch 105/500\n",
      "\u001b[1m124/124\u001b[0m \u001b[32m━━━━━━━━━━━━━━━━━━━━\u001b[0m\u001b[37m\u001b[0m \u001b[1m0s\u001b[0m 47ms/step - accuracy: 0.9983 - loss: 0.0730\n",
      "Epoch 105: accuracy did not improve from 0.99908\n",
      "\u001b[1m124/124\u001b[0m \u001b[32m━━━━━━━━━━━━━━━━━━━━\u001b[0m\u001b[37m\u001b[0m \u001b[1m6s\u001b[0m 47ms/step - accuracy: 0.9983 - loss: 0.0730\n",
      "Epoch 106/500\n",
      "\u001b[1m123/124\u001b[0m \u001b[32m━━━━━━━━━━━━━━━━━━━\u001b[0m\u001b[37m━\u001b[0m \u001b[1m0s\u001b[0m 44ms/step - accuracy: 0.9970 - loss: 0.0739\n",
      "Epoch 106: accuracy did not improve from 0.99908\n",
      "\u001b[1m124/124\u001b[0m \u001b[32m━━━━━━━━━━━━━━━━━━━━\u001b[0m\u001b[37m\u001b[0m \u001b[1m5s\u001b[0m 44ms/step - accuracy: 0.9970 - loss: 0.0739\n",
      "Epoch 107/500\n",
      "\u001b[1m123/124\u001b[0m \u001b[32m━━━━━━━━━━━━━━━━━━━\u001b[0m\u001b[37m━\u001b[0m \u001b[1m0s\u001b[0m 44ms/step - accuracy: 0.9992 - loss: 0.0713\n",
      "Epoch 107: accuracy did not improve from 0.99908\n",
      "\u001b[1m124/124\u001b[0m \u001b[32m━━━━━━━━━━━━━━━━━━━━\u001b[0m\u001b[37m\u001b[0m \u001b[1m6s\u001b[0m 44ms/step - accuracy: 0.9992 - loss: 0.0713\n",
      "Epoch 108/500\n",
      "\u001b[1m124/124\u001b[0m \u001b[32m━━━━━━━━━━━━━━━━━━━━\u001b[0m\u001b[37m\u001b[0m \u001b[1m0s\u001b[0m 44ms/step - accuracy: 0.9981 - loss: 0.0722\n",
      "Epoch 108: accuracy did not improve from 0.99908\n",
      "\u001b[1m124/124\u001b[0m \u001b[32m━━━━━━━━━━━━━━━━━━━━\u001b[0m\u001b[37m\u001b[0m \u001b[1m5s\u001b[0m 44ms/step - accuracy: 0.9981 - loss: 0.0722\n",
      "Epoch 109/500\n",
      "\u001b[1m123/124\u001b[0m \u001b[32m━━━━━━━━━━━━━━━━━━━\u001b[0m\u001b[37m━\u001b[0m \u001b[1m0s\u001b[0m 44ms/step - accuracy: 0.9978 - loss: 0.0733\n",
      "Epoch 109: accuracy did not improve from 0.99908\n",
      "\u001b[1m124/124\u001b[0m \u001b[32m━━━━━━━━━━━━━━━━━━━━\u001b[0m\u001b[37m\u001b[0m \u001b[1m5s\u001b[0m 44ms/step - accuracy: 0.9978 - loss: 0.0733\n",
      "Epoch 110/500\n",
      "\u001b[1m124/124\u001b[0m \u001b[32m━━━━━━━━━━━━━━━━━━━━\u001b[0m\u001b[37m\u001b[0m \u001b[1m0s\u001b[0m 44ms/step - accuracy: 0.9992 - loss: 0.0704\n",
      "Epoch 110: accuracy did not improve from 0.99908\n",
      "\u001b[1m124/124\u001b[0m \u001b[32m━━━━━━━━━━━━━━━━━━━━\u001b[0m\u001b[37m\u001b[0m \u001b[1m6s\u001b[0m 44ms/step - accuracy: 0.9992 - loss: 0.0704\n",
      "Epoch 111/500\n",
      "\u001b[1m123/124\u001b[0m \u001b[32m━━━━━━━━━━━━━━━━━━━\u001b[0m\u001b[37m━\u001b[0m \u001b[1m0s\u001b[0m 44ms/step - accuracy: 0.9972 - loss: 0.0754\n",
      "Epoch 111: accuracy did not improve from 0.99908\n",
      "\u001b[1m124/124\u001b[0m \u001b[32m━━━━━━━━━━━━━━━━━━━━\u001b[0m\u001b[37m\u001b[0m \u001b[1m5s\u001b[0m 44ms/step - accuracy: 0.9972 - loss: 0.0754\n",
      "Epoch 112/500\n",
      "\u001b[1m123/124\u001b[0m \u001b[32m━━━━━━━━━━━━━━━━━━━\u001b[0m\u001b[37m━\u001b[0m \u001b[1m0s\u001b[0m 45ms/step - accuracy: 0.9979 - loss: 0.0722\n",
      "Epoch 112: accuracy did not improve from 0.99908\n",
      "\u001b[1m124/124\u001b[0m \u001b[32m━━━━━━━━━━━━━━━━━━━━\u001b[0m\u001b[37m\u001b[0m \u001b[1m6s\u001b[0m 45ms/step - accuracy: 0.9979 - loss: 0.0722\n",
      "Epoch 113/500\n",
      "\u001b[1m124/124\u001b[0m \u001b[32m━━━━━━━━━━━━━━━━━━━━\u001b[0m\u001b[37m\u001b[0m \u001b[1m0s\u001b[0m 45ms/step - accuracy: 0.9965 - loss: 0.0758\n",
      "Epoch 113: accuracy did not improve from 0.99908\n",
      "\u001b[1m124/124\u001b[0m \u001b[32m━━━━━━━━━━━━━━━━━━━━\u001b[0m\u001b[37m\u001b[0m \u001b[1m6s\u001b[0m 45ms/step - accuracy: 0.9965 - loss: 0.0758\n",
      "Epoch 114/500\n",
      "\u001b[1m124/124\u001b[0m \u001b[32m━━━━━━━━━━━━━━━━━━━━\u001b[0m\u001b[37m\u001b[0m \u001b[1m0s\u001b[0m 45ms/step - accuracy: 0.9979 - loss: 0.0741\n",
      "Epoch 114: accuracy did not improve from 0.99908\n",
      "\u001b[1m124/124\u001b[0m \u001b[32m━━━━━━━━━━━━━━━━━━━━\u001b[0m\u001b[37m\u001b[0m \u001b[1m6s\u001b[0m 45ms/step - accuracy: 0.9979 - loss: 0.0741\n",
      "Epoch 115/500\n",
      "\u001b[1m123/124\u001b[0m \u001b[32m━━━━━━━━━━━━━━━━━━━\u001b[0m\u001b[37m━\u001b[0m \u001b[1m0s\u001b[0m 44ms/step - accuracy: 0.9988 - loss: 0.0708\n",
      "Epoch 115: accuracy did not improve from 0.99908\n",
      "\u001b[1m124/124\u001b[0m \u001b[32m━━━━━━━━━━━━━━━━━━━━\u001b[0m\u001b[37m\u001b[0m \u001b[1m5s\u001b[0m 44ms/step - accuracy: 0.9988 - loss: 0.0708\n",
      "Epoch 116/500\n",
      "\u001b[1m123/124\u001b[0m \u001b[32m━━━━━━━━━━━━━━━━━━━\u001b[0m\u001b[37m━\u001b[0m \u001b[1m0s\u001b[0m 44ms/step - accuracy: 0.9852 - loss: 0.1215\n",
      "Epoch 116: accuracy did not improve from 0.99908\n",
      "\u001b[1m124/124\u001b[0m \u001b[32m━━━━━━━━━━━━━━━━━━━━\u001b[0m\u001b[37m\u001b[0m \u001b[1m5s\u001b[0m 44ms/step - accuracy: 0.9851 - loss: 0.1220\n",
      "Epoch 117/500\n",
      "\u001b[1m123/124\u001b[0m \u001b[32m━━━━━━━━━━━━━━━━━━━\u001b[0m\u001b[37m━\u001b[0m \u001b[1m0s\u001b[0m 44ms/step - accuracy: 0.9950 - loss: 0.0855\n",
      "Epoch 117: accuracy did not improve from 0.99908\n",
      "\u001b[1m124/124\u001b[0m \u001b[32m━━━━━━━━━━━━━━━━━━━━\u001b[0m\u001b[37m\u001b[0m \u001b[1m5s\u001b[0m 44ms/step - accuracy: 0.9950 - loss: 0.0854\n",
      "Epoch 118/500\n",
      "\u001b[1m123/124\u001b[0m \u001b[32m━━━━━━━━━━━━━━━━━━━\u001b[0m\u001b[37m━\u001b[0m \u001b[1m0s\u001b[0m 44ms/step - accuracy: 0.9974 - loss: 0.0792\n",
      "Epoch 118: accuracy did not improve from 0.99908\n",
      "\u001b[1m124/124\u001b[0m \u001b[32m━━━━━━━━━━━━━━━━━━━━\u001b[0m\u001b[37m\u001b[0m \u001b[1m5s\u001b[0m 44ms/step - accuracy: 0.9975 - loss: 0.0792\n",
      "Epoch 119/500\n",
      "\u001b[1m124/124\u001b[0m \u001b[32m━━━━━━━━━━━━━━━━━━━━\u001b[0m\u001b[37m\u001b[0m \u001b[1m0s\u001b[0m 44ms/step - accuracy: 0.9986 - loss: 0.0764\n",
      "Epoch 119: accuracy did not improve from 0.99908\n",
      "\u001b[1m124/124\u001b[0m \u001b[32m━━━━━━━━━━━━━━━━━━━━\u001b[0m\u001b[37m\u001b[0m \u001b[1m5s\u001b[0m 44ms/step - accuracy: 0.9986 - loss: 0.0764\n",
      "Epoch 120/500\n",
      "\u001b[1m123/124\u001b[0m \u001b[32m━━━━━━━━━━━━━━━━━━━\u001b[0m\u001b[37m━\u001b[0m \u001b[1m0s\u001b[0m 44ms/step - accuracy: 0.9987 - loss: 0.0750\n",
      "Epoch 120: accuracy did not improve from 0.99908\n",
      "\u001b[1m124/124\u001b[0m \u001b[32m━━━━━━━━━━━━━━━━━━━━\u001b[0m\u001b[37m\u001b[0m \u001b[1m5s\u001b[0m 44ms/step - accuracy: 0.9987 - loss: 0.0750\n",
      "Epoch 121/500\n",
      "\u001b[1m123/124\u001b[0m \u001b[32m━━━━━━━━━━━━━━━━━━━\u001b[0m\u001b[37m━\u001b[0m \u001b[1m0s\u001b[0m 44ms/step - accuracy: 0.9995 - loss: 0.0718\n",
      "Epoch 121: accuracy did not improve from 0.99908\n",
      "\u001b[1m124/124\u001b[0m \u001b[32m━━━━━━━━━━━━━━━━━━━━\u001b[0m\u001b[37m\u001b[0m \u001b[1m5s\u001b[0m 44ms/step - accuracy: 0.9995 - loss: 0.0718\n",
      "Epoch 122/500\n",
      "\u001b[1m124/124\u001b[0m \u001b[32m━━━━━━━━━━━━━━━━━━━━\u001b[0m\u001b[37m\u001b[0m \u001b[1m0s\u001b[0m 46ms/step - accuracy: 0.9991 - loss: 0.0719\n",
      "Epoch 122: accuracy improved from 0.99908 to 0.99914, saving model to SA_100-best-model.keras\n",
      "\u001b[1m124/124\u001b[0m \u001b[32m━━━━━━━━━━━━━━━━━━━━\u001b[0m\u001b[37m\u001b[0m \u001b[1m6s\u001b[0m 50ms/step - accuracy: 0.9991 - loss: 0.0719\n",
      "Epoch 122: early stopping\n"
     ]
    }
   ],
   "source": [
    "if os.path.exists(best_model):\n",
    "    print(f\"Loading existing model from {best_model}\")\n",
    "    model = tf.keras.models.load_model(best_model)\n",
    "    model.compile(loss='categorical_crossentropy', optimizer=FuncOptimizer, metrics=['accuracy'])\n",
    "else: ### if no model file present, create and train model\n",
    "    input_shape =  (window_size, window_size, num_channels)\n",
    "    model = clone_model(build_jigsawHSI(internal_size = filter_size,\n",
    "                          num_classes = output_units,\n",
    "                          verbose=1,\n",
    "                          dimension_filters=hsi_filters, # Was None,\n",
    "                          image_dim = input_shape))\n",
    "    model.summary()\n",
    "    plot_model(model)\n",
    "    plot_model(model, to_file=architecture_img)\n",
    "    # Compile model\n",
    "    model.compile(loss='categorical_crossentropy', optimizer=FuncOptimizer, metrics=['accuracy'])\n",
    "    # Saves the best model, based on accuracy\n",
    "    checkpoint = ModelCheckpoint(best_model, monitor='accuracy', verbose=1, save_best_only=True, mode='auto')\n",
    "    callbacks_list = [checkpoint]\n",
    "    # If no early stopping desired, skip this cell\n",
    "    early_stop = EarlyStopping( monitor = 'loss',\n",
    "                               min_delta=0.001,\n",
    "                               mode='auto',\n",
    "                               verbose=0, patience=max_patience)\n",
    "    callbacks_list = [checkpoint, early_stop]\n",
    "    # Fit the model keeping the history\n",
    "    history = model.fit(x=Xtrain, y=ytrain, batch_size=batch_size, epochs=max_epochs, callbacks=callbacks_list)"
   ]
  },
  {
   "cell_type": "code",
   "execution_count": null,
   "metadata": {
    "colab": {
     "base_uri": "https://localhost:8080/",
     "height": 1000
    },
    "executionInfo": {
     "elapsed": 417831,
     "status": "ok",
     "timestamp": 1602478821720,
     "user": {
      "displayName": "Tanmay Chakraborty",
      "photoUrl": "https://lh3.googleusercontent.com/a-/AOh14Gi7eevbipSJbPNmjfEacGnvwa7ZJkT_EcljzNX6FQ=s64",
      "userId": "10513402671331353489"
     },
     "user_tz": -330
    },
    "id": "OVwsWGf1hfg3",
    "outputId": "66ced090-c536-4f79-9bee-71ded4683b4d"
   },
   "outputs": [],
   "source": []
  },
  {
   "cell_type": "code",
   "execution_count": null,
   "metadata": {},
   "outputs": [],
   "source": []
  },
  {
   "cell_type": "markdown",
   "metadata": {
    "id": "R5-BLNivkkD2"
   },
   "source": [
    "# Validation"
   ]
  },
  {
   "cell_type": "code",
   "execution_count": 25,
   "metadata": {
    "colab": {
     "base_uri": "https://localhost:8080/",
     "height": 445
    },
    "executionInfo": {
     "elapsed": 417824,
     "status": "ok",
     "timestamp": 1602478821723,
     "user": {
      "displayName": "Tanmay Chakraborty",
      "photoUrl": "https://lh3.googleusercontent.com/a-/AOh14Gi7eevbipSJbPNmjfEacGnvwa7ZJkT_EcljzNX6FQ=s64",
      "userId": "10513402671331353489"
     },
     "user_tz": -330
    },
    "id": "rzi0kGwckZIh",
    "outputId": "860ced41-4c23-4c7b-d0d9-88b35f1d005f"
   },
   "outputs": [],
   "source": [
    "# Saves, but does not display, the history charts\n",
    "fig = plt.figure(figsize=(7,7)) \n",
    "plt.ioff()\n",
    "plt.grid() \n",
    "plt.plot(history.history['loss'])\n",
    "#plt.plot(history.history['val_loss'])\n",
    "plt.ylabel('Loss') \n",
    "plt.xlabel('Epochs') \n",
    "plt.legend(['Training','Validation'], loc='upper right') \n",
    "plt.savefig(loss_curve) \n",
    "plt.close(fig)\n",
    "\n",
    "fig = plt.figure(figsize=(7,7)) \n",
    "plt.ioff()\n",
    "plt.ylim(np.min(history.history['accuracy']),1.05) \n",
    "plt.grid() \n",
    "plt.plot(history.history['accuracy'])\n",
    "#plt.plot(history.history['val_acc'])\n",
    "plt.ylabel('Accuracy') \n",
    "plt.xlabel('Epochs') \n",
    "plt.legend(['Training','Validation']) \n",
    "plt.savefig(acc_curve) \n",
    "plt.close(fig) "
   ]
  },
  {
   "cell_type": "code",
   "execution_count": 26,
   "metadata": {},
   "outputs": [
    {
     "data": {
      "image/png": "[encoded data removed]",
      "text/plain": [
       "<Figure size 1400x700 with 2 Axes>"
      ]
     },
     "metadata": {},
     "output_type": "display_data"
    }
   ],
   "source": [
    "# Displays history of training\n",
    "# loss and accuracy by epoch, side by side\n",
    "\n",
    "fig, (ax1, ax2) = plt.subplots(1,2, figsize=(14, 7))\n",
    "ax1.grid() \n",
    "ax1.plot(history.history['loss'])\n",
    "ax1.set_ylabel('Loss') \n",
    "ax1.set_xlabel('Epochs') \n",
    "ax1.legend(['Training','Validation'], loc='upper right') \n",
    "\n",
    "ax2.set_ylim(np.min(history.history['accuracy']),1.05) \n",
    "ax2.grid() \n",
    "ax2.plot(history.history['accuracy'])\n",
    "ax2.set_ylabel('Accuracy') \n",
    "ax2.set_xlabel('Epochs') \n",
    "ax2.legend(['Training','Validation']) \n",
    "plt.show() # plt.tight_layout()"
   ]
  },
  {
   "cell_type": "code",
   "execution_count": 27,
   "metadata": {
    "executionInfo": {
     "elapsed": 418307,
     "status": "ok",
     "timestamp": 1602478822219,
     "user": {
      "displayName": "Tanmay Chakraborty",
      "photoUrl": "https://lh3.googleusercontent.com/a-/AOh14Gi7eevbipSJbPNmjfEacGnvwa7ZJkT_EcljzNX6FQ=s64",
      "userId": "10513402671331353489"
     },
     "user_tz": -330
    },
    "id": "HKSPxOqckkD3"
   },
   "outputs": [],
   "source": [
    "# load best weights\n",
    "model.load_weights(best_model)\n",
    "model.compile(loss='categorical_crossentropy', optimizer=FuncOptimizer, metrics=['accuracy'])"
   ]
  },
  {
   "cell_type": "code",
   "execution_count": 28,
   "metadata": {
    "colab": {
     "base_uri": "https://localhost:8080/",
     "height": 34
    },
    "executionInfo": {
     "elapsed": 418301,
     "status": "ok",
     "timestamp": 1602478822220,
     "user": {
      "displayName": "Tanmay Chakraborty",
      "photoUrl": "https://lh3.googleusercontent.com/a-/AOh14Gi7eevbipSJbPNmjfEacGnvwa7ZJkT_EcljzNX6FQ=s64",
      "userId": "10513402671331353489"
     },
     "user_tz": -330
    },
    "id": "tzGuqZILkkD5",
    "outputId": "58b28fd2-e2a8-47a5-94bd-3bb222491aa0"
   },
   "outputs": [
    {
     "data": {
      "text/plain": [
       "(37891, 25, 25, 12)"
      ]
     },
     "execution_count": 28,
     "metadata": {},
     "output_type": "execute_result"
    }
   ],
   "source": [
    "Xtest = Xtest.reshape(-1, window_size, window_size, num_channels) #, 1)\n",
    "Xtest.shape"
   ]
  },
  {
   "cell_type": "code",
   "execution_count": 29,
   "metadata": {
    "colab": {
     "base_uri": "https://localhost:8080/",
     "height": 34
    },
    "executionInfo": {
     "elapsed": 418293,
     "status": "ok",
     "timestamp": 1602478822221,
     "user": {
      "displayName": "Tanmay Chakraborty",
      "photoUrl": "https://lh3.googleusercontent.com/a-/AOh14Gi7eevbipSJbPNmjfEacGnvwa7ZJkT_EcljzNX6FQ=s64",
      "userId": "10513402671331353489"
     },
     "user_tz": -330
    },
    "id": "FIhcrDHQkkD7",
    "outputId": "301bc50b-063d-4ad4-b84e-96658ec5bfee"
   },
   "outputs": [
    {
     "data": {
      "text/plain": [
       "(37891, 16)"
      ]
     },
     "execution_count": 29,
     "metadata": {},
     "output_type": "execute_result"
    }
   ],
   "source": [
    "Ytest = np_utils.to_categorical(ytest)\n",
    "Ytest.shape"
   ]
  },
  {
   "cell_type": "code",
   "execution_count": 30,
   "metadata": {
    "colab": {
     "base_uri": "https://localhost:8080/",
     "height": 403
    },
    "executionInfo": {
     "elapsed": 427183,
     "status": "ok",
     "timestamp": 1602478831122,
     "user": {
      "displayName": "Tanmay Chakraborty",
      "photoUrl": "https://lh3.googleusercontent.com/a-/AOh14Gi7eevbipSJbPNmjfEacGnvwa7ZJkT_EcljzNX6FQ=s64",
      "userId": "10513402671331353489"
     },
     "user_tz": -330
    },
    "id": "x9gnEB8wkkD-",
    "outputId": "38e44cce-3f72-40f7-b8e4-5914a2294f69"
   },
   "outputs": [
    {
     "name": "stdout",
     "output_type": "stream",
     "text": [
      "\u001b[1m1185/1185\u001b[0m \u001b[32m━━━━━━━━━━━━━━━━━━━━\u001b[0m\u001b[37m\u001b[0m \u001b[1m8s\u001b[0m 6ms/step\n"
     ]
    }
   ],
   "source": [
    "Y_pred_test = model.predict(Xtest)\n",
    "y_pred_test = np.argmax(Y_pred_test, axis=1)\n"
   ]
  },
  {
   "cell_type": "code",
   "execution_count": 31,
   "metadata": {},
   "outputs": [
    {
     "name": "stdout",
     "output_type": "stream",
     "text": [
      "(37891,)\n",
      "              precision    recall  f1-score   support\n",
      "\n",
      "           0       1.00      1.00      1.00      1406\n",
      "           1       1.00      1.00      1.00      2608\n",
      "           2       1.00      1.00      1.00      1383\n",
      "           3       1.00      1.00      1.00       976\n",
      "           4       1.00      1.00      1.00      1875\n",
      "           5       1.00      1.00      1.00      2771\n",
      "           6       1.00      1.00      1.00      2505\n",
      "           7       1.00      1.00      1.00      7890\n",
      "           8       1.00      1.00      1.00      4342\n",
      "           9       1.00      1.00      1.00      2295\n",
      "          10       1.00      1.00      1.00       748\n",
      "          11       1.00      1.00      1.00      1349\n",
      "          12       1.00      1.00      1.00       641\n",
      "          13       1.00      1.00      1.00       749\n",
      "          14       1.00      1.00      1.00      5088\n",
      "          15       1.00      1.00      1.00      1265\n",
      "\n",
      "    accuracy                           1.00     37891\n",
      "   macro avg       1.00      1.00      1.00     37891\n",
      "weighted avg       1.00      1.00      1.00     37891\n",
      "\n"
     ]
    }
   ],
   "source": [
    "print(y_pred_test.shape) \n",
    "classification = classification_report(np.argmax(Ytest, axis=1), y_pred_test)\n",
    "print(classification)"
   ]
  },
  {
   "cell_type": "code",
   "execution_count": 32,
   "metadata": {
    "executionInfo": {
     "elapsed": 427171,
     "status": "ok",
     "timestamp": 1602478831123,
     "user": {
      "displayName": "Tanmay Chakraborty",
      "photoUrl": "https://lh3.googleusercontent.com/a-/AOh14Gi7eevbipSJbPNmjfEacGnvwa7ZJkT_EcljzNX6FQ=s64",
      "userId": "10513402671331353489"
     },
     "user_tz": -330
    },
    "id": "M8Z-62eCkkEA"
   },
   "outputs": [],
   "source": [
    "def AA_andEachClassAccuracy(confusion_matrix):\n",
    "    counter = confusion_matrix.shape[0]\n",
    "    list_diag = np.diag(confusion_matrix)\n",
    "    list_row_sum = np.sum(confusion_matrix, axis=1)\n",
    "    each_acc = np.nan_to_num(truediv(list_diag, list_row_sum))\n",
    "    average_acc = np.mean(each_acc)\n",
    "    return each_acc, average_acc"
   ]
  },
  {
   "cell_type": "code",
   "execution_count": 33,
   "metadata": {
    "executionInfo": {
     "elapsed": 427165,
     "status": "ok",
     "timestamp": 1602478831124,
     "user": {
      "displayName": "Tanmay Chakraborty",
      "photoUrl": "https://lh3.googleusercontent.com/a-/AOh14Gi7eevbipSJbPNmjfEacGnvwa7ZJkT_EcljzNX6FQ=s64",
      "userId": "10513402671331353489"
     },
     "user_tz": -330
    },
    "id": "Jw2j7mjQkkEC"
   },
   "outputs": [
    {
     "name": "stdout",
     "output_type": "stream",
     "text": [
      "Brocoli_green_weeds_1, Brocoli_green_weeds_2, Fallow, Fallow_rough_plow, Fallow_smooth, Stubble, Celery, Grapes_untrained, Soil_vinyard_develop, Corn_senesced_green_weeds, Lettuce_romaine_4wk, Lettuce_romaine_5wk, Lettuce_romaine_6wk, Lettuce_romaine_7wk, Vinyard_untrained, Vinyard_vertical_trellis\n"
     ]
    }
   ],
   "source": [
    "def get_targets(name):\n",
    "    targets_dict = {\n",
    "        'IP': ['Alfalfa', 'Corn-notill', 'Corn-mintill', 'Corn', 'Grass-pasture', 'Grass-trees', 'Grass-pasture-mowed',\n",
    "               'Hay-windrowed', 'Oats', 'Soybean-notill', 'Soybean-mintill', 'Soybean-clean', 'Wheat', 'Woods', \n",
    "               'Buildings-Grass-Trees-Drives', 'Stone-Steel-Towers'],\n",
    "        'SA': ['Brocoli_green_weeds_1', 'Brocoli_green_weeds_2', 'Fallow', 'Fallow_rough_plow', 'Fallow_smooth', 'Stubble',\n",
    "               'Celery','Grapes_untrained', 'Soil_vinyard_develop', 'Corn_senesced_green_weeds', 'Lettuce_romaine_4wk',\n",
    "               'Lettuce_romaine_5wk', 'Lettuce_romaine_6wk', 'Lettuce_romaine_7wk', 'Vinyard_untrained',\n",
    "               'Vinyard_vertical_trellis'],\n",
    "        'PU': ['Asphalt', 'Meadows', 'Gravel', 'Trees', 'Painted metal sheets', 'Bare Soil', 'Bitumen', 'Self-Blocking Bricks',\n",
    "               'Shadows']\n",
    "    }\n",
    "    targets = targets_dict.get(name)\n",
    "    return (targets)\n",
    "\n",
    "\n",
    "print(', '.join(get_targets(dataset[0:2].upper())))\n",
    "\n",
    "def reports (model, X_test, y_test, name, y_pred = None):\n",
    "    #start = time.time()\n",
    "    if (y_pred is None):\n",
    "        Y_pred = model.predict(X_test)\n",
    "        y_pred = np.argmax(Y_pred, axis=1)\n",
    "    #end = time.time()\n",
    "    #print(end - start)\n",
    "    target_names = get_targets(name[0:2].upper())\n",
    "    print(\"Producing report\")\n",
    "    classification = classification_report(np.argmax(y_test, axis=1), y_pred, target_names=target_names)\n",
    "    oa = accuracy_score(np.argmax(y_test, axis=1), y_pred)\n",
    "    confusion = confusion_matrix(np.argmax(y_test, axis=1), y_pred)\n",
    "    each_acc, aa = AA_andEachClassAccuracy(confusion)\n",
    "    kappa = cohen_kappa_score(np.argmax(y_test, axis=1), y_pred)\n",
    "    score = model.evaluate(X_test, y_test, batch_size=32)\n",
    "    Test_Loss =  score[0]*100\n",
    "    Test_accuracy = score[1]*100\n",
    "    \n",
    "    return classification, confusion, Test_Loss, Test_accuracy, oa*100, each_acc*100, aa*100, kappa*100, target_names"
   ]
  },
  {
   "cell_type": "code",
   "execution_count": 34,
   "metadata": {
    "colab": {
     "base_uri": "https://localhost:8080/",
     "height": 34
    },
    "executionInfo": {
     "elapsed": 445851,
     "status": "ok",
     "timestamp": 1602478849818,
     "user": {
      "displayName": "Tanmay Chakraborty",
      "photoUrl": "https://lh3.googleusercontent.com/a-/AOh14Gi7eevbipSJbPNmjfEacGnvwa7ZJkT_EcljzNX6FQ=s64",
      "userId": "10513402671331353489"
     },
     "user_tz": -330
    },
    "id": "wiez8wEtkkEE",
    "outputId": "9955427d-ee60-4060-b1eb-9e79bbf5b67f"
   },
   "outputs": [
    {
     "name": "stdout",
     "output_type": "stream",
     "text": [
      "Producing report\n",
      "\u001b[1m1185/1185\u001b[0m \u001b[32m━━━━━━━━━━━━━━━━━━━━\u001b[0m\u001b[37m\u001b[0m \u001b[1m10s\u001b[0m 7ms/step - accuracy: 1.0000 - loss: 0.0622\n"
     ]
    }
   ],
   "source": [
    "(classification, confusion, Test_loss, Test_accuracy, \n",
    " oa, each_acc, aa, kappa, target_names) = reports(model, Xtest, Ytest, dataset[0:2], y_pred=y_pred_test)"
   ]
  },
  {
   "cell_type": "code",
   "execution_count": 35,
   "metadata": {},
   "outputs": [
    {
     "name": "stdout",
     "output_type": "stream",
     "text": [
      "Accuracy by target:\n",
      "100.0000 : Brocoli_green_weeds_1\n",
      "100.0000 : Brocoli_green_weeds_2\n",
      "100.0000 : Fallow\n",
      "100.0000 : Fallow_rough_plow\n",
      "100.0000 : Fallow_smooth\n",
      "100.0000 : Stubble\n",
      "100.0000 : Celery\n",
      "100.0000 : Grapes_untrained\n",
      "100.0000 : Soil_vinyard_develop\n",
      "100.0000 : Corn_senesced_green_weeds\n",
      " 99.8663 : Lettuce_romaine_4wk\n",
      "100.0000 : Lettuce_romaine_5wk\n",
      "100.0000 : Lettuce_romaine_6wk\n",
      "100.0000 : Lettuce_romaine_7wk\n",
      "100.0000 : Vinyard_untrained\n",
      "100.0000 : Vinyard_vertical_trellis\n",
      "\n"
     ]
    }
   ],
   "source": [
    "target_performance = 'Accuracy by target:\\n'\n",
    "for (a, b) in zip(target_names, each_acc):\n",
    "    target_performance += f'{b:8.4f} : {a}\\n'\n",
    "print(target_performance)"
   ]
  },
  {
   "cell_type": "code",
   "execution_count": 36,
   "metadata": {},
   "outputs": [],
   "source": [
    "import seaborn as sns\n",
    "cf_matrix = np.asarray(confusion)\n",
    "sns_plot=sns.heatmap(cf_matrix, annot=False, xticklabels=target_names, yticklabels=target_names)\n",
    "sns_plot.figure.savefig(str(dataset)+'-heatmap.png', dpi=600)\n",
    "#plt.savefig(str(dataset)+'-heatmap.png')"
   ]
  },
  {
   "cell_type": "code",
   "execution_count": null,
   "metadata": {},
   "outputs": [],
   "source": []
  },
  {
   "cell_type": "code",
   "execution_count": 37,
   "metadata": {
    "executionInfo": {
     "elapsed": 445840,
     "status": "ok",
     "timestamp": 1602478849819,
     "user": {
      "displayName": "Tanmay Chakraborty",
      "photoUrl": "https://lh3.googleusercontent.com/a-/AOh14Gi7eevbipSJbPNmjfEacGnvwa7ZJkT_EcljzNX6FQ=s64",
      "userId": "10513402671331353489"
     },
     "user_tz": -330
    },
    "id": "kR-idaI8J5bl"
   },
   "outputs": [
    {
     "data": {
      "text/html": [
       "<pre style=\"white-space:pre;overflow-x:auto;line-height:normal;font-family:Menlo,'DejaVu Sans Mono',consolas,'Courier New',monospace\"></pre>\n"
      ],
      "text/plain": []
     },
     "metadata": {},
     "output_type": "display_data"
    },
    {
     "name": "stdout",
     "output_type": "stream",
     "text": [
      "Classification Summary\n",
      "  6.218 Test loss (%)\n",
      " 99.997 Test accuracy (%)\n",
      " 99.997 Kappa accuracy (%)\n",
      " 99.997 Overall accuracy (%)\n",
      " 99.992 Average accuracy (%)\n",
      "\n",
      "                           precision    recall  f1-score   support\n",
      "\n",
      "    Brocoli_green_weeds_1       1.00      1.00      1.00      1406\n",
      "    Brocoli_green_weeds_2       1.00      1.00      1.00      2608\n",
      "                   Fallow       1.00      1.00      1.00      1383\n",
      "        Fallow_rough_plow       1.00      1.00      1.00       976\n",
      "            Fallow_smooth       1.00      1.00      1.00      1875\n",
      "                  Stubble       1.00      1.00      1.00      2771\n",
      "                   Celery       1.00      1.00      1.00      2505\n",
      "         Grapes_untrained       1.00      1.00      1.00      7890\n",
      "     Soil_vinyard_develop       1.00      1.00      1.00      4342\n",
      "Corn_senesced_green_weeds       1.00      1.00      1.00      2295\n",
      "      Lettuce_romaine_4wk       1.00      1.00      1.00       748\n",
      "      Lettuce_romaine_5wk       1.00      1.00      1.00      1349\n",
      "      Lettuce_romaine_6wk       1.00      1.00      1.00       641\n",
      "      Lettuce_romaine_7wk       1.00      1.00      1.00       749\n",
      "        Vinyard_untrained       1.00      1.00      1.00      5088\n",
      " Vinyard_vertical_trellis       1.00      1.00      1.00      1265\n",
      "\n",
      "                 accuracy                           1.00     37891\n",
      "                macro avg       1.00      1.00      1.00     37891\n",
      "             weighted avg       1.00      1.00      1.00     37891\n",
      "\n",
      "\n",
      "[[1406    0    0    0    0    0    0    0    0    0    0    0    0    0     0    0]\n",
      "[   0 2608    0    0    0    0    0    0    0    0    0    0    0    0     0    0]\n",
      "[   0    0 1383    0    0    0    0    0    0    0    0    0    0    0     0    0]\n",
      "[   0    0    0  976    0    0    0    0    0    0    0    0    0    0     0    0]\n",
      "[   0    0    0    0 1875    0    0    0    0    0    0    0    0    0     0    0]\n",
      "[   0    0    0    0    0 2771    0    0    0    0    0    0    0    0     0    0]\n",
      "[   0    0    0    0    0    0 2505    0    0    0    0    0    0    0     0    0]\n",
      "[   0    0    0    0    0    0    0 7890    0    0    0    0    0    0     0    0]\n",
      "[   0    0    0    0    0    0    0    0 4342    0    0    0    0    0     0    0]\n",
      "[   0    0    0    0    0    0    0    0    0 2295    0    0    0    0     0    0]\n",
      "[   0    0    0    0    0    0    0    0    0    0  747    1    0    0     0    0]\n",
      "[   0    0    0    0    0    0    0    0    0    0    0 1349    0    0     0    0]\n",
      "[   0    0    0    0    0    0    0    0    0    0    0    0  641    0     0    0]\n",
      "[   0    0    0    0    0    0    0    0    0    0    0    0    0  749     0    0]\n",
      "[   0    0    0    0    0    0    0    0    0    0    0    0    0    0  5088    0]\n",
      "[   0    0    0    0    0    0    0    0    0    0    0    0    0    0     0 1265]]\n",
      "\n",
      "\n",
      "Accuracy by target:\n",
      "100.0000 : Brocoli_green_weeds_1\n",
      "100.0000 : Brocoli_green_weeds_2\n",
      "100.0000 : Fallow\n",
      "100.0000 : Fallow_rough_plow\n",
      "100.0000 : Fallow_smooth\n",
      "100.0000 : Stubble\n",
      "100.0000 : Celery\n",
      "100.0000 : Grapes_untrained\n",
      "100.0000 : Soil_vinyard_develop\n",
      "100.0000 : Corn_senesced_green_weeds\n",
      " 99.8663 : Lettuce_romaine_4wk\n",
      "100.0000 : Lettuce_romaine_5wk\n",
      "100.0000 : Lettuce_romaine_6wk\n",
      "100.0000 : Lettuce_romaine_7wk\n",
      "100.0000 : Vinyard_untrained\n",
      "100.0000 : Vinyard_vertical_trellis\n",
      "\n",
      "\n",
      "\n",
      "Model: \"functional\"\n",
      "┏━━━━━━━━━━━━━━━━━━━━━┳━━━━━━━━━━━━━━━━━━━┳━━━━━━━━━━━━┳━━━━━━━━━━━━━━━━━━━┓\n",
      "┃ Layer (type)        ┃ Output Shape      ┃    Param # ┃ Connected to      ┃\n",
      "┡━━━━━━━━━━━━━━━━━━━━━╇━━━━━━━━━━━━━━━━━━━╇━━━━━━━━━━━━╇━━━━━━━━━━━━━━━━━━━┩\n",
      "│ keras_tensor        │ (None, 25, 25,    │          0 │ -                 │\n",
      "│ (InputLayer)        │ 12)               │            │                   │\n",
      "├─────────────────────┼───────────────────┼────────────┼───────────────────┤\n",
      "│ conv2d_1 (Conv2D)   │ (None, 25, 25,    │      1,248 │ keras_tensor[0][… │\n",
      "│                     │ 96)               │            │                   │\n",
      "├─────────────────────┼───────────────────┼────────────┼───────────────────┤\n",
      "│ conv2d_3 (Conv2D)   │ (None, 25, 25,    │        208 │ keras_tensor[0][… │\n",
      "│                     │ 16)               │            │                   │\n",
      "├─────────────────────┼───────────────────┼────────────┼───────────────────┤\n",
      "│ conv2d_5 (Conv2D)   │ (None, 25, 25,    │        208 │ keras_tensor[0][… │\n",
      "│                     │ 16)               │            │                   │\n",
      "├─────────────────────┼───────────────────┼────────────┼───────────────────┤\n",
      "│ max_pooling2d       │ (None, 25, 25,    │          0 │ keras_tensor[0][… │\n",
      "│ (MaxPooling2D)      │ 12)               │            │                   │\n",
      "├─────────────────────┼───────────────────┼────────────┼───────────────────┤\n",
      "│ conv2d (Conv2D)     │ (None, 25, 25,    │      3,328 │ keras_tensor[0][… │\n",
      "│                     │ 256)              │            │                   │\n",
      "├─────────────────────┼───────────────────┼────────────┼───────────────────┤\n",
      "│ conv2d_2 (Conv2D)   │ (None, 25, 25,    │    110,720 │ conv2d_1[0][0]    │\n",
      "│                     │ 128)              │            │                   │\n",
      "├─────────────────────┼───────────────────┼────────────┼───────────────────┤\n",
      "│ conv2d_4 (Conv2D)   │ (None, 25, 25,    │     51,328 │ conv2d_3[0][0]    │\n",
      "│                     │ 128)              │            │                   │\n",
      "├─────────────────────┼───────────────────┼────────────┼───────────────────┤\n",
      "│ conv2d_6 (Conv2D)   │ (None, 25, 25,    │    100,480 │ conv2d_5[0][0]    │\n",
      "│                     │ 128)              │            │                   │\n",
      "├─────────────────────┼───────────────────┼────────────┼───────────────────┤\n",
      "│ conv2d_7 (Conv2D)   │ (None, 25, 25,    │        416 │ max_pooling2d[0]… │\n",
      "│                     │ 32)               │            │                   │\n",
      "├─────────────────────┼───────────────────┼────────────┼───────────────────┤\n",
      "│ flatten_1 (Flatten) │ (None, 7500)      │          0 │ keras_tensor[0][… │\n",
      "├─────────────────────┼───────────────────┼────────────┼───────────────────┤\n",
      "│ concatenate         │ (None, 25, 25,    │          0 │ conv2d[0][0],     │\n",
      "│ (Concatenate)       │ 672)              │            │ conv2d_2[0][0],   │\n",
      "│                     │                   │            │ conv2d_4[0][0],   │\n",
      "│                     │                   │            │ conv2d_6[0][0],   │\n",
      "│                     │                   │            │ conv2d_7[0][0]    │\n",
      "├─────────────────────┼───────────────────┼────────────┼───────────────────┤\n",
      "│ dense_1 (Dense)     │ (None, 16)        │    120,016 │ flatten_1[0][0]   │\n",
      "├─────────────────────┼───────────────────┼────────────┼───────────────────┤\n",
      "│ avg_pooling         │ (None, 23, 23,    │          0 │ concatenate[0][0] │\n",
      "│ (AveragePooling2D)  │ 672)              │            │                   │\n",
      "├─────────────────────┼───────────────────┼────────────┼───────────────────┤\n",
      "│ dropout_1 (Dropout) │ (None, 16)        │          0 │ dense_1[0][0]     │\n",
      "├─────────────────────┼───────────────────┼────────────┼───────────────────┤\n",
      "│ flatten (Flatten)   │ (None, 355488)    │          0 │ avg_pooling[0][0] │\n",
      "├─────────────────────┼───────────────────┼────────────┼───────────────────┤\n",
      "│ dense_2 (Dense)     │ (None, 16)        │        272 │ dropout_1[0][0]   │\n",
      "├─────────────────────┼───────────────────┼────────────┼───────────────────┤\n",
      "│ dense (Dense)       │ (None, 16)        │  5,687,824 │ flatten[0][0]     │\n",
      "├─────────────────────┼───────────────────┼────────────┼───────────────────┤\n",
      "│ dropout_2 (Dropout) │ (None, 16)        │          0 │ dense_2[0][0]     │\n",
      "├─────────────────────┼───────────────────┼────────────┼───────────────────┤\n",
      "│ dropout (Dropout)   │ (None, 16)        │          0 │ dense[0][0]       │\n",
      "├─────────────────────┼───────────────────┼────────────┼───────────────────┤\n",
      "│ concatenate_1       │ (None, 32)        │          0 │ dropout_2[0][0],  │\n",
      "│ (Concatenate)       │                   │            │ dropout[0][0]     │\n",
      "├─────────────────────┼───────────────────┼────────────┼───────────────────┤\n",
      "│ dense_3 (Dense)     │ (None, 32)        │      1,056 │ concatenate_1[0]… │\n",
      "├─────────────────────┼───────────────────┼────────────┼───────────────────┤\n",
      "│ dropout_3 (Dropout) │ (None, 32)        │          0 │ dense_3[0][0]     │\n",
      "├─────────────────────┼───────────────────┼────────────┼───────────────────┤\n",
      "│ dense_4 (Dense)     │ (None, 16)        │        528 │ dropout_3[0][0]   │\n",
      "├─────────────────────┼───────────────────┼────────────┼───────────────────┤\n",
      "│ prob (Activation)   │ (None, 16)        │          0 │ dense_4[0][0]     │\n",
      "└─────────────────────┴───────────────────┴────────────┴───────────────────┘\n",
      " Total params: 12,155,266 (46.37 MB)\n",
      " Trainable params: 6,077,632 (23.18 MB)\n",
      " Non-trainable params: 0 (0.00 B)\n",
      " Optimizer params: 6,077,634 (23.18 MB)\n",
      "\n",
      "\n",
      "\n",
      "Configuration for dataset [SA_100]:\n",
      "\n",
      "Test Set Ratio: 70.0% of samples\n",
      "Window Size   : 25 pixels per side\n",
      "Dim. Reduction: fa function\n",
      "Num channels  : 12 bands after fa\n",
      "# Network design\n",
      "Input shape   : (25x25x12)\n",
      "HSI Filters   : None filters in first layer\n",
      "Internal Size : (7x7) maximum network filter size\n",
      "# Training hyperparameters\n",
      "Optimizer     : sgd\n",
      "Learning rate : 0.01\n",
      "Batch Size    : 132\n",
      "Num Epochs    : 500\n",
      "Patience      : 20\n",
      "# Training GPUs\n",
      "GPU Maximum   : 1\n",
      "\n"
     ]
    }
   ],
   "source": [
    "classification = str(classification)\n",
    "confusion = str(confusion)\n",
    "confusion=confusion.replace('\\n', '')\n",
    "confusion=confusion.replace('] [', ']\\n[')\n",
    "confusion=confusion.replace('][', ']\\n[')\n",
    "dim_reduction='pca'\n",
    "c_summary = 'Classification Summary\\n'\n",
    "c_summary += f'{Test_loss:7.3f} Test loss (%)\\n'\n",
    "c_summary += f'{Test_accuracy:7.3f} Test accuracy (%)\\n'\n",
    "c_summary += f'{kappa:7.3f} Kappa accuracy (%)\\n'\n",
    "c_summary += f'{oa:7.3f} Overall accuracy (%)\\n'\n",
    "c_summary += f'{aa:7.3f} Average accuracy (%)\\n\\n'\n",
    "\n",
    "c_summary += f'{classification}\\n\\n'\n",
    "c_summary += f'{confusion}\\n\\n'\n",
    "\n",
    "model_summary = []\n",
    "model.summary(print_fn=lambda x: model_summary.append(x)) # line_length=70,\n",
    "model_summary = '\\n'.join(model_summary)\n",
    "model_summary += '\\n\\n'\n",
    "\n",
    "print(c_summary)\n",
    "print(target_performance+'\\n\\n')\n",
    "print(model_summary)\n",
    "print(config_txt)\n",
    "\n",
    "with open(classification_file, 'w') as cs_file:\n",
    "    cs_file.write(c_summary)\n",
    "    cs_file.write(target_performance+'\\n\\n')\n",
    "    cs_file.write(model_summary)\n",
    "    cs_file.write(config_txt)"
   ]
  },
  {
   "cell_type": "code",
   "execution_count": 38,
   "metadata": {
    "executionInfo": {
     "elapsed": 445833,
     "status": "ok",
     "timestamp": 1602478849820,
     "user": {
      "displayName": "Tanmay Chakraborty",
      "photoUrl": "https://lh3.googleusercontent.com/a-/AOh14Gi7eevbipSJbPNmjfEacGnvwa7ZJkT_EcljzNX6FQ=s64",
      "userId": "10513402671331353489"
     },
     "user_tz": -330
    },
    "id": "xGcIixswkkEG"
   },
   "outputs": [],
   "source": [
    "def Patch(data, height_index, width_index, PATCH_SIZE):\n",
    "    height_slice = slice(height_index, height_index+PATCH_SIZE)\n",
    "    width_slice = slice(width_index, width_index+PATCH_SIZE)\n",
    "    patch = data[height_slice, width_slice, :]\n",
    "    \n",
    "    return patch"
   ]
  },
  {
   "cell_type": "code",
   "execution_count": null,
   "metadata": {
    "executionInfo": {
     "elapsed": 445826,
     "status": "ok",
     "timestamp": 1602478849821,
     "user": {
      "displayName": "Tanmay Chakraborty",
      "photoUrl": "https://lh3.googleusercontent.com/a-/AOh14Gi7eevbipSJbPNmjfEacGnvwa7ZJkT_EcljzNX6FQ=s64",
      "userId": "10513402671331353489"
     },
     "user_tz": -330
    },
    "id": "r-HdxMrCkkEJ"
   },
   "outputs": [],
   "source": []
  },
  {
   "cell_type": "code",
   "execution_count": 39,
   "metadata": {
    "executionInfo": {
     "elapsed": 445812,
     "status": "ok",
     "timestamp": 1602478849821,
     "user": {
      "displayName": "Tanmay Chakraborty",
      "photoUrl": "https://lh3.googleusercontent.com/a-/AOh14Gi7eevbipSJbPNmjfEacGnvwa7ZJkT_EcljzNX6FQ=s64",
      "userId": "10513402671331353489"
     },
     "user_tz": -330
    },
    "id": "6GaaBm4BkkEL"
   },
   "outputs": [],
   "source": [
    "height = HSI_y.shape[0]\n",
    "width  = HSI_y.shape[1]"
   ]
  },
  {
   "cell_type": "code",
   "execution_count": null,
   "metadata": {
    "executionInfo": {
     "elapsed": 470026,
     "status": "ok",
     "timestamp": 1602478874044,
     "user": {
      "displayName": "Tanmay Chakraborty",
      "photoUrl": "https://lh3.googleusercontent.com/a-/AOh14Gi7eevbipSJbPNmjfEacGnvwa7ZJkT_EcljzNX6FQ=s64",
      "userId": "10513402671331353489"
     },
     "user_tz": -330
    },
    "id": "oumhazm3kkEN"
   },
   "outputs": [],
   "source": []
  },
  {
   "cell_type": "code",
   "execution_count": 40,
   "metadata": {
    "executionInfo": {
     "elapsed": 470018,
     "status": "ok",
     "timestamp": 1602478874046,
     "user": {
      "displayName": "Tanmay Chakraborty",
      "photoUrl": "https://lh3.googleusercontent.com/a-/AOh14Gi7eevbipSJbPNmjfEacGnvwa7ZJkT_EcljzNX6FQ=s64",
      "userId": "10513402671331353489"
     },
     "user_tz": -330
    },
    "id": "tvZuH_0-kkEP"
   },
   "outputs": [],
   "source": [
    "X = padWithZeros(DRI, window_size//2)"
   ]
  },
  {
   "cell_type": "code",
   "execution_count": 41,
   "metadata": {},
   "outputs": [
    {
     "data": {
      "text/plain": [
       "(536, 241, 12)"
      ]
     },
     "execution_count": 41,
     "metadata": {},
     "output_type": "execute_result"
    }
   ],
   "source": [
    "X.shape"
   ]
  },
  {
   "cell_type": "code",
   "execution_count": null,
   "metadata": {
    "id": "4sHtc-12kkER"
   },
   "outputs": [],
   "source": []
  },
  {
   "cell_type": "code",
   "execution_count": 42,
   "metadata": {},
   "outputs": [
    {
     "data": {
      "application/vnd.jupyter.widget-view+json": {
       "model_id": "79ab0f76246c49c0b83b3f15a192a269",
       "version_major": 2,
       "version_minor": 0
      },
      "text/plain": [
       "Predicting batches...:   0%|          | 0/212 [00:00<?, ?it/s]"
      ]
     },
     "metadata": {},
     "output_type": "display_data"
    }
   ],
   "source": [
    "from tqdm.notebook import tqdm\n",
    "# calculate the predicted image\n",
    "\n",
    "def extract_patches(X, window_size, valid_indices):\n",
    "    \"\"\"Efficiently extract patches for all valid pixels at once\"\"\"\n",
    "    half_window = window_size // 2\n",
    "    patches = np.zeros((len(valid_indices[0]), window_size, window_size, X.shape[2]))\n",
    "    \n",
    "    for idx in range(len(valid_indices[0])):\n",
    "        i, j = valid_indices[0][idx], valid_indices[1][idx]\n",
    "        patches[idx] = X[i:i+window_size, j:j+window_size, :]\n",
    "    \n",
    "    return patches\n",
    "\n",
    "# Get indices of non-zero pixels\n",
    "valid_indices = np.where(HSI_y > 0)\n",
    "outputs = np.zeros((height, width))\n",
    "\n",
    "# Extract all patches at once\n",
    "X = padWithZeros(DRI, window_size//2)\n",
    "patches = extract_patches(X, window_size, valid_indices)\n",
    "\n",
    "# Make predictions in batches\n",
    "batch_size = 256  # Adjust based on your GPU memory\n",
    "num_patches = len(patches)\n",
    "predictions = []\n",
    "\n",
    "for i in tqdm(range(0, num_patches, batch_size), desc=\"Predicting batches...\"):\n",
    "    batch = patches[i:min(i+batch_size, num_patches)]\n",
    "    batch_predictions = model.predict(batch, verbose=0)\n",
    "    predictions.append(batch_predictions)\n",
    "\n",
    "# Combine predictions\n",
    "predictions = np.vstack(predictions)\n",
    "predictions = np.argmax(predictions, axis=1) + 1\n",
    "\n",
    "# Assign predictions back to output array\n",
    "outputs[valid_indices] = predictions"
   ]
  },
  {
   "cell_type": "code",
   "execution_count": 43,
   "metadata": {
    "id": "KpnGO-c_kkET"
   },
   "outputs": [
    {
     "name": "stderr",
     "output_type": "stream",
     "text": [
      "/home/jim/miniforge3/envs/quantum/lib/python3.11/site-packages/spectral/graphics/spypylab.py:796: UserWarning: Failed to create RectangleSelector object. Interactive pixel class labeling will be unavailable.\n",
      "  warnings.warn(msg)\n"
     ]
    },
    {
     "data": {
      "image/png": "[encoded data removed]",
      "text/plain": [
       "<Figure size 640x480 with 2 Axes>"
      ]
     },
     "metadata": {},
     "output_type": "display_data"
    },
    {
     "data": {
      "image/png": "[encoded data removed]",
      "text/plain": [
       "<Figure size 700x700 with 1 Axes>"
      ]
     },
     "metadata": {},
     "output_type": "display_data"
    }
   ],
   "source": [
    "ground_truth = spectral.imshow(classes = HSI_y,figsize =(7,7))"
   ]
  },
  {
   "cell_type": "code",
   "execution_count": 44,
   "metadata": {
    "id": "5yIVQ8-hkkEW"
   },
   "outputs": [
    {
     "data": {
      "image/png": "[encoded data removed]",
      "text/plain": [
       "<Figure size 700x700 with 1 Axes>"
      ]
     },
     "metadata": {},
     "output_type": "display_data"
    }
   ],
   "source": [
    "predict_image = spectral.imshow(classes = outputs.astype(int),figsize =(7,7))"
   ]
  },
  {
   "cell_type": "code",
   "execution_count": 45,
   "metadata": {},
   "outputs": [
    {
     "name": "stdout",
     "output_type": "stream",
     "text": [
      "Misclassified pixels:  1 / 111104\n"
     ]
    },
    {
     "data": {
      "image/png": "[encoded data removed]",
      "text/plain": [
       "<Figure size 1500x800 with 3 Axes>"
      ]
     },
     "metadata": {},
     "output_type": "display_data"
    }
   ],
   "source": [
    "from matplotlib.colors import ListedColormap, NoNorm\n",
    "\n",
    "cm = ListedColormap(np.array(spectral.spy_colors)/255.0)\n",
    "delta = (np.abs(outputs.astype(int) - HSI_y)>0)*1\n",
    "print('Misclassified pixels: ', np.sum(np.asarray(delta)>0), \"/\", delta.shape[0]*delta.shape[1])\n",
    "fig, (ax1, ax2, ax3) = plt.subplots(1,3, figsize=(15,8))\n",
    "ax1.set_title(\"Ground truth\")\n",
    "ax2.set_title(\"Prediction\")\n",
    "ax3.set_title(\"Delta\")\n",
    "ax1.imshow(HSI_y) #, cmap=cm, norm=NoNorm())\n",
    "ax2.imshow(outputs.astype(int)) #, cmap=cm, norm=NoNorm())\n",
    "ax3.imshow(delta, cmap=cm)\n",
    "plt.tight_layout()"
   ]
  },
  {
   "cell_type": "code",
   "execution_count": 46,
   "metadata": {
    "id": "vBPvnosekkEZ"
   },
   "outputs": [],
   "source": [
    "spectral.save_rgb(str(dataset)+\"-ground_truth.png\", HSI_y, colors=spectral.spy_colors)\n",
    "spectral.save_rgb(str(dataset)+\"-delta.png\", delta, colors=spectral.spy_colors)\n",
    "spectral.save_rgb(predictions_img, outputs.astype(int), colors=spectral.spy_colors)"
   ]
  },
  {
   "cell_type": "code",
   "execution_count": null,
   "metadata": {},
   "outputs": [],
   "source": []
  },
  {
   "cell_type": "code",
   "execution_count": null,
   "metadata": {},
   "outputs": [],
   "source": []
  },
  {
   "cell_type": "code",
   "execution_count": null,
   "metadata": {},
   "outputs": [],
   "source": []
  },
  {
   "cell_type": "code",
   "execution_count": 47,
   "metadata": {},
   "outputs": [],
   "source": [
    "#del model\n",
    "#print(\"Keras Backend RESET\")  # optional\n",
    "#import keras\n",
    "#import gc\n",
    "#keras.backend.clear_session()\n",
    "#tf.keras.backend.clear_session()\n",
    "#gc.collect()"
   ]
  }
 ],
 "metadata": {
  "accelerator": "GPU",
  "colab": {
   "authorship_tag": "ABX9TyN/aVtrq8w9XQ9tKxeZX/5h",
   "collapsed_sections": [],
   "name": "Untitled1.ipynb",
   "provenance": []
  },
  "kernelspec": {
   "display_name": "Python 3 (ipykernel)",
   "language": "python",
   "name": "python3"
  },
  "language_info": {
   "codemirror_mode": {
    "name": "ipython",
    "version": 3
   },
   "file_extension": ".py",
   "mimetype": "text/x-python",
   "name": "python",
   "nbconvert_exporter": "python",
   "pygments_lexer": "ipython3",
   "version": "3.11.11"
  }
 },
 "nbformat": 4,
 "nbformat_minor": 4
}
