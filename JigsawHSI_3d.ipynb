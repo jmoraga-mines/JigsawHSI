{
 "cells": [
  {
   "cell_type": "markdown",
   "metadata": {},
   "source": [
    "# JigsawHSI for Hyper Spectral Image Classification\n",
    "\n",
    "**Author:** Jaime MORAGA\n",
    "**ORCID :** https://orcid.org/0000-0003-4483-9900"
   ]
  },
  {
   "cell_type": "markdown",
   "metadata": {},
   "source": [
    "# Select dataset"
   ]
  },
  {
   "cell_type": "code",
   "execution_count": 2,
   "metadata": {
    "scrolled": true
   },
   "outputs": [],
   "source": [
    "## GLOBAL VARIABLES\n",
    "dataset = 'IP_3d'\n",
    "# dataset = 'IP_99.74'\n",
    "# dataset = 'PU_100'\n",
    "# dataset = 'SA_100'\n"
   ]
  },
  {
   "cell_type": "markdown",
   "metadata": {},
   "source": [
    "# Initialize all random functions with same seed"
   ]
  },
  {
   "cell_type": "code",
   "execution_count": 3,
   "metadata": {},
   "outputs": [],
   "source": [
    "import os\n",
    "# Use this before loading tensorflow\n",
    "#os.environ['TF_CPP_MIN_LOG_LEVEL'] = '1' # Block INFO messages\n",
    "os.environ['TF_CPP_MIN_LOG_LEVEL'] = '2' # Block INFO and WARNING messages\n",
    "#os.environ['TF_CPP_MIN_LOG_LEVEL'] = '3' # Block INFO, WARNING and ERROR messages\n",
    "# https://www.tensorflow.org/api_docs/python/tf/autograph/set_verbosity\n",
    "os.environ[\"AUTOGRAPH_VERBOSITY\"] = \"0\"\n",
    "import tensorflow as tf\n",
    "tf.get_logger().setLevel(\"WARNING\")\n",
    "\n",
    "import random\n",
    "import numpy as np\n",
    "\n",
    "def random_seed():\n",
    "    return os.urandom(42)\n",
    "\n",
    "def reset_seeds(random_state = 42):\n",
    "    try:\n",
    "        tf.keras.utils.set_random_seed(random_state) # This resets all\n",
    "        return 0\n",
    "    except:\n",
    "        random.seed(random_state)\n",
    "        np.random.seed(random_state)\n",
    "        tf.random.set_seed(random_state) # Tensorflow 2.9+\n",
    "    try:\n",
    "        from tensorflow import set_random_seed # Tensorflow 1.x\n",
    "        set_random_seed(random_state)\n",
    "        return 2\n",
    "    except:\n",
    "        pass\n",
    "    return 1\n",
    "\n",
    "max_gpus = len(tf.config.list_physical_devices('GPU'))\n",
    "\n",
    "\"\"\"\n",
    "Reset all random seeds\n",
    "\"\"\"\n",
    "r = reset_seeds(345)\n",
    "del r"
   ]
  },
  {
   "cell_type": "markdown",
   "metadata": {},
   "source": [
    "# Import libraries"
   ]
  },
  {
   "cell_type": "code",
   "execution_count": 4,
   "metadata": {
    "colab": {
     "base_uri": "https://localhost:8080/",
     "height": 50
    },
    "executionInfo": {
     "elapsed": 5572,
     "status": "ok",
     "timestamp": 1602478409232,
     "user": {
      "displayName": "Tanmay Chakraborty",
      "photoUrl": "https://lh3.googleusercontent.com/a-/AOh14Gi7eevbipSJbPNmjfEacGnvwa7ZJkT_EcljzNX6FQ=s64",
      "userId": "10513402671331353489"
     },
     "user_tz": -330
    },
    "id": "r9imWZNCMoOM",
    "outputId": "e6ddc3e2-53c3-4e29-ceb6-5b303ac0b75b"
   },
   "outputs": [],
   "source": [
    "from sklearn.model_selection import train_test_split\n",
    "from sklearn.metrics import confusion_matrix, accuracy_score, classification_report, cohen_kappa_score\n",
    " \n",
    "from sklearn.decomposition import FactorAnalysis, NMF\n",
    "from sklearn.decomposition import PCA, TruncatedSVD\n",
    "from operator import truediv\n",
    "\n",
    "import numpy as np\n",
    "import matplotlib.pyplot as plt\n",
    "import scipy.io as sio\n",
    "\n",
    "#!pip install spectral\n",
    "import spectral"
   ]
  },
  {
   "cell_type": "markdown",
   "metadata": {},
   "source": [
    "# Define functions"
   ]
  },
  {
   "cell_type": "markdown",
   "metadata": {},
   "source": [
    "## JigsawHSI definition"
   ]
  },
  {
   "cell_type": "code",
   "execution_count": 5,
   "metadata": {
    "executionInfo": {
     "elapsed": 5565,
     "status": "ok",
     "timestamp": 1602478409233,
     "user": {
      "displayName": "Tanmay Chakraborty",
      "photoUrl": "https://lh3.googleusercontent.com/a-/AOh14Gi7eevbipSJbPNmjfEacGnvwa7ZJkT_EcljzNX6FQ=s64",
      "userId": "10513402671331353489"
     },
     "user_tz": -330
    },
    "id": "HC83Bv1IPQfc"
   },
   "outputs": [],
   "source": [
    "from tensorflow.keras.utils import Sequence\n",
    "from tensorflow.keras.models import Model, Sequential\n",
    "from tensorflow.keras.layers import Input, Concatenate, Cropping2D # CenterCrop\n",
    "from tensorflow.keras.layers import Conv2D, Conv3D, AveragePooling2D, MaxPooling2D\n",
    "from tensorflow.keras.layers import Activation, Flatten, Dropout, Dense, Reshape\n",
    "from tensorflow.keras.layers import LayerNormalization\n",
    "from tensorflow.keras.regularizers import l2, l1, L1L2\n",
    "from tensorflow.keras.optimizers import Adadelta, SGD, Adam, Nadam, Adagrad, Adamax\n",
    "\n",
    "from tensorflow.keras.callbacks import ModelCheckpoint, EarlyStopping\n",
    "from tensorflow.keras import utils as np_utils\n",
    "\n",
    "from skimage.transform import rotate\n",
    "from tensorflow.keras.models import clone_model\n",
    "from tensorflow.keras.utils import plot_model\n",
    "from tensorflow.keras.utils import multi_gpu_model\n",
    "\n",
    "L2 = 0.001 # L2:0.002\n",
    "act_reg = L1L2(l1=0.00001, l2=0.00001)# L1L2(l1=0.0001, l2=0.0001) # default (0.01, 0.01)\n",
    "\n",
    "def jigsaw_m2( input_net, first_layer = None , internal_size = 13):\n",
    "    # Creates internal filters as Inception: 1x1, 3x3, 5x5 ..., nxn \n",
    "    # Where n = internal_size\n",
    "    jigsaw_t1_1x1 = Conv2D(64, (1,1), padding='same', activation = 'relu', \n",
    "                           kernel_regularizer = l2(L2),\n",
    "                          activity_regularizer=act_reg)(input_net)\n",
    "    jigsaw_t1_3x3_reduce = Conv2D(64, (1,1), padding='same', activation = 'relu', \n",
    "                                  kernel_regularizer = l2(L2),\n",
    "                          activity_regularizer=act_reg)(input_net)\n",
    "    jigsaw_t1_3x3 = Conv2D(64, (3,3), padding='same', \n",
    "                           activation = 'relu', \n",
    "                           kernel_regularizer = l2(L2),\n",
    "                          activity_regularizer=act_reg)(jigsaw_t1_3x3_reduce) # , name=\"i_3x3\"\n",
    "    if (internal_size >= 5):\n",
    "        jigsaw_t1_5x5_reduce = Conv2D(16, (1,1), padding='same', activation = 'relu', \n",
    "                                      kernel_regularizer = l2(L2),\n",
    "                          activity_regularizer=act_reg)(input_net)\n",
    "        jigsaw_t1_5x5 = Conv2D(16, (5,5), padding='same', activation = 'relu', \n",
    "                               kernel_regularizer = l2(L2),\n",
    "                          activity_regularizer=act_reg)(jigsaw_t1_5x5_reduce) # , name=\"i_5x5\"\n",
    "    if (internal_size >= 7):\n",
    "        jigsaw_t1_7x7_reduce = Conv2D(16, (1,1), padding='same', activation = 'relu', \n",
    "                                      kernel_regularizer = l2(L2),\n",
    "                          activity_regularizer=act_reg)(input_net)\n",
    "        jigsaw_t1_7x7 = Conv2D(16, (7,7), padding='same', activation = 'relu', \n",
    "                               kernel_regularizer = l2(L2),\n",
    "                          activity_regularizer=act_reg)(jigsaw_t1_7x7_reduce) # , name=\"i_7x7\"\n",
    "    if (internal_size >= 9):\n",
    "        jigsaw_t1_9x9_reduce = Conv2D(16, (1,1), padding='same', activation = 'relu', \n",
    "                                      kernel_regularizer = l2(L2),\n",
    "                          activity_regularizer=act_reg)(input_net)\n",
    "        jigsaw_t1_9x9 = Conv2D(16, (9,9), padding='same', activation = 'relu', \n",
    "                               kernel_regularizer = l2(L2),\n",
    "                          activity_regularizer=act_reg)(jigsaw_t1_9x9_reduce) # , name=\"i_9x9\"\n",
    "    if (internal_size >= 11):\n",
    "        jigsaw_t1_11x11_reduce = Conv2D(16, (1,1), padding='same', activation = 'relu', \n",
    "                                        kernel_regularizer = l2(L2),\n",
    "                          activity_regularizer=act_reg)(input_net)\n",
    "        jigsaw_t1_11x11 = Conv2D(16, (11,11), padding='same', activation = 'relu', \n",
    "                                 kernel_regularizer = l2(L2),\n",
    "                          activity_regularizer=act_reg)(jigsaw_t1_11x11_reduce) # , name=\"i_11x11\"\n",
    "    if (internal_size >= 13):\n",
    "        jigsaw_t1_13x13_reduce = Conv2D(16, (1,1), padding='same', activation = 'relu', \n",
    "                                        kernel_regularizer = l2(L2),\n",
    "                          activity_regularizer=act_reg)(input_net)\n",
    "        jigsaw_t1_13x13 = Conv2D(16, (13,13), padding='same', activation = 'relu', \n",
    "                                 kernel_regularizer = l2(L2),\n",
    "                          activity_regularizer=act_reg)(jigsaw_t1_13x13_reduce) # , name=\"i_13x13\"\n",
    "    jigsaw_t1_pool = MaxPooling2D(pool_size=(3,3), strides = (1,1), padding='same')(input_net)\n",
    "    jigsaw_t1_pool_proj = Conv2D(32, (1,1), padding='same', activation = 'relu', \n",
    "                                 kernel_regularizer = l2(L2),\n",
    "                          activity_regularizer=act_reg)(jigsaw_t1_pool)\n",
    "    jigsaw_list = [jigsaw_t1_1x1, jigsaw_t1_3x3]\n",
    "    jigsaw_list = [jigsaw_t1_3x3]\n",
    "    if (internal_size >= 5):\n",
    "        jigsaw_list.append(jigsaw_t1_5x5)\n",
    "    if (internal_size >= 7):\n",
    "        jigsaw_list.append(jigsaw_t1_7x7)\n",
    "    if (internal_size >= 9):\n",
    "        jigsaw_list.append(jigsaw_t1_9x9)\n",
    "    if (internal_size >= 11):\n",
    "        jigsaw_list.append(jigsaw_t1_11x11)\n",
    "    if (internal_size >= 13):\n",
    "        jigsaw_list.append(jigsaw_t1_13x13)\n",
    "    # Add MaxPooling results\n",
    "    # jigsaw_list.append(jigsaw_t1_pool_proj)\n",
    "    if first_layer is not None:\n",
    "        jigsaw_t1_first = Conv2D(96, (1,1), padding='same', activation = 'relu', \n",
    "                                 kernel_regularizer = l2(L2),\n",
    "                          activity_regularizer=act_reg)(first_layer)\n",
    "        jigsaw_list.append(jigsaw_t1_first)\n",
    "    if(len(jigsaw_list)>1):\n",
    "        jigsaw_t1_output = Concatenate(axis = -1)(jigsaw_list)\n",
    "    else:\n",
    "        jigsaw_t1_output = jigsaw_list[0]\n",
    "    return jigsaw_t1_output\n",
    "\n",
    "def jigsaw_m_end(input_net, num_classes, first_layer = None):\n",
    "    avg_pooling = AveragePooling2D(pool_size=(3,3), strides=(1,1), name='avg_pooling')(input_net)\n",
    "    flat = Flatten()(avg_pooling)\n",
    "    flat = Flatten()(input_net)\n",
    "    flat = Dense(256, kernel_regularizer=l2(L2),\n",
    "                          activity_regularizer=act_reg)(flat)\n",
    "    flat = Dropout(0.4)(flat)\n",
    "    if first_layer is not None:\n",
    "        #jigsaw_center  = CenterCrop(height = 1, width = 1)(first_layer)\n",
    "        fl_shape = first_layer.shape\n",
    "        if (len(fl_shape)>4):\n",
    "            first_layer = Reshape((fl_shape[1], fl_shape[2], fl_shape[3]*fl_shape[4]))(first_layer)\n",
    "        \n",
    "        fl_shape = first_layer.shape\n",
    "        crop_1 = fl_shape[1]//2\n",
    "        crop_2 = fl_shape[2]//2\n",
    "        jigsaw_center  = Cropping2D( cropping = ((crop_1, crop_1), (crop_2, crop_2)))(first_layer)\n",
    "        input_pixel = Flatten()(jigsaw_center)\n",
    "        input_pixel = Dense(16, kernel_regularizer=l2(L2),\n",
    "                          activity_regularizer=act_reg)(input_pixel)\n",
    "        input_pixel = Dropout(0.4)(input_pixel)\n",
    "        input_pixel = Dense(16, kernel_regularizer=l2(L2),\n",
    "                          activity_regularizer=act_reg)(input_pixel)\n",
    "        input_pixel = Dropout(0.4)(input_pixel)\n",
    "        flat = Concatenate(axis = -1)([input_pixel, flat])\n",
    "    flat = Dense(128, kernel_regularizer=l2(L2),\n",
    "                          activity_regularizer=act_reg)(flat)\n",
    "    dropout = Dropout(0.4)(flat)\n",
    "    \n",
    "    #loss3_classifier = Dense(num_classes, kernel_regularizer=l2(0.002))(dropout)\n",
    "    #loss3_classifier_act = Activation('softmax', name='prob')(loss3_classifier)\n",
    "    \n",
    "    loss3_classifier_act = Dense(units=output_units, activation='softmax', name='Softmax')(dropout)\n",
    "    \n",
    "    return loss3_classifier_act\n",
    "\n",
    "\n",
    "# Builds model\n",
    "def build_jigsawHSI(internal_size=13, num_classes=2, image_dim = (19, 19, 7, 1), dimension_filters = None, verbose=1):\n",
    "    my_input = Input( shape=image_dim )\n",
    "    \n",
    "    unit_norm = LayerNormalization(axis=2)(my_input)\n",
    "    conv_layer1 = Conv3D(filters=64, kernel_size=(1, 1, 7), strides=(1, 1, 2), activation='relu', name='3d_1x1x7')(unit_norm)\n",
    "    conv_layer2 = Conv3D(filters=32, kernel_size=(1, 1, 5), strides=(1, 1, 2), activation='relu', name='3d_1x1x5')(conv_layer1)\n",
    "    conv_layer3    = Conv3D(filters=16, kernel_size=(1, 1, 3), strides=(1, 1, 2), activation='relu', name='3d_1x1x3')(conv_layer2)\n",
    "    conv3d_shape = conv_layer3.shape\n",
    "    \n",
    "    if (len(conv3d_shape)>4):\n",
    "        conv1 = Reshape((conv3d_shape[1], conv3d_shape[2], conv3d_shape[3]*conv3d_shape[4]))(conv_layer3)\n",
    "    else:\n",
    "        conv1=conv_layer3\n",
    "        \n",
    "    # Not needed for SA\n",
    "    if ((dimension_filters is None) or (dimension_filters < 1)):\n",
    "        conv1 = conv1\n",
    "    else:\n",
    "        conv1 = Conv2D(dimension_filters, (1,1), padding='same', activation = 'relu',\n",
    "                       kernel_regularizer = l2(L2), name='spectral_filter')(conv1)\n",
    "    if(verbose>0):\n",
    "        print(f\"*** Building Jigsaw with up to {internal_size}x{internal_size} kernels\")\n",
    "    # One jigsaw module(s)\n",
    "    jigsaw_01 = jigsaw_m2( my_input if conv1 is None else conv1, internal_size = internal_size )\n",
    "    # For SA, the next two lines must be uncommented\n",
    "    # jigsaw_01 = jigsaw_m2( jigsaw_01, first_layer=my_input, internal_size = internal_size )\n",
    "    # jigsaw_01 = jigsaw_m2( jigsaw_01, internal_size = internal_size )\n",
    "    \n",
    "    # Attaches end to jigsaw modules, returns class within num_classes\n",
    "    loss3_classifier_act = jigsaw_m_end(jigsaw_01,\n",
    "                                    num_classes = num_classes, #) #,\n",
    "                                    first_layer = my_input ) # testing num_classes\n",
    "    model3 = Model( inputs = my_input, outputs = loss3_classifier_act, name = 'JigsawHSI' )\n",
    "    model3.compile(loss='binary_crossentropy', optimizer=Adadelta(), metrics=['accuracy'])\n",
    "    return model3\n"
   ]
  },
  {
   "cell_type": "code",
   "execution_count": 6,
   "metadata": {},
   "outputs": [],
   "source": [
    "# Based on\n",
    "# https://stackoverflow.com/questions/59563085/how-to-stop-training-when-it-hits-a-specific-validation-accuracy\n",
    "\n",
    "class MyThresholdCallback(tf.keras.callbacks.Callback):\n",
    "    def __init__(self, threshold, metric = \"val_accuracy\"):\n",
    "        super(MyThresholdCallback, self).__init__()\n",
    "        self.threshold = threshold\n",
    "        self.metric = metric\n",
    "\n",
    "    def on_epoch_end(self, epoch, logs=None): \n",
    "        if (logs is None): return\n",
    "        metric = logs[self.metric]\n",
    "        if metric >= self.threshold:\n",
    "            self.model.stop_training = True"
   ]
  },
  {
   "cell_type": "code",
   "execution_count": null,
   "metadata": {},
   "outputs": [],
   "source": []
  },
  {
   "cell_type": "markdown",
   "metadata": {},
   "source": [
    "## Decompostion functions: reduce dimensionality"
   ]
  },
  {
   "cell_type": "code",
   "execution_count": 7,
   "metadata": {
    "executionInfo": {
     "elapsed": 5559,
     "status": "ok",
     "timestamp": 1602478409234,
     "user": {
      "displayName": "Tanmay Chakraborty",
      "photoUrl": "https://lh3.googleusercontent.com/a-/AOh14Gi7eevbipSJbPNmjfEacGnvwa7ZJkT_EcljzNX6FQ=s64",
      "userId": "10513402671331353489"
     },
     "user_tz": -330
    },
    "id": "UGivdxXN1pCh"
   },
   "outputs": [],
   "source": [
    "# Dimensionality reduction algorithms\n",
    "def applyPCA(X, numComponents=75, random_state=0):\n",
    "    newX = np.reshape(X, (-1, X.shape[2])) # Reshape to columns for each band\n",
    "    pca = PCA(n_components=numComponents, whiten=True, random_state=random_state)\n",
    "    newX = pca.fit_transform(newX)\n",
    "    newX = np.reshape(newX, (X.shape[0],X.shape[1], numComponents))\n",
    "    return newX, 'pca'\n",
    "\n",
    "def applyFA(X, numComponents=75, random_state=0):\n",
    "    newX = np.reshape(X, (-1, X.shape[2])) # Reshape to columns for each band\n",
    "    fa = FactorAnalysis(n_components=numComponents, random_state=random_state)\n",
    "    newX = fa.fit_transform(newX)\n",
    "    newX = np.reshape(newX, (X.shape[0],X.shape[1], numComponents))\n",
    "    return newX, 'fa'\n",
    "\n",
    "def applySVD(X, numComponents=75, random_state=0):\n",
    "    newX = np.reshape(X, (-1, X.shape[2])) # Reshape to columns for each band\n",
    "    svd = TruncatedSVD(n_components=numComponents, random_state=random_state)\n",
    "    newX = svd.fit_transform(newX)\n",
    "    newX = np.reshape(newX, (X.shape[0],X.shape[1], numComponents))\n",
    "    return newX, 'svd'\n",
    "\n",
    "def applyNMF(X, numComponents=75, random_state=0):\n",
    "    newX = np.reshape(X, (-1, X.shape[2])) # Reshape to columns for each band\n",
    "    nmf = NMF(n_components=numComponents, random_state=random_state)\n",
    "    newX = nmf.fit_transform(newX)\n",
    "    newX = np.reshape(newX, (X.shape[0],X.shape[1], numComponents))\n",
    "    return newX, 'nmf'\n",
    "\n",
    "def applyNone(X, numComponents=75, random_state=0):\n",
    "    return X, 'None'\n"
   ]
  },
  {
   "cell_type": "markdown",
   "metadata": {},
   "source": [
    "## Utilitary functions"
   ]
  },
  {
   "cell_type": "code",
   "execution_count": 8,
   "metadata": {
    "executionInfo": {
     "elapsed": 5550,
     "status": "ok",
     "timestamp": 1602478409236,
     "user": {
      "displayName": "Tanmay Chakraborty",
      "photoUrl": "https://lh3.googleusercontent.com/a-/AOh14Gi7eevbipSJbPNmjfEacGnvwa7ZJkT_EcljzNX6FQ=s64",
      "userId": "10513402671331353489"
     },
     "user_tz": -330
    },
    "id": "7wXNSkhfM3gs"
   },
   "outputs": [],
   "source": [
    "def readData(dataset, data_path='./data'):\n",
    "    data_dict = {\n",
    "        'IP': ('Indian_pines_corrected.mat', 'indian_pines_corrected', 'Indian_pines_gt.mat', 'indian_pines_gt'),\n",
    "        'SA': ('Salinas_corrected.mat', 'salinas_corrected', 'Salinas_gt.mat', 'salinas_gt'),\n",
    "        'PU': ('PaviaU.mat', 'paviaU', 'PaviaU_gt.mat', 'paviaU_gt')\n",
    "    }\n",
    "    (X_1, X_2, y_1, y_2) = data_dict.get(dataset[0:2].upper())\n",
    "    X = sio.loadmat(os.path.join(data_path, X_1))[X_2]\n",
    "    y = sio.loadmat(os.path.join(data_path, y_1))[y_2]\n",
    "    \n",
    "    return (X, y)\n"
   ]
  },
  {
   "cell_type": "code",
   "execution_count": 9,
   "metadata": {
    "executionInfo": {
     "elapsed": 5545,
     "status": "ok",
     "timestamp": 1602478409237,
     "user": {
      "displayName": "Tanmay Chakraborty",
      "photoUrl": "https://lh3.googleusercontent.com/a-/AOh14Gi7eevbipSJbPNmjfEacGnvwa7ZJkT_EcljzNX6FQ=s64",
      "userId": "10513402671331353489"
     },
     "user_tz": -330
    },
    "id": "iaIzfkQ3NDvS"
   },
   "outputs": [],
   "source": [
    "def splitTrainTestSet(X, y, testRatio, random_state=345):\n",
    "    X_train, X_test, y_train, y_test = train_test_split(X, y, test_size=testRatio, random_state=random_state,\n",
    "                                                        stratify=y)\n",
    "    return X_train, X_test, y_train, y_test\n"
   ]
  },
  {
   "cell_type": "code",
   "execution_count": 10,
   "metadata": {
    "executionInfo": {
     "elapsed": 5538,
     "status": "ok",
     "timestamp": 1602478409237,
     "user": {
      "displayName": "Tanmay Chakraborty",
      "photoUrl": "https://lh3.googleusercontent.com/a-/AOh14Gi7eevbipSJbPNmjfEacGnvwa7ZJkT_EcljzNX6FQ=s64",
      "userId": "10513402671331353489"
     },
     "user_tz": -330
    },
    "id": "M0he4FtONMU-"
   },
   "outputs": [],
   "source": [
    "# Padding functions\n",
    "def padWithZeros(X, margin=2):\n",
    "    newX = np.pad(X, pad_width=((margin, margin),(margin, margin),(0, 0)), constant_values = 0, mode = 'constant')\n",
    "    return newX\n",
    "\n",
    "def padSymmetric(X, margin=2):\n",
    "    newX = np.pad(X, pad_width=((margin, margin),(margin, margin),(0, 0)), mode = 'symmetric')\n",
    "    return newX\n",
    "\n",
    "\n"
   ]
  },
  {
   "cell_type": "code",
   "execution_count": 11,
   "metadata": {
    "executionInfo": {
     "elapsed": 5533,
     "status": "ok",
     "timestamp": 1602478409238,
     "user": {
      "displayName": "Tanmay Chakraborty",
      "photoUrl": "https://lh3.googleusercontent.com/a-/AOh14Gi7eevbipSJbPNmjfEacGnvwa7ZJkT_EcljzNX6FQ=s64",
      "userId": "10513402671331353489"
     },
     "user_tz": -330
    },
    "id": "l0wsTkhNNO04"
   },
   "outputs": [],
   "source": [
    "def createImageCubes(X, y, window_size=8, removeZeroLabels = True):\n",
    "    margin = int((window_size-1) / 2)\n",
    "    zeroPaddedX = padWithZeros(X, margin=margin)\n",
    "    # split patches\n",
    "    patchesData = np.zeros((X.shape[0] * X.shape[1], window_size, window_size, X.shape[2]))\n",
    "    patchesLabels = np.zeros((X.shape[0] * X.shape[1]))\n",
    "    patchIndex = 0\n",
    "    for r in range(margin, zeroPaddedX.shape[0] - margin):\n",
    "        for c in range(margin, zeroPaddedX.shape[1] - margin):\n",
    "            patch = zeroPaddedX[r - margin:r + margin + 1 , c - margin:c + margin + 1]   \n",
    "            patchesData[patchIndex, :, :, :] = patch\n",
    "            patchesLabels[patchIndex] = y[r-margin, c-margin]\n",
    "            patchIndex = patchIndex + 1\n",
    "    if removeZeroLabels:\n",
    "        patchesData = patchesData[patchesLabels>0,:,:,:]\n",
    "        patchesLabels = patchesLabels[patchesLabels>0]\n",
    "        patchesLabels -= 1\n",
    "    return patchesData, patchesLabels"
   ]
  },
  {
   "cell_type": "code",
   "execution_count": null,
   "metadata": {},
   "outputs": [],
   "source": []
  },
  {
   "cell_type": "code",
   "execution_count": null,
   "metadata": {},
   "outputs": [],
   "source": [
    "\n"
   ]
  },
  {
   "cell_type": "markdown",
   "metadata": {},
   "source": [
    "# Load parameters from config file (config.ini)"
   ]
  },
  {
   "cell_type": "code",
   "execution_count": 30,
   "metadata": {},
   "outputs": [],
   "source": [
    "import configparser\n",
    "config = configparser.ConfigParser(inline_comment_prefixes=';#')\n",
    "config.read_file(open('config.ini'))\n",
    "config = config[dataset]"
   ]
  },
  {
   "cell_type": "code",
   "execution_count": null,
   "metadata": {},
   "outputs": [],
   "source": []
  },
  {
   "cell_type": "code",
   "execution_count": 31,
   "metadata": {},
   "outputs": [
    {
     "name": "stdout",
     "output_type": "stream",
     "text": [
      "None\n"
     ]
    }
   ],
   "source": [
    "# Parse parameters and hyper-parameters from config file\n",
    "\n",
    "test_ratio   = config.getfloat('test_ratio', 0.9)\n",
    "window_size  = config.getint('window_size', 25)\n",
    "num_channels = config.getint('num_channels', 3)\n",
    "output_units = config.getint('output_units', 16)\n",
    "\n",
    "filter_size  = config.getint('filter_size', 13)\n",
    "\n",
    "batch_size   = config.getint('batch_size', 30)\n",
    "max_epochs   = config.getint('max_epochs', 100)\n",
    "\n",
    "decomp_func  = config.get('decomp_func', 'pca').lower()\n",
    "optimizer_fn = config.get('optimizer_fn', 'sgd').lower()\n",
    "optimizer_lr = config.getfloat('optimizer_lr', 0.01)\n",
    "max_patience = config.getint('max_patience', 10)\n",
    "\n",
    "hsi_filters  = config.get('hsi_filters', 'none')\n",
    "hsi_filters  = None if (hsi_filters.lower() in ['none', '']) else int(hsi_filters)\n",
    "print(hsi_filters)"
   ]
  },
  {
   "cell_type": "markdown",
   "metadata": {},
   "source": [
    "## Select proper optimizer and decomposition functions"
   ]
  },
  {
   "cell_type": "code",
   "execution_count": 14,
   "metadata": {},
   "outputs": [],
   "source": [
    "dict_reduction={\n",
    "    'fa' : applyFA,\n",
    "    'nmf' : applyNMF,\n",
    "    'pca': applyPCA,\n",
    "    'svd': applySVD,\n",
    "    'none': applyNone\n",
    "}\n",
    "\n",
    "DimReduction=dict_reduction.get(decomp_func)\n",
    "\n",
    "dict_optimizer = {\n",
    "    'sgd'     : SGD(learning_rate=optimizer_lr, momentum=0.9, nesterov=False),\n",
    "    'adadelta': Adadelta(learning_rate=optimizer_lr, rho=0.95, epsilon=1e-07),\n",
    "    'adam'    : Adam(learning_rate=optimizer_lr, epsilon=1e-07, decay=1e-06),\n",
    "    'nadam'   : Nadam(learning_rate=optimizer_lr, epsilon=1e-07),\n",
    "    'adamax'  : Adamax(learning_rate=optimizer_lr, epsilon=1e-07),\n",
    "    'adagrad' : Adagrad(learning_rate=optimizer_lr, epsilon=1e-07)\n",
    "}\n",
    "\n",
    "FuncOptimizer = dict_optimizer.get(optimizer_fn)"
   ]
  },
  {
   "cell_type": "code",
   "execution_count": 15,
   "metadata": {},
   "outputs": [],
   "source": [
    "# Define names of output files\n",
    "best_model          = dataset + '-best-model.hdf5'\n",
    "last_model          = dataset + '-last-model.hdf5'\n",
    "loss_curve          = dataset + '-loss-curve.png'\n",
    "acc_curve           = dataset + '-acc-curve.png'\n",
    "classification_file = dataset + '-classification_report.txt'\n",
    "predictions_img     = dataset + '-predictions.png'\n",
    "architecture_img    = dataset + '-architecture.png'"
   ]
  },
  {
   "cell_type": "code",
   "execution_count": 16,
   "metadata": {
    "colab": {
     "base_uri": "https://localhost:8080/",
     "height": 34
    },
    "executionInfo": {
     "elapsed": 5525,
     "status": "ok",
     "timestamp": 1602478409238,
     "user": {
      "displayName": "Tanmay Chakraborty",
      "photoUrl": "https://lh3.googleusercontent.com/a-/AOh14Gi7eevbipSJbPNmjfEacGnvwa7ZJkT_EcljzNX6FQ=s64",
      "userId": "10513402671331353489"
     },
     "user_tz": -330
    },
    "id": "cnneGlFFNRVo",
    "outputId": "3b00138d-9d02-4b14-f6e2-2b1dc9ad8aeb"
   },
   "outputs": [
    {
     "data": {
      "text/plain": [
       "((145, 145, 200), (145, 145))"
      ]
     },
     "execution_count": 16,
     "metadata": {},
     "output_type": "execute_result"
    }
   ],
   "source": [
    "HSI, HSI_y = readData(dataset[0:2].upper())\n",
    "\n",
    "HSI.shape, HSI_y.shape"
   ]
  },
  {
   "cell_type": "code",
   "execution_count": 37,
   "metadata": {
    "executionInfo": {
     "elapsed": 5518,
     "status": "ok",
     "timestamp": 1602478409239,
     "user": {
      "displayName": "Tanmay Chakraborty",
      "photoUrl": "https://lh3.googleusercontent.com/a-/AOh14Gi7eevbipSJbPNmjfEacGnvwa7ZJkT_EcljzNX6FQ=s64",
      "userId": "10513402671331353489"
     },
     "user_tz": -330
    },
    "id": "TOGl1BmWNdyv"
   },
   "outputs": [],
   "source": [
    "num_channels = np.min([HSI.shape[2], num_channels])"
   ]
  },
  {
   "cell_type": "code",
   "execution_count": 39,
   "metadata": {
    "colab": {
     "base_uri": "https://localhost:8080/",
     "height": 34
    },
    "executionInfo": {
     "elapsed": 30165,
     "status": "ok",
     "timestamp": 1602478433894,
     "user": {
      "displayName": "Tanmay Chakraborty",
      "photoUrl": "https://lh3.googleusercontent.com/a-/AOh14Gi7eevbipSJbPNmjfEacGnvwa7ZJkT_EcljzNX6FQ=s64",
      "userId": "10513402671331353489"
     },
     "user_tz": -330
    },
    "id": "fTYzjiltNj8a",
    "outputId": "7bfa99db-15b8-40d1-83b2-b7d32d039c0e"
   },
   "outputs": [
    {
     "data": {
      "text/plain": [
       "(145, 145, 200)"
      ]
     },
     "execution_count": 39,
     "metadata": {},
     "output_type": "execute_result"
    }
   ],
   "source": [
    "DRI, dim_reduction = DimReduction(HSI,numComponents=num_channels)\n",
    "\n",
    "num_channels = DRI.shape[2]\n",
    "DRI.shape"
   ]
  },
  {
   "cell_type": "code",
   "execution_count": 19,
   "metadata": {
    "colab": {
     "base_uri": "https://localhost:8080/",
     "height": 34
    },
    "executionInfo": {
     "elapsed": 31758,
     "status": "ok",
     "timestamp": 1602478435499,
     "user": {
      "displayName": "Tanmay Chakraborty",
      "photoUrl": "https://lh3.googleusercontent.com/a-/AOh14Gi7eevbipSJbPNmjfEacGnvwa7ZJkT_EcljzNX6FQ=s64",
      "userId": "10513402671331353489"
     },
     "user_tz": -330
    },
    "id": "hiZiDsE0cN-O",
    "outputId": "acf836b7-666b-4104-c856-d4e0b1d1f84f"
   },
   "outputs": [
    {
     "data": {
      "text/plain": [
       "((10249, 27, 27, 200, 1), (10249,))"
      ]
     },
     "execution_count": 19,
     "metadata": {},
     "output_type": "execute_result"
    }
   ],
   "source": [
    "X, y = createImageCubes(DRI, HSI_y, window_size=window_size)\n",
    "X = X.reshape(-1, window_size, window_size, num_channels, 1)\n",
    "\n",
    "X.shape, y.shape"
   ]
  },
  {
   "cell_type": "code",
   "execution_count": 20,
   "metadata": {
    "colab": {
     "base_uri": "https://localhost:8080/",
     "height": 34
    },
    "executionInfo": {
     "elapsed": 31739,
     "status": "ok",
     "timestamp": 1602478435500,
     "user": {
      "displayName": "Tanmay Chakraborty",
      "photoUrl": "https://lh3.googleusercontent.com/a-/AOh14Gi7eevbipSJbPNmjfEacGnvwa7ZJkT_EcljzNX6FQ=s64",
      "userId": "10513402671331353489"
     },
     "user_tz": -330
    },
    "id": "OMYMZxnDcSHb",
    "outputId": "8e9b4564-aff1-40e2-b081-7154c18d5d77"
   },
   "outputs": [
    {
     "name": "stdout",
     "output_type": "stream",
     "text": [
      "Splitting training set\n",
      "Splitting validation and testing sets\n",
      "(3074, 27, 27, 200, 1) (5023, 27, 27, 200, 1) (3074,) (5023,)\n",
      "(2152, 27, 27, 200, 1) (2152,)\n"
     ]
    }
   ],
   "source": [
    "print(\"Splitting training set\")\n",
    "Xtrain, Xtest, ytrain, ytest = splitTrainTestSet(X, y, test_ratio)\n",
    "print(\"Splitting validation and testing sets\")\n",
    "Xvalidate, Xtest, yvalidate, ytest = splitTrainTestSet(Xtest, ytest, 0.7, random_state=None)\n",
    "# Xvalidate, _, yvalidate, _ = splitTrainTestSet(X, y, 0.5, random_state=None)\n",
    "\n",
    "print(Xtrain.shape, Xtest.shape, ytrain.shape, ytest.shape)\n",
    "print(Xvalidate.shape, yvalidate.shape)"
   ]
  },
  {
   "cell_type": "code",
   "execution_count": 21,
   "metadata": {},
   "outputs": [],
   "source": [
    "from sklearn.utils import class_weight\n",
    "sample_weights = class_weight.compute_sample_weight(class_weight = 'balanced', y = ytrain)\n",
    "#print(sample_weights[:20])\n",
    "#sample_weight_dict = dict(enumerate(sample_weight))\n",
    "#print(sample_weight_dict)"
   ]
  },
  {
   "cell_type": "code",
   "execution_count": null,
   "metadata": {
    "colab": {
     "base_uri": "https://localhost:8080/",
     "height": 34
    },
    "executionInfo": {
     "elapsed": 31716,
     "status": "ok",
     "timestamp": 1602478435501,
     "user": {
      "displayName": "Tanmay Chakraborty",
      "photoUrl": "https://lh3.googleusercontent.com/a-/AOh14Gi7eevbipSJbPNmjfEacGnvwa7ZJkT_EcljzNX6FQ=s64",
      "userId": "10513402671331353489"
     },
     "user_tz": -330
    },
    "id": "VBvWzipfcZDK",
    "outputId": "af402f16-e7ee-4272-c243-ae05646c8317"
   },
   "outputs": [],
   "source": []
  },
  {
   "cell_type": "code",
   "execution_count": 22,
   "metadata": {
    "colab": {
     "base_uri": "https://localhost:8080/",
     "height": 34
    },
    "executionInfo": {
     "elapsed": 31703,
     "status": "ok",
     "timestamp": 1602478435502,
     "user": {
      "displayName": "Tanmay Chakraborty",
      "photoUrl": "https://lh3.googleusercontent.com/a-/AOh14Gi7eevbipSJbPNmjfEacGnvwa7ZJkT_EcljzNX6FQ=s64",
      "userId": "10513402671331353489"
     },
     "user_tz": -330
    },
    "id": "lxr7HMjocZvd",
    "outputId": "cb12450a-7ffc-44a2-d57b-2e42e0402ec4"
   },
   "outputs": [
    {
     "data": {
      "text/plain": [
       "((3074, 16), (2152, 16))"
      ]
     },
     "execution_count": 22,
     "metadata": {},
     "output_type": "execute_result"
    }
   ],
   "source": [
    "ytrain = np_utils.to_categorical(ytrain)\n",
    "yvalidate = np_utils.to_categorical(yvalidate)\n",
    "ytrain.shape, yvalidate.shape"
   ]
  },
  {
   "cell_type": "code",
   "execution_count": 23,
   "metadata": {},
   "outputs": [],
   "source": [
    "input_shape =  (window_size, window_size, num_channels, 1)"
   ]
  },
  {
   "cell_type": "markdown",
   "metadata": {},
   "source": [
    "# Build network"
   ]
  },
  {
   "cell_type": "code",
   "execution_count": 24,
   "metadata": {
    "executionInfo": {
     "elapsed": 31657,
     "status": "ok",
     "timestamp": 1602478435506,
     "user": {
      "displayName": "Tanmay Chakraborty",
      "photoUrl": "https://lh3.googleusercontent.com/a-/AOh14Gi7eevbipSJbPNmjfEacGnvwa7ZJkT_EcljzNX6FQ=s64",
      "userId": "10513402671331353489"
     },
     "user_tz": -330
    },
    "id": "5taLY_ljgFq3"
   },
   "outputs": [
    {
     "name": "stdout",
     "output_type": "stream",
     "text": [
      "(27, 27, 200, 1)\n",
      "*** Building Jigsaw with up to 9x9 kernels\n"
     ]
    }
   ],
   "source": [
    "\n",
    "input_shape =  (window_size, window_size, num_channels, 1) #, 1)\n",
    "print(input_shape)\n",
    "model = clone_model(build_jigsawHSI(internal_size = filter_size,\n",
    "                      num_classes = output_units,\n",
    "                      verbose=1,\n",
    "                      dimension_filters=hsi_filters, # Was None,\n",
    "                      image_dim = input_shape))\n",
    "\n"
   ]
  },
  {
   "cell_type": "code",
   "execution_count": 25,
   "metadata": {
    "colab": {
     "base_uri": "https://localhost:8080/",
     "height": 1000
    },
    "executionInfo": {
     "elapsed": 32872,
     "status": "ok",
     "timestamp": 1602478436734,
     "user": {
      "displayName": "Tanmay Chakraborty",
      "photoUrl": "https://lh3.googleusercontent.com/a-/AOh14Gi7eevbipSJbPNmjfEacGnvwa7ZJkT_EcljzNX6FQ=s64",
      "userId": "10513402671331353489"
     },
     "user_tz": -330
    },
    "id": "iVgd4QmzgKKq",
    "outputId": "32d4779c-5699-49b0-eaef-613ac3ef7968"
   },
   "outputs": [
    {
     "name": "stdout",
     "output_type": "stream",
     "text": [
      "Model: \"JigsawHSI\"\n",
      "__________________________________________________________________________________________________\n",
      "Layer (type)                    Output Shape         Param #     Connected to                     \n",
      "==================================================================================================\n",
      "input_1 (InputLayer)            [(None, 27, 27, 200, 0                                            \n",
      "__________________________________________________________________________________________________\n",
      "layer_normalization (LayerNorma (None, 27, 27, 200,  54          input_1[0][0]                    \n",
      "__________________________________________________________________________________________________\n",
      "3d_1x1x7 (Conv3D)               (None, 27, 27, 97, 6 512         layer_normalization[0][0]        \n",
      "__________________________________________________________________________________________________\n",
      "3d_1x1x5 (Conv3D)               (None, 27, 27, 47, 3 10272       3d_1x1x7[0][0]                   \n",
      "__________________________________________________________________________________________________\n",
      "3d_1x1x3 (Conv3D)               (None, 27, 27, 23, 1 1552        3d_1x1x5[0][0]                   \n",
      "__________________________________________________________________________________________________\n",
      "reshape_1 (Reshape)             (None, 27, 27, 200)  0           input_1[0][0]                    \n",
      "__________________________________________________________________________________________________\n",
      "reshape (Reshape)               (None, 27, 27, 368)  0           3d_1x1x3[0][0]                   \n",
      "__________________________________________________________________________________________________\n",
      "cropping2d (Cropping2D)         (None, 1, 1, 200)    0           reshape_1[0][0]                  \n",
      "__________________________________________________________________________________________________\n",
      "conv2d_1 (Conv2D)               (None, 27, 27, 64)   23616       reshape[0][0]                    \n",
      "__________________________________________________________________________________________________\n",
      "conv2d_3 (Conv2D)               (None, 27, 27, 16)   5904        reshape[0][0]                    \n",
      "__________________________________________________________________________________________________\n",
      "conv2d_5 (Conv2D)               (None, 27, 27, 16)   5904        reshape[0][0]                    \n",
      "__________________________________________________________________________________________________\n",
      "conv2d_7 (Conv2D)               (None, 27, 27, 16)   5904        reshape[0][0]                    \n",
      "__________________________________________________________________________________________________\n",
      "flatten_2 (Flatten)             (None, 200)          0           cropping2d[0][0]                 \n",
      "__________________________________________________________________________________________________\n",
      "conv2d_2 (Conv2D)               (None, 27, 27, 64)   36928       conv2d_1[0][0]                   \n",
      "__________________________________________________________________________________________________\n",
      "conv2d_4 (Conv2D)               (None, 27, 27, 16)   6416        conv2d_3[0][0]                   \n",
      "__________________________________________________________________________________________________\n",
      "conv2d_6 (Conv2D)               (None, 27, 27, 16)   12560       conv2d_5[0][0]                   \n",
      "__________________________________________________________________________________________________\n",
      "conv2d_8 (Conv2D)               (None, 27, 27, 16)   20752       conv2d_7[0][0]                   \n",
      "__________________________________________________________________________________________________\n",
      "dense_1 (Dense)                 (None, 16)           3216        flatten_2[0][0]                  \n",
      "__________________________________________________________________________________________________\n",
      "concatenate (Concatenate)       (None, 27, 27, 112)  0           conv2d_2[0][0]                   \n",
      "                                                                 conv2d_4[0][0]                   \n",
      "                                                                 conv2d_6[0][0]                   \n",
      "                                                                 conv2d_8[0][0]                   \n",
      "__________________________________________________________________________________________________\n",
      "dropout_1 (Dropout)             (None, 16)           0           dense_1[0][0]                    \n",
      "__________________________________________________________________________________________________\n",
      "flatten_1 (Flatten)             (None, 81648)        0           concatenate[0][0]                \n",
      "__________________________________________________________________________________________________\n",
      "dense_2 (Dense)                 (None, 16)           272         dropout_1[0][0]                  \n",
      "__________________________________________________________________________________________________\n",
      "dense (Dense)                   (None, 256)          20902144    flatten_1[0][0]                  \n",
      "__________________________________________________________________________________________________\n",
      "dropout_2 (Dropout)             (None, 16)           0           dense_2[0][0]                    \n",
      "__________________________________________________________________________________________________\n",
      "dropout (Dropout)               (None, 256)          0           dense[0][0]                      \n",
      "__________________________________________________________________________________________________\n",
      "concatenate_1 (Concatenate)     (None, 272)          0           dropout_2[0][0]                  \n",
      "                                                                 dropout[0][0]                    \n",
      "__________________________________________________________________________________________________\n",
      "dense_3 (Dense)                 (None, 128)          34944       concatenate_1[0][0]              \n",
      "__________________________________________________________________________________________________\n",
      "dropout_3 (Dropout)             (None, 128)          0           dense_3[0][0]                    \n",
      "__________________________________________________________________________________________________\n",
      "Softmax (Dense)                 (None, 16)           2064        dropout_3[0][0]                  \n",
      "==================================================================================================\n",
      "Total params: 21,073,014\n",
      "Trainable params: 21,073,014\n",
      "Non-trainable params: 0\n",
      "__________________________________________________________________________________________________\n"
     ]
    },
    {
     "data": {
      "image/png": "[encoded data removed]",
      "text/plain": [
       "<IPython.core.display.Image object>"
      ]
     },
     "execution_count": 25,
     "metadata": {},
     "output_type": "execute_result"
    }
   ],
   "source": [
    "model.summary()\n",
    "plot_model(model)\n",
    "plot_model(model, to_file=architecture_img)"
   ]
  },
  {
   "cell_type": "code",
   "execution_count": 26,
   "metadata": {
    "executionInfo": {
     "elapsed": 32861,
     "status": "ok",
     "timestamp": 1602478436735,
     "user": {
      "displayName": "Tanmay Chakraborty",
      "photoUrl": "https://lh3.googleusercontent.com/a-/AOh14Gi7eevbipSJbPNmjfEacGnvwa7ZJkT_EcljzNX6FQ=s64",
      "userId": "10513402671331353489"
     },
     "user_tz": -330
    },
    "id": "OYsuViCjhSA3"
   },
   "outputs": [],
   "source": [
    "# Parallelize if gpus > 1\n",
    "if (max_gpus>1):\n",
    "    model = multi_gpu_model(model, gpus=max_gpus)\n",
    "# Compile model\n",
    "model.compile(loss='categorical_crossentropy', optimizer=FuncOptimizer, metrics=['accuracy'])"
   ]
  },
  {
   "cell_type": "markdown",
   "metadata": {},
   "source": [
    "# Callback functions: EarlyStop and ModelCheckpoint"
   ]
  },
  {
   "cell_type": "code",
   "execution_count": 27,
   "metadata": {
    "executionInfo": {
     "elapsed": 32854,
     "status": "ok",
     "timestamp": 1602478436736,
     "user": {
      "displayName": "Tanmay Chakraborty",
      "photoUrl": "https://lh3.googleusercontent.com/a-/AOh14Gi7eevbipSJbPNmjfEacGnvwa7ZJkT_EcljzNX6FQ=s64",
      "userId": "10513402671331353489"
     },
     "user_tz": -330
    },
    "id": "sUQZa9UD-rsL"
   },
   "outputs": [],
   "source": [
    "# Saves the best model, based on accuracy\n",
    "checkpoint = ModelCheckpoint(best_model, monitor='val_accuracy', verbose=1, save_best_only=True, mode='auto')\n",
    "checkpoint2 = ModelCheckpoint(last_model, monitor='accuracy', verbose=1, save_best_only=False, mode='auto', save_freq='epoch')\n",
    "callbacks_list = [checkpoint, checkpoint2]"
   ]
  },
  {
   "cell_type": "code",
   "execution_count": 61,
   "metadata": {},
   "outputs": [],
   "source": [
    "# If no early stopping desired, skip this cell\n",
    "\n",
    "early_stop = EarlyStopping( monitor = 'val_loss',\n",
    "                           min_delta=0.001,\n",
    "                           mode='auto',\n",
    "                           verbose=1, patience=max_patience)\n",
    "early_stop2 = MyThresholdCallback(threshold=0.99999)\n",
    "\n",
    "callbacks_list = [checkpoint, checkpoint2, early_stop, early_stop2]\n"
   ]
  },
  {
   "cell_type": "code",
   "execution_count": 29,
   "metadata": {},
   "outputs": [
    {
     "name": "stdout",
     "output_type": "stream",
     "text": [
      "Configuration for dataset [IP_3d]:\n",
      "\n",
      "Test Set Ratio: 70.0% of samples\n",
      "Window Size   : 27 pixels per side\n",
      "Dim. Reduction: None function\n",
      "Num channels  : 200 bands after None\n",
      "# Network design\n",
      "Input shape   : (27x27x200)\n",
      "HSI Filters   : None filters in first layer\n",
      "Internal Size : (9x9) maximum network filter size\n",
      "# Training hyperparameters\n",
      "Optimizer     : adadelta\n",
      "Learning rate : 0.1\n",
      "Batch Size    : 20\n",
      "Num Epochs    : 200\n",
      "Patience      : 20\n",
      "# Training GPUs\n",
      "GPU Maximum   : 1\n",
      "\n"
     ]
    }
   ],
   "source": [
    "# Summarize configuration\n",
    "config_txt  = f'Configuration for dataset [{dataset}]:\\n\\n'\n",
    "config_txt += f'Test Set Ratio: {test_ratio*100}% of samples\\n'\n",
    "config_txt += f'Window Size   : {window_size} pixels per side\\n'\n",
    "config_txt += f'Dim. Reduction: {dim_reduction} function\\n'\n",
    "config_txt += f'Num channels  : {num_channels} bands after {dim_reduction}\\n'\n",
    "config_txt += '# Network design\\n'\n",
    "config_txt += f'Input shape   : ({window_size}x{window_size}x{num_channels})\\n'\n",
    "config_txt += f'HSI Filters   : {hsi_filters} filters in first layer\\n'\n",
    "config_txt += f'Internal Size : ({filter_size}x{filter_size}) maximum network filter size\\n'\n",
    "config_txt += '# Training hyperparameters\\n'\n",
    "config_txt += f'Optimizer     : {optimizer_fn}\\n'\n",
    "config_txt += f'Learning rate : {optimizer_lr}\\n'\n",
    "config_txt += f'Batch Size    : {batch_size}\\n'\n",
    "config_txt += f'Num Epochs    : {max_epochs}\\n' \n",
    "config_txt += f'Patience      : {max_patience}\\n'\n",
    "config_txt += '# Training GPUs\\n'\n",
    "config_txt += f'GPU Maximum   : {max_gpus}\\n'\n",
    "print(config_txt)"
   ]
  },
  {
   "cell_type": "markdown",
   "metadata": {},
   "source": [
    "# Spatial Cross-validation (SKIP IF NOT DOING Spatial Cross-validation)"
   ]
  },
  {
   "cell_type": "code",
   "execution_count": null,
   "metadata": {},
   "outputs": [],
   "source": [
    "from jigsaw.imagespcv import ImageSpCV\n",
    "from sklearn.utils import class_weight\n",
    "\n",
    "do_SpCv = False\n",
    "if (do_SpCv):\n",
    "    iSpCV = ImageSpCV(DRI, HSI_y, kernel_size = window_size, num_channels = num_channels,\n",
    "                          sample = None, verbose = 1, # padding_mode='symmetric',\n",
    "                      partitions=5,\n",
    "                          augment=False, random_state=42)\n",
    "    #cv = iSpCV.SpatialCV()\n",
    "    cv = iSpCV.RepeatedSpCV(2)\n",
    "    X  = iSpCV.X()\n",
    "    X  = X[np.arange(len(X))] # Generate all windows, to make them static\n",
    "    y  = iSpCV.y()-1\n",
    "    # y_cat = to_categorical(y)\n",
    "    for i, (train, test) in enumerate(cv):\n",
    "        pass\n",
    "    print(f'###### Running Fold {(i+1):03d} ######')\n",
    "    train_X = X[train]\n",
    "    Xtrain = train_X.reshape(-1, window_size, window_size, num_channels) #, 1)\n",
    "\n",
    "    train_y = y[train]\n",
    "\n",
    "\n",
    "    sample_weights = class_weight.compute_sample_weight(class_weight = 'balanced', y = train_y)\n",
    "\n",
    "    num_unique_y = np.unique(train_y)\n",
    "    if (len(num_unique_y) < len(np.unique(y))):\n",
    "        print(\"### Not enough samples from each class\")\n",
    "        pass\n",
    "    ytrain = np_utils.to_categorical(train_y, num_classes = output_units)\n",
    "\n",
    "    print(f'> Training shapes: {Xtrain.shape, ytrain.shape}')\n",
    "\n",
    "    # Start validation routines\n",
    "    test_X = X[test]\n",
    "    Xtest = test_X.reshape(-1, window_size, window_size, num_channels, 1)\n",
    "    ytest = y[test]\n",
    "\n",
    "    Xvalidate, Xtest, yvalidate, ytest = splitTrainTestSet(Xtest, ytest, 0.5, random_state=None)\n",
    "\n",
    "    Xvalidate = Xvalidate.reshape(-1, window_size, window_size, num_channels, 1)\n",
    "\n",
    "    yvalidate = np_utils.to_categorical(yvalidate, num_classes = output_units)\n",
    "    print(f'> Validation shapes: {Xvalidate.shape, yvalidate.shape}')"
   ]
  },
  {
   "cell_type": "code",
   "execution_count": null,
   "metadata": {},
   "outputs": [],
   "source": [
    "from jigsaw.datagen import DataGenerator\n",
    "\n",
    "input_shape =  (window_size, window_size, num_channels, 1)  # , 1)\n",
    "\n",
    "params = {'dim':input_shape, 'batch_size': batch_size,\n",
    "        'n_classes': output_units,\n",
    "        'n_channels': num_channels,\n",
    "        'shuffle': False, 'augment_data': False}\n",
    "Xtrain=Xtrain.squeeze()\n",
    "print(f'Xtrain shape: {Xtrain.shape}')\n",
    "my_batch_gen = DataGenerator(Xtrain, ytrain, **params)\n",
    "#Xtrain = train_X.reshape(-1, window_size, window_size, num_channels, 1)\n",
    "#Xtrain = Xtrain.reshape(-1, window_size, window_size, num_channels, 1)"
   ]
  },
  {
   "cell_type": "code",
   "execution_count": null,
   "metadata": {},
   "outputs": [],
   "source": [
    "a = Xtrain[0]\n",
    "print(a.shape)\n",
    "b = np.squeeze(a)\n",
    "print(b.shape)"
   ]
  },
  {
   "cell_type": "markdown",
   "metadata": {},
   "source": [
    "# Fit the model"
   ]
  },
  {
   "cell_type": "code",
   "execution_count": 32,
   "metadata": {},
   "outputs": [
    {
     "data": {
      "text/plain": [
       "12669"
      ]
     },
     "execution_count": 32,
     "metadata": {},
     "output_type": "execute_result"
    }
   ],
   "source": [
    "import gc\n",
    "del X, y\n",
    "gc.collect()"
   ]
  },
  {
   "cell_type": "code",
   "execution_count": 62,
   "metadata": {
    "colab": {
     "base_uri": "https://localhost:8080/",
     "height": 1000
    },
    "executionInfo": {
     "elapsed": 417831,
     "status": "ok",
     "timestamp": 1602478821720,
     "user": {
      "displayName": "Tanmay Chakraborty",
      "photoUrl": "https://lh3.googleusercontent.com/a-/AOh14Gi7eevbipSJbPNmjfEacGnvwa7ZJkT_EcljzNX6FQ=s64",
      "userId": "10513402671331353489"
     },
     "user_tz": -330
    },
    "id": "OVwsWGf1hfg3",
    "outputId": "66ced090-c536-4f79-9bee-71ded4683b4d",
    "scrolled": true
   },
   "outputs": [
    {
     "name": "stdout",
     "output_type": "stream",
     "text": [
      "Epoch 1/200\n",
      "154/154 [==============================] - ETA: 0s - loss: 3.1830 - accuracy: 0.9818\n",
      "Epoch 00001: val_accuracy improved from -inf to 0.98048, saving model to IP_3d-best-model.hdf5\n",
      "\n",
      "Epoch 00001: saving model to IP_3d-last-model.hdf5\n",
      "154/154 [==============================] - 47s 304ms/step - loss: 3.1830 - accuracy: 0.9818 - val_loss: 2.8787 - val_accuracy: 0.9805\n",
      "Epoch 2/200\n",
      "154/154 [==============================] - ETA: 0s - loss: 3.0236 - accuracy: 0.9841\n",
      "Epoch 00002: val_accuracy improved from 0.98048 to 0.98652, saving model to IP_3d-best-model.hdf5\n",
      "\n",
      "Epoch 00002: saving model to IP_3d-last-model.hdf5\n",
      "154/154 [==============================] - 30s 194ms/step - loss: 3.0236 - accuracy: 0.9841 - val_loss: 3.6011 - val_accuracy: 0.9865\n",
      "Epoch 3/200\n",
      "154/154 [==============================] - ETA: 0s - loss: 3.0456 - accuracy: 0.9889\n",
      "Epoch 00003: val_accuracy improved from 0.98652 to 0.98745, saving model to IP_3d-best-model.hdf5\n",
      "\n",
      "Epoch 00003: saving model to IP_3d-last-model.hdf5\n",
      "154/154 [==============================] - 30s 194ms/step - loss: 3.0456 - accuracy: 0.9889 - val_loss: 2.7079 - val_accuracy: 0.9875\n",
      "Epoch 4/200\n",
      "154/154 [==============================] - ETA: 0s - loss: 3.1882 - accuracy: 0.9798\n",
      "Epoch 00004: val_accuracy did not improve from 0.98745\n",
      "\n",
      "Epoch 00004: saving model to IP_3d-last-model.hdf5\n",
      "154/154 [==============================] - 29s 190ms/step - loss: 3.1882 - accuracy: 0.9798 - val_loss: 2.6962 - val_accuracy: 0.9819\n",
      "Epoch 5/200\n",
      "154/154 [==============================] - ETA: 0s - loss: 2.9520 - accuracy: 0.9860\n",
      "Epoch 00005: val_accuracy did not improve from 0.98745\n",
      "\n",
      "Epoch 00005: saving model to IP_3d-last-model.hdf5\n",
      "154/154 [==============================] - 28s 181ms/step - loss: 2.9520 - accuracy: 0.9860 - val_loss: 4.3834 - val_accuracy: 0.9856\n",
      "Epoch 6/200\n",
      "154/154 [==============================] - ETA: 0s - loss: 2.8143 - accuracy: 0.9876\n",
      "Epoch 00006: val_accuracy improved from 0.98745 to 0.98885, saving model to IP_3d-best-model.hdf5\n",
      "\n",
      "Epoch 00006: saving model to IP_3d-last-model.hdf5\n",
      "154/154 [==============================] - 29s 190ms/step - loss: 2.8143 - accuracy: 0.9876 - val_loss: 2.6122 - val_accuracy: 0.9888\n",
      "Epoch 7/200\n",
      "154/154 [==============================] - ETA: 0s - loss: 3.0540 - accuracy: 0.9841\n",
      "Epoch 00007: val_accuracy did not improve from 0.98885\n",
      "\n",
      "Epoch 00007: saving model to IP_3d-last-model.hdf5\n",
      "154/154 [==============================] - 28s 182ms/step - loss: 3.0540 - accuracy: 0.9841 - val_loss: 2.6003 - val_accuracy: 0.9856\n",
      "Epoch 8/200\n",
      "154/154 [==============================] - ETA: 0s - loss: 2.7663 - accuracy: 0.9850\n",
      "Epoch 00008: val_accuracy did not improve from 0.98885\n",
      "\n",
      "Epoch 00008: saving model to IP_3d-last-model.hdf5\n",
      "154/154 [==============================] - 29s 186ms/step - loss: 2.7663 - accuracy: 0.9850 - val_loss: 2.6633 - val_accuracy: 0.9837\n",
      "Epoch 9/200\n",
      "154/154 [==============================] - ETA: 0s - loss: 2.8092 - accuracy: 0.9850\n",
      "Epoch 00009: val_accuracy did not improve from 0.98885\n",
      "\n",
      "Epoch 00009: saving model to IP_3d-last-model.hdf5\n",
      "154/154 [==============================] - 28s 180ms/step - loss: 2.8092 - accuracy: 0.9850 - val_loss: 2.6580 - val_accuracy: 0.9819\n",
      "Epoch 10/200\n",
      "154/154 [==============================] - ETA: 0s - loss: 2.7783 - accuracy: 0.9870\n",
      "Epoch 00010: val_accuracy did not improve from 0.98885\n",
      "\n",
      "Epoch 00010: saving model to IP_3d-last-model.hdf5\n",
      "154/154 [==============================] - 28s 180ms/step - loss: 2.7783 - accuracy: 0.9870 - val_loss: 2.5008 - val_accuracy: 0.9870\n",
      "Epoch 11/200\n",
      "154/154 [==============================] - ETA: 0s - loss: 2.7562 - accuracy: 0.9867\n",
      "Epoch 00011: val_accuracy did not improve from 0.98885\n",
      "\n",
      "Epoch 00011: saving model to IP_3d-last-model.hdf5\n",
      "154/154 [==============================] - 28s 180ms/step - loss: 2.7562 - accuracy: 0.9867 - val_loss: 2.5436 - val_accuracy: 0.9884\n",
      "Epoch 12/200\n",
      "154/154 [==============================] - ETA: 0s - loss: 2.6678 - accuracy: 0.9889\n",
      "Epoch 00012: val_accuracy did not improve from 0.98885\n",
      "\n",
      "Epoch 00012: saving model to IP_3d-last-model.hdf5\n",
      "154/154 [==============================] - 28s 179ms/step - loss: 2.6678 - accuracy: 0.9889 - val_loss: 2.8529 - val_accuracy: 0.9856\n",
      "Epoch 13/200\n",
      "154/154 [==============================] - ETA: 0s - loss: 2.8286 - accuracy: 0.9811\n",
      "Epoch 00013: val_accuracy did not improve from 0.98885\n",
      "\n",
      "Epoch 00013: saving model to IP_3d-last-model.hdf5\n",
      "154/154 [==============================] - 27s 179ms/step - loss: 2.8286 - accuracy: 0.9811 - val_loss: 2.4298 - val_accuracy: 0.9875\n",
      "Epoch 14/200\n",
      "154/154 [==============================] - ETA: 0s - loss: 2.6141 - accuracy: 0.9857\n",
      "Epoch 00014: val_accuracy improved from 0.98885 to 0.98978, saving model to IP_3d-best-model.hdf5\n",
      "\n",
      "Epoch 00014: saving model to IP_3d-last-model.hdf5\n",
      "154/154 [==============================] - 30s 196ms/step - loss: 2.6141 - accuracy: 0.9857 - val_loss: 2.5011 - val_accuracy: 0.9898\n",
      "Epoch 15/200\n",
      "154/154 [==============================] - ETA: 0s - loss: 2.6933 - accuracy: 0.9847\n",
      "Epoch 00015: val_accuracy did not improve from 0.98978\n",
      "\n",
      "Epoch 00015: saving model to IP_3d-last-model.hdf5\n",
      "154/154 [==============================] - 28s 183ms/step - loss: 2.6933 - accuracy: 0.9847 - val_loss: 2.4469 - val_accuracy: 0.9856\n",
      "Epoch 16/200\n",
      "154/154 [==============================] - ETA: 0s - loss: 2.5970 - accuracy: 0.9847\n",
      "Epoch 00016: val_accuracy did not improve from 0.98978\n",
      "\n",
      "Epoch 00016: saving model to IP_3d-last-model.hdf5\n",
      "154/154 [==============================] - 28s 184ms/step - loss: 2.5970 - accuracy: 0.9847 - val_loss: 2.3671 - val_accuracy: 0.9875\n",
      "Epoch 17/200\n",
      "154/154 [==============================] - ETA: 0s - loss: 2.5577 - accuracy: 0.9883\n",
      "Epoch 00017: val_accuracy did not improve from 0.98978\n",
      "\n",
      "Epoch 00017: saving model to IP_3d-last-model.hdf5\n",
      "154/154 [==============================] - 27s 178ms/step - loss: 2.5577 - accuracy: 0.9883 - val_loss: 2.3600 - val_accuracy: 0.9888\n",
      "Epoch 18/200\n",
      "154/154 [==============================] - ETA: 0s - loss: 2.5237 - accuracy: 0.9850\n",
      "Epoch 00018: val_accuracy did not improve from 0.98978\n",
      "\n",
      "Epoch 00018: saving model to IP_3d-last-model.hdf5\n",
      "154/154 [==============================] - 28s 179ms/step - loss: 2.5237 - accuracy: 0.9850 - val_loss: 2.4783 - val_accuracy: 0.9856\n",
      "Epoch 19/200\n",
      "154/154 [==============================] - ETA: 0s - loss: 2.5092 - accuracy: 0.9863\n",
      "Epoch 00019: val_accuracy did not improve from 0.98978\n",
      "\n",
      "Epoch 00019: saving model to IP_3d-last-model.hdf5\n",
      "154/154 [==============================] - 28s 179ms/step - loss: 2.5092 - accuracy: 0.9863 - val_loss: 2.3209 - val_accuracy: 0.9865\n",
      "Epoch 20/200\n",
      "154/154 [==============================] - ETA: 0s - loss: 2.5173 - accuracy: 0.9847\n",
      "Epoch 00020: val_accuracy did not improve from 0.98978\n",
      "\n",
      "Epoch 00020: saving model to IP_3d-last-model.hdf5\n",
      "154/154 [==============================] - 28s 179ms/step - loss: 2.5173 - accuracy: 0.9847 - val_loss: 2.4054 - val_accuracy: 0.9800\n",
      "Epoch 21/200\n",
      "154/154 [==============================] - ETA: 0s - loss: 2.5921 - accuracy: 0.9847\n",
      "Epoch 00021: val_accuracy did not improve from 0.98978\n",
      "\n",
      "Epoch 00021: saving model to IP_3d-last-model.hdf5\n",
      "154/154 [==============================] - 28s 179ms/step - loss: 2.5921 - accuracy: 0.9847 - val_loss: 2.8165 - val_accuracy: 0.9856\n",
      "Epoch 22/200\n",
      "154/154 [==============================] - ETA: 0s - loss: 2.3661 - accuracy: 0.9899\n",
      "Epoch 00022: val_accuracy did not improve from 0.98978\n",
      "\n",
      "Epoch 00022: saving model to IP_3d-last-model.hdf5\n",
      "154/154 [==============================] - 28s 182ms/step - loss: 2.3661 - accuracy: 0.9899 - val_loss: 2.2653 - val_accuracy: 0.9879\n",
      "Epoch 23/200\n",
      "154/154 [==============================] - ETA: 0s - loss: 2.4078 - accuracy: 0.9870\n",
      "Epoch 00023: val_accuracy did not improve from 0.98978\n",
      "\n",
      "Epoch 00023: saving model to IP_3d-last-model.hdf5\n",
      "154/154 [==============================] - 28s 183ms/step - loss: 2.4078 - accuracy: 0.9870 - val_loss: 2.2994 - val_accuracy: 0.9875\n",
      "Epoch 24/200\n",
      "154/154 [==============================] - ETA: 0s - loss: 2.3984 - accuracy: 0.9889\n",
      "Epoch 00024: val_accuracy did not improve from 0.98978\n",
      "\n",
      "Epoch 00024: saving model to IP_3d-last-model.hdf5\n"
     ]
    },
    {
     "name": "stdout",
     "output_type": "stream",
     "text": [
      "154/154 [==============================] - 28s 185ms/step - loss: 2.3984 - accuracy: 0.9889 - val_loss: 2.1682 - val_accuracy: 0.9865\n",
      "Epoch 25/200\n",
      "154/154 [==============================] - ETA: 0s - loss: 2.3595 - accuracy: 0.9873\n",
      "Epoch 00025: val_accuracy did not improve from 0.98978\n",
      "\n",
      "Epoch 00025: saving model to IP_3d-last-model.hdf5\n",
      "154/154 [==============================] - 28s 180ms/step - loss: 2.3595 - accuracy: 0.9873 - val_loss: 2.1400 - val_accuracy: 0.9856\n",
      "Epoch 26/200\n",
      "154/154 [==============================] - ETA: 0s - loss: 2.3401 - accuracy: 0.9841\n",
      "Epoch 00026: val_accuracy improved from 0.98978 to 0.99024, saving model to IP_3d-best-model.hdf5\n",
      "\n",
      "Epoch 00026: saving model to IP_3d-last-model.hdf5\n",
      "154/154 [==============================] - 29s 188ms/step - loss: 2.3401 - accuracy: 0.9841 - val_loss: 2.1777 - val_accuracy: 0.9902\n",
      "Epoch 27/200\n",
      "154/154 [==============================] - ETA: 0s - loss: 2.5291 - accuracy: 0.9815\n",
      "Epoch 00027: val_accuracy improved from 0.99024 to 0.99071, saving model to IP_3d-best-model.hdf5\n",
      "\n",
      "Epoch 00027: saving model to IP_3d-last-model.hdf5\n",
      "154/154 [==============================] - 29s 191ms/step - loss: 2.5291 - accuracy: 0.9815 - val_loss: 2.1534 - val_accuracy: 0.9907\n",
      "Epoch 28/200\n",
      "154/154 [==============================] - ETA: 0s - loss: 2.2211 - accuracy: 0.9912\n",
      "Epoch 00028: val_accuracy did not improve from 0.99071\n",
      "\n",
      "Epoch 00028: saving model to IP_3d-last-model.hdf5\n",
      "154/154 [==============================] - 28s 180ms/step - loss: 2.2211 - accuracy: 0.9912 - val_loss: 2.1317 - val_accuracy: 0.9879\n",
      "Epoch 29/200\n",
      "154/154 [==============================] - ETA: 0s - loss: 2.2441 - accuracy: 0.9893\n",
      "Epoch 00029: val_accuracy did not improve from 0.99071\n",
      "\n",
      "Epoch 00029: saving model to IP_3d-last-model.hdf5\n",
      "154/154 [==============================] - 28s 179ms/step - loss: 2.2441 - accuracy: 0.9893 - val_loss: 2.2061 - val_accuracy: 0.9875\n",
      "Epoch 30/200\n",
      "154/154 [==============================] - ETA: 0s - loss: 2.2365 - accuracy: 0.9876\n",
      "Epoch 00030: val_accuracy did not improve from 0.99071\n",
      "\n",
      "Epoch 00030: saving model to IP_3d-last-model.hdf5\n",
      "154/154 [==============================] - 27s 178ms/step - loss: 2.2365 - accuracy: 0.9876 - val_loss: 2.2411 - val_accuracy: 0.9879\n",
      "Epoch 31/200\n",
      "154/154 [==============================] - ETA: 0s - loss: 2.2269 - accuracy: 0.9883\n",
      "Epoch 00031: val_accuracy did not improve from 0.99071\n",
      "\n",
      "Epoch 00031: saving model to IP_3d-last-model.hdf5\n",
      "154/154 [==============================] - 29s 188ms/step - loss: 2.2269 - accuracy: 0.9883 - val_loss: 2.0490 - val_accuracy: 0.9870\n",
      "Epoch 32/200\n",
      "154/154 [==============================] - ETA: 0s - loss: 2.2027 - accuracy: 0.9873\n",
      "Epoch 00032: val_accuracy did not improve from 0.99071\n",
      "\n",
      "Epoch 00032: saving model to IP_3d-last-model.hdf5\n",
      "154/154 [==============================] - 28s 179ms/step - loss: 2.2027 - accuracy: 0.9873 - val_loss: 2.1240 - val_accuracy: 0.9902\n",
      "Epoch 33/200\n",
      "154/154 [==============================] - ETA: 0s - loss: 2.1559 - accuracy: 0.9906\n",
      "Epoch 00033: val_accuracy did not improve from 0.99071\n",
      "\n",
      "Epoch 00033: saving model to IP_3d-last-model.hdf5\n",
      "154/154 [==============================] - 27s 178ms/step - loss: 2.1559 - accuracy: 0.9906 - val_loss: 2.0742 - val_accuracy: 0.9893\n",
      "Epoch 34/200\n",
      "154/154 [==============================] - ETA: 0s - loss: 2.1374 - accuracy: 0.9883\n",
      "Epoch 00034: val_accuracy did not improve from 0.99071\n",
      "\n",
      "Epoch 00034: saving model to IP_3d-last-model.hdf5\n",
      "154/154 [==============================] - 28s 179ms/step - loss: 2.1374 - accuracy: 0.9883 - val_loss: 2.0879 - val_accuracy: 0.9884\n",
      "Epoch 35/200\n",
      "154/154 [==============================] - ETA: 0s - loss: 2.0990 - accuracy: 0.9912\n",
      "Epoch 00035: val_accuracy did not improve from 0.99071\n",
      "\n",
      "Epoch 00035: saving model to IP_3d-last-model.hdf5\n",
      "154/154 [==============================] - 28s 179ms/step - loss: 2.0990 - accuracy: 0.9912 - val_loss: 1.9361 - val_accuracy: 0.9888\n",
      "Epoch 36/200\n",
      "154/154 [==============================] - ETA: 0s - loss: 2.2325 - accuracy: 0.9883\n",
      "Epoch 00036: val_accuracy improved from 0.99071 to 0.99117, saving model to IP_3d-best-model.hdf5\n",
      "\n",
      "Epoch 00036: saving model to IP_3d-last-model.hdf5\n",
      "154/154 [==============================] - 30s 192ms/step - loss: 2.2325 - accuracy: 0.9883 - val_loss: 1.9583 - val_accuracy: 0.9912\n",
      "Epoch 37/200\n",
      "154/154 [==============================] - ETA: 0s - loss: 2.0299 - accuracy: 0.9906\n",
      "Epoch 00037: val_accuracy did not improve from 0.99117\n",
      "\n",
      "Epoch 00037: saving model to IP_3d-last-model.hdf5\n",
      "154/154 [==============================] - 28s 180ms/step - loss: 2.0299 - accuracy: 0.9906 - val_loss: 2.4603 - val_accuracy: 0.9884\n",
      "Epoch 38/200\n",
      "154/154 [==============================] - ETA: 0s - loss: 2.0405 - accuracy: 0.9850\n",
      "Epoch 00038: val_accuracy did not improve from 0.99117\n",
      "\n",
      "Epoch 00038: saving model to IP_3d-last-model.hdf5\n",
      "154/154 [==============================] - 28s 185ms/step - loss: 2.0405 - accuracy: 0.9850 - val_loss: 1.8943 - val_accuracy: 0.9884\n",
      "Epoch 39/200\n",
      "154/154 [==============================] - ETA: 0s - loss: 2.0412 - accuracy: 0.9873\n",
      "Epoch 00039: val_accuracy did not improve from 0.99117\n",
      "\n",
      "Epoch 00039: saving model to IP_3d-last-model.hdf5\n",
      "154/154 [==============================] - 28s 184ms/step - loss: 2.0412 - accuracy: 0.9873 - val_loss: 2.2154 - val_accuracy: 0.9805\n",
      "Epoch 40/200\n",
      "154/154 [==============================] - ETA: 0s - loss: 1.9926 - accuracy: 0.9860\n",
      "Epoch 00040: val_accuracy did not improve from 0.99117\n",
      "\n",
      "Epoch 00040: saving model to IP_3d-last-model.hdf5\n",
      "154/154 [==============================] - 28s 179ms/step - loss: 1.9926 - accuracy: 0.9860 - val_loss: 1.8675 - val_accuracy: 0.9912\n",
      "Epoch 41/200\n",
      "154/154 [==============================] - ETA: 0s - loss: 2.0093 - accuracy: 0.9889\n",
      "Epoch 00041: val_accuracy did not improve from 0.99117\n",
      "\n",
      "Epoch 00041: saving model to IP_3d-last-model.hdf5\n",
      "154/154 [==============================] - 28s 179ms/step - loss: 2.0093 - accuracy: 0.9889 - val_loss: 1.9074 - val_accuracy: 0.9893\n",
      "Epoch 42/200\n",
      "154/154 [==============================] - ETA: 0s - loss: 1.9689 - accuracy: 0.9870\n",
      "Epoch 00042: val_accuracy did not improve from 0.99117\n",
      "\n",
      "Epoch 00042: saving model to IP_3d-last-model.hdf5\n",
      "154/154 [==============================] - 28s 179ms/step - loss: 1.9689 - accuracy: 0.9870 - val_loss: 2.1730 - val_accuracy: 0.9884\n",
      "Epoch 43/200\n",
      "154/154 [==============================] - ETA: 0s - loss: 1.9688 - accuracy: 0.9889\n",
      "Epoch 00043: val_accuracy did not improve from 0.99117\n",
      "\n",
      "Epoch 00043: saving model to IP_3d-last-model.hdf5\n",
      "154/154 [==============================] - 28s 179ms/step - loss: 1.9688 - accuracy: 0.9889 - val_loss: 1.7910 - val_accuracy: 0.9879\n",
      "Epoch 44/200\n",
      "154/154 [==============================] - ETA: 0s - loss: 1.9120 - accuracy: 0.9896\n",
      "Epoch 00044: val_accuracy did not improve from 0.99117\n",
      "\n",
      "Epoch 00044: saving model to IP_3d-last-model.hdf5\n",
      "154/154 [==============================] - 27s 178ms/step - loss: 1.9120 - accuracy: 0.9896 - val_loss: 1.8560 - val_accuracy: 0.9898\n",
      "Epoch 45/200\n",
      "154/154 [==============================] - ETA: 0s - loss: 1.9089 - accuracy: 0.9902\n",
      "Epoch 00045: val_accuracy did not improve from 0.99117\n",
      "\n",
      "Epoch 00045: saving model to IP_3d-last-model.hdf5\n",
      "154/154 [==============================] - 27s 178ms/step - loss: 1.9089 - accuracy: 0.9902 - val_loss: 1.9375 - val_accuracy: 0.9865\n",
      "Epoch 46/200\n",
      "154/154 [==============================] - ETA: 0s - loss: 1.8788 - accuracy: 0.9899\n",
      "Epoch 00046: val_accuracy did not improve from 0.99117\n",
      "\n",
      "Epoch 00046: saving model to IP_3d-last-model.hdf5\n",
      "154/154 [==============================] - 28s 184ms/step - loss: 1.8788 - accuracy: 0.9899 - val_loss: 1.7705 - val_accuracy: 0.9912\n",
      "Epoch 47/200\n",
      "154/154 [==============================] - ETA: 0s - loss: 1.8710 - accuracy: 0.9919\n",
      "Epoch 00047: val_accuracy improved from 0.99117 to 0.99164, saving model to IP_3d-best-model.hdf5\n",
      "\n",
      "Epoch 00047: saving model to IP_3d-last-model.hdf5\n",
      "154/154 [==============================] - 30s 196ms/step - loss: 1.8710 - accuracy: 0.9919 - val_loss: 1.7915 - val_accuracy: 0.9916\n",
      "Epoch 48/200\n"
     ]
    },
    {
     "name": "stdout",
     "output_type": "stream",
     "text": [
      "154/154 [==============================] - ETA: 0s - loss: 1.8427 - accuracy: 0.9889\n",
      "Epoch 00048: val_accuracy did not improve from 0.99164\n",
      "\n",
      "Epoch 00048: saving model to IP_3d-last-model.hdf5\n",
      "154/154 [==============================] - 28s 179ms/step - loss: 1.8427 - accuracy: 0.9889 - val_loss: 1.8534 - val_accuracy: 0.9879\n",
      "Epoch 49/200\n",
      "154/154 [==============================] - ETA: 0s - loss: 1.8346 - accuracy: 0.9925\n",
      "Epoch 00049: val_accuracy did not improve from 0.99164\n",
      "\n",
      "Epoch 00049: saving model to IP_3d-last-model.hdf5\n",
      "154/154 [==============================] - 28s 179ms/step - loss: 1.8346 - accuracy: 0.9925 - val_loss: 1.7856 - val_accuracy: 0.9879\n",
      "Epoch 50/200\n",
      "154/154 [==============================] - ETA: 0s - loss: 1.8285 - accuracy: 0.9912\n",
      "Epoch 00050: val_accuracy did not improve from 0.99164\n",
      "\n",
      "Epoch 00050: saving model to IP_3d-last-model.hdf5\n",
      "154/154 [==============================] - 28s 179ms/step - loss: 1.8285 - accuracy: 0.9912 - val_loss: 1.7278 - val_accuracy: 0.9912\n",
      "Epoch 51/200\n",
      "154/154 [==============================] - ETA: 0s - loss: 1.8135 - accuracy: 0.9909\n",
      "Epoch 00051: val_accuracy improved from 0.99164 to 0.99303, saving model to IP_3d-best-model.hdf5\n",
      "\n",
      "Epoch 00051: saving model to IP_3d-last-model.hdf5\n",
      "154/154 [==============================] - 29s 191ms/step - loss: 1.8135 - accuracy: 0.9909 - val_loss: 1.6886 - val_accuracy: 0.9930\n",
      "Epoch 52/200\n",
      "154/154 [==============================] - ETA: 0s - loss: 1.8041 - accuracy: 0.9899\n",
      "Epoch 00052: val_accuracy did not improve from 0.99303\n",
      "\n",
      "Epoch 00052: saving model to IP_3d-last-model.hdf5\n",
      "154/154 [==============================] - 28s 179ms/step - loss: 1.8041 - accuracy: 0.9899 - val_loss: 1.6798 - val_accuracy: 0.9916\n",
      "Epoch 53/200\n",
      "154/154 [==============================] - ETA: 0s - loss: 1.7936 - accuracy: 0.9941\n",
      "Epoch 00053: val_accuracy did not improve from 0.99303\n",
      "\n",
      "Epoch 00053: saving model to IP_3d-last-model.hdf5\n",
      "154/154 [==============================] - 28s 179ms/step - loss: 1.7936 - accuracy: 0.9941 - val_loss: 1.7108 - val_accuracy: 0.9898\n",
      "Epoch 54/200\n",
      "154/154 [==============================] - ETA: 0s - loss: 1.7597 - accuracy: 0.9915\n",
      "Epoch 00054: val_accuracy did not improve from 0.99303\n",
      "\n",
      "Epoch 00054: saving model to IP_3d-last-model.hdf5\n",
      "154/154 [==============================] - 28s 182ms/step - loss: 1.7597 - accuracy: 0.9915 - val_loss: 1.6310 - val_accuracy: 0.9898\n",
      "Epoch 55/200\n",
      "154/154 [==============================] - ETA: 0s - loss: 1.6946 - accuracy: 0.9951\n",
      "Epoch 00055: val_accuracy did not improve from 0.99303\n",
      "\n",
      "Epoch 00055: saving model to IP_3d-last-model.hdf5\n",
      "154/154 [==============================] - 28s 183ms/step - loss: 1.6946 - accuracy: 0.9951 - val_loss: 1.7133 - val_accuracy: 0.9898\n",
      "Epoch 56/200\n",
      "154/154 [==============================] - ETA: 0s - loss: 1.7227 - accuracy: 0.9912\n",
      "Epoch 00056: val_accuracy did not improve from 0.99303\n",
      "\n",
      "Epoch 00056: saving model to IP_3d-last-model.hdf5\n",
      "154/154 [==============================] - 28s 179ms/step - loss: 1.7227 - accuracy: 0.9912 - val_loss: 1.6544 - val_accuracy: 0.9907\n",
      "Epoch 57/200\n",
      "154/154 [==============================] - ETA: 0s - loss: 1.7717 - accuracy: 0.9945\n",
      "Epoch 00057: val_accuracy did not improve from 0.99303\n",
      "\n",
      "Epoch 00057: saving model to IP_3d-last-model.hdf5\n",
      "154/154 [==============================] - 28s 179ms/step - loss: 1.7717 - accuracy: 0.9945 - val_loss: 1.6730 - val_accuracy: 0.9898\n",
      "Epoch 58/200\n",
      "154/154 [==============================] - ETA: 0s - loss: 1.6828 - accuracy: 0.9919\n",
      "Epoch 00058: val_accuracy did not improve from 0.99303\n",
      "\n",
      "Epoch 00058: saving model to IP_3d-last-model.hdf5\n",
      "154/154 [==============================] - 28s 179ms/step - loss: 1.6828 - accuracy: 0.9919 - val_loss: 1.6050 - val_accuracy: 0.9893\n",
      "Epoch 59/200\n",
      "154/154 [==============================] - ETA: 0s - loss: 1.6822 - accuracy: 0.9932\n",
      "Epoch 00059: val_accuracy did not improve from 0.99303\n",
      "\n",
      "Epoch 00059: saving model to IP_3d-last-model.hdf5\n",
      "154/154 [==============================] - 28s 179ms/step - loss: 1.6822 - accuracy: 0.9932 - val_loss: 1.5341 - val_accuracy: 0.9916\n",
      "Epoch 60/200\n",
      "154/154 [==============================] - ETA: 0s - loss: 1.6118 - accuracy: 0.9971\n",
      "Epoch 00060: val_accuracy did not improve from 0.99303\n",
      "\n",
      "Epoch 00060: saving model to IP_3d-last-model.hdf5\n",
      "154/154 [==============================] - 27s 178ms/step - loss: 1.6118 - accuracy: 0.9971 - val_loss: 1.5920 - val_accuracy: 0.9916\n",
      "Epoch 61/200\n",
      "154/154 [==============================] - ETA: 0s - loss: 1.7179 - accuracy: 0.9919\n",
      "Epoch 00061: val_accuracy improved from 0.99303 to 0.99349, saving model to IP_3d-best-model.hdf5\n",
      "\n",
      "Epoch 00061: saving model to IP_3d-last-model.hdf5\n",
      "154/154 [==============================] - 29s 190ms/step - loss: 1.7179 - accuracy: 0.9919 - val_loss: 1.5517 - val_accuracy: 0.9935\n",
      "Epoch 62/200\n",
      "154/154 [==============================] - ETA: 0s - loss: 1.5695 - accuracy: 0.9971\n",
      "Epoch 00062: val_accuracy did not improve from 0.99349\n",
      "\n",
      "Epoch 00062: saving model to IP_3d-last-model.hdf5\n",
      "154/154 [==============================] - 28s 184ms/step - loss: 1.5695 - accuracy: 0.9971 - val_loss: 1.6255 - val_accuracy: 0.9926\n",
      "Epoch 63/200\n",
      "154/154 [==============================] - ETA: 0s - loss: 1.6113 - accuracy: 0.9961\n",
      "Epoch 00063: val_accuracy did not improve from 0.99349\n",
      "\n",
      "Epoch 00063: saving model to IP_3d-last-model.hdf5\n",
      "154/154 [==============================] - 28s 185ms/step - loss: 1.6113 - accuracy: 0.9961 - val_loss: 1.5622 - val_accuracy: 0.9907\n",
      "Epoch 64/200\n",
      "154/154 [==============================] - ETA: 0s - loss: 1.6289 - accuracy: 0.9922\n",
      "Epoch 00064: val_accuracy did not improve from 0.99349\n",
      "\n",
      "Epoch 00064: saving model to IP_3d-last-model.hdf5\n",
      "154/154 [==============================] - 28s 180ms/step - loss: 1.6289 - accuracy: 0.9922 - val_loss: 1.4422 - val_accuracy: 0.9921\n",
      "Epoch 65/200\n",
      "154/154 [==============================] - ETA: 0s - loss: 1.5750 - accuracy: 0.9948\n",
      "Epoch 00065: val_accuracy did not improve from 0.99349\n",
      "\n",
      "Epoch 00065: saving model to IP_3d-last-model.hdf5\n",
      "154/154 [==============================] - 28s 179ms/step - loss: 1.5750 - accuracy: 0.9948 - val_loss: 1.5656 - val_accuracy: 0.9921\n",
      "Epoch 66/200\n",
      "154/154 [==============================] - ETA: 0s - loss: 1.5741 - accuracy: 0.9945\n",
      "Epoch 00066: val_accuracy did not improve from 0.99349\n",
      "\n",
      "Epoch 00066: saving model to IP_3d-last-model.hdf5\n",
      "154/154 [==============================] - 28s 179ms/step - loss: 1.5741 - accuracy: 0.9945 - val_loss: 1.6572 - val_accuracy: 0.9879\n",
      "Epoch 67/200\n",
      "154/154 [==============================] - ETA: 0s - loss: 1.5771 - accuracy: 0.9945\n",
      "Epoch 00067: val_accuracy did not improve from 0.99349\n",
      "\n",
      "Epoch 00067: saving model to IP_3d-last-model.hdf5\n",
      "154/154 [==============================] - 28s 180ms/step - loss: 1.5771 - accuracy: 0.9945 - val_loss: 1.5079 - val_accuracy: 0.9893\n",
      "Epoch 68/200\n",
      "154/154 [==============================] - ETA: 0s - loss: 1.5566 - accuracy: 0.9971\n",
      "Epoch 00068: val_accuracy did not improve from 0.99349\n",
      "\n",
      "Epoch 00068: saving model to IP_3d-last-model.hdf5\n",
      "154/154 [==============================] - 28s 180ms/step - loss: 1.5566 - accuracy: 0.9971 - val_loss: 1.7000 - val_accuracy: 0.9921\n",
      "Epoch 69/200\n",
      "154/154 [==============================] - ETA: 0s - loss: 1.5345 - accuracy: 0.9971\n",
      "Epoch 00069: val_accuracy did not improve from 0.99349\n",
      "\n",
      "Epoch 00069: saving model to IP_3d-last-model.hdf5\n",
      "154/154 [==============================] - 27s 178ms/step - loss: 1.5345 - accuracy: 0.9971 - val_loss: 1.4980 - val_accuracy: 0.9912\n",
      "Epoch 70/200\n",
      "154/154 [==============================] - ETA: 0s - loss: 1.5370 - accuracy: 0.9954\n",
      "Epoch 00070: val_accuracy did not improve from 0.99349\n",
      "\n",
      "Epoch 00070: saving model to IP_3d-last-model.hdf5\n",
      "154/154 [==============================] - 28s 182ms/step - loss: 1.5370 - accuracy: 0.9954 - val_loss: 1.3805 - val_accuracy: 0.9926\n",
      "Epoch 71/200\n",
      "154/154 [==============================] - ETA: 0s - loss: 1.4932 - accuracy: 0.9974\n",
      "Epoch 00071: val_accuracy did not improve from 0.99349\n",
      "\n",
      "Epoch 00071: saving model to IP_3d-last-model.hdf5\n",
      "154/154 [==============================] - 31s 201ms/step - loss: 1.4932 - accuracy: 0.9974 - val_loss: 1.4281 - val_accuracy: 0.9935\n"
     ]
    },
    {
     "name": "stdout",
     "output_type": "stream",
     "text": [
      "Epoch 72/200\n",
      "154/154 [==============================] - ETA: 0s - loss: 1.4713 - accuracy: 0.9987\n",
      "Epoch 00072: val_accuracy did not improve from 0.99349\n",
      "\n",
      "Epoch 00072: saving model to IP_3d-last-model.hdf5\n",
      "154/154 [==============================] - 28s 180ms/step - loss: 1.4713 - accuracy: 0.9987 - val_loss: 1.4515 - val_accuracy: 0.9930\n",
      "Epoch 73/200\n",
      "154/154 [==============================] - ETA: 0s - loss: 1.4809 - accuracy: 0.9984\n",
      "Epoch 00073: val_accuracy did not improve from 0.99349\n",
      "\n",
      "Epoch 00073: saving model to IP_3d-last-model.hdf5\n",
      "154/154 [==============================] - 27s 179ms/step - loss: 1.4809 - accuracy: 0.9984 - val_loss: 1.4255 - val_accuracy: 0.9930\n",
      "Epoch 74/200\n",
      "154/154 [==============================] - ETA: 0s - loss: 1.4762 - accuracy: 0.9948\n",
      "Epoch 00074: val_accuracy did not improve from 0.99349\n",
      "\n",
      "Epoch 00074: saving model to IP_3d-last-model.hdf5\n",
      "154/154 [==============================] - 27s 178ms/step - loss: 1.4762 - accuracy: 0.9948 - val_loss: 1.7572 - val_accuracy: 0.9898\n",
      "Epoch 75/200\n",
      "154/154 [==============================] - ETA: 0s - loss: 1.4499 - accuracy: 0.9977\n",
      "Epoch 00075: val_accuracy did not improve from 0.99349\n",
      "\n",
      "Epoch 00075: saving model to IP_3d-last-model.hdf5\n",
      "154/154 [==============================] - 28s 179ms/step - loss: 1.4499 - accuracy: 0.9977 - val_loss: 1.4282 - val_accuracy: 0.9926\n",
      "Epoch 76/200\n",
      "154/154 [==============================] - ETA: 0s - loss: 1.4386 - accuracy: 0.9990\n",
      "Epoch 00076: val_accuracy did not improve from 0.99349\n",
      "\n",
      "Epoch 00076: saving model to IP_3d-last-model.hdf5\n",
      "154/154 [==============================] - 28s 180ms/step - loss: 1.4386 - accuracy: 0.9990 - val_loss: 1.4638 - val_accuracy: 0.9930\n",
      "Epoch 77/200\n",
      "154/154 [==============================] - ETA: 0s - loss: 1.4188 - accuracy: 0.9980\n",
      "Epoch 00077: val_accuracy improved from 0.99349 to 0.99396, saving model to IP_3d-best-model.hdf5\n",
      "\n",
      "Epoch 00077: saving model to IP_3d-last-model.hdf5\n",
      "154/154 [==============================] - 29s 191ms/step - loss: 1.4188 - accuracy: 0.9980 - val_loss: 1.3453 - val_accuracy: 0.9940\n",
      "Epoch 78/200\n",
      "154/154 [==============================] - ETA: 0s - loss: 1.4361 - accuracy: 0.9980\n",
      "Epoch 00078: val_accuracy did not improve from 0.99396\n",
      "\n",
      "Epoch 00078: saving model to IP_3d-last-model.hdf5\n",
      "154/154 [==============================] - 28s 183ms/step - loss: 1.4361 - accuracy: 0.9980 - val_loss: 1.3597 - val_accuracy: 0.9935\n",
      "Epoch 79/200\n",
      "154/154 [==============================] - ETA: 0s - loss: 1.4049 - accuracy: 0.9990\n",
      "Epoch 00079: val_accuracy did not improve from 0.99396\n",
      "\n",
      "Epoch 00079: saving model to IP_3d-last-model.hdf5\n",
      "154/154 [==============================] - 28s 185ms/step - loss: 1.4049 - accuracy: 0.9990 - val_loss: 1.4107 - val_accuracy: 0.9935\n",
      "Epoch 80/200\n",
      "154/154 [==============================] - ETA: 0s - loss: 1.3929 - accuracy: 0.9980\n",
      "Epoch 00080: val_accuracy improved from 0.99396 to 0.99442, saving model to IP_3d-best-model.hdf5\n",
      "\n",
      "Epoch 00080: saving model to IP_3d-last-model.hdf5\n",
      "154/154 [==============================] - 29s 190ms/step - loss: 1.3929 - accuracy: 0.9980 - val_loss: 1.2759 - val_accuracy: 0.9944\n",
      "Epoch 81/200\n",
      "154/154 [==============================] - ETA: 0s - loss: 1.3755 - accuracy: 0.9997\n",
      "Epoch 00081: val_accuracy did not improve from 0.99442\n",
      "\n",
      "Epoch 00081: saving model to IP_3d-last-model.hdf5\n",
      "154/154 [==============================] - 28s 179ms/step - loss: 1.3755 - accuracy: 0.9997 - val_loss: 1.3905 - val_accuracy: 0.9935\n",
      "Epoch 82/200\n",
      "154/154 [==============================] - ETA: 0s - loss: 1.3597 - accuracy: 0.9984\n",
      "Epoch 00082: val_accuracy did not improve from 0.99442\n",
      "\n",
      "Epoch 00082: saving model to IP_3d-last-model.hdf5\n",
      "154/154 [==============================] - 28s 179ms/step - loss: 1.3597 - accuracy: 0.9984 - val_loss: 1.4304 - val_accuracy: 0.9935\n",
      "Epoch 83/200\n",
      "154/154 [==============================] - ETA: 0s - loss: 1.3526 - accuracy: 0.9993\n",
      "Epoch 00083: val_accuracy did not improve from 0.99442\n",
      "\n",
      "Epoch 00083: saving model to IP_3d-last-model.hdf5\n",
      "154/154 [==============================] - 27s 178ms/step - loss: 1.3526 - accuracy: 0.9993 - val_loss: 1.3160 - val_accuracy: 0.9935\n",
      "Epoch 84/200\n",
      "154/154 [==============================] - ETA: 0s - loss: 1.3297 - accuracy: 0.9990\n",
      "Epoch 00084: val_accuracy did not improve from 0.99442\n",
      "\n",
      "Epoch 00084: saving model to IP_3d-last-model.hdf5\n",
      "154/154 [==============================] - 27s 178ms/step - loss: 1.3297 - accuracy: 0.9990 - val_loss: 1.2866 - val_accuracy: 0.9930\n",
      "Epoch 85/200\n",
      "154/154 [==============================] - ETA: 0s - loss: 1.3088 - accuracy: 0.9990\n",
      "Epoch 00085: val_accuracy did not improve from 0.99442\n",
      "\n",
      "Epoch 00085: saving model to IP_3d-last-model.hdf5\n",
      "154/154 [==============================] - 28s 179ms/step - loss: 1.3088 - accuracy: 0.9990 - val_loss: 1.4549 - val_accuracy: 0.9926\n",
      "Epoch 86/200\n",
      "154/154 [==============================] - ETA: 0s - loss: 1.2980 - accuracy: 0.9997\n",
      "Epoch 00086: val_accuracy did not improve from 0.99442\n",
      "\n",
      "Epoch 00086: saving model to IP_3d-last-model.hdf5\n",
      "154/154 [==============================] - 29s 185ms/step - loss: 1.2980 - accuracy: 0.9997 - val_loss: 1.4446 - val_accuracy: 0.9926\n",
      "Epoch 87/200\n",
      "154/154 [==============================] - ETA: 0s - loss: 1.2987 - accuracy: 0.9993\n",
      "Epoch 00087: val_accuracy did not improve from 0.99442\n",
      "\n",
      "Epoch 00087: saving model to IP_3d-last-model.hdf5\n",
      "154/154 [==============================] - 28s 179ms/step - loss: 1.2987 - accuracy: 0.9993 - val_loss: 1.4718 - val_accuracy: 0.9944\n",
      "Epoch 88/200\n",
      "154/154 [==============================] - ETA: 0s - loss: 1.2862 - accuracy: 1.0000\n",
      "Epoch 00088: val_accuracy did not improve from 0.99442\n",
      "\n",
      "Epoch 00088: saving model to IP_3d-last-model.hdf5\n",
      "154/154 [==============================] - 28s 179ms/step - loss: 1.2862 - accuracy: 1.0000 - val_loss: 1.1935 - val_accuracy: 0.9921\n",
      "Epoch 89/200\n",
      "154/154 [==============================] - ETA: 0s - loss: 1.2765 - accuracy: 0.9997\n",
      "Epoch 00089: val_accuracy did not improve from 0.99442\n",
      "\n",
      "Epoch 00089: saving model to IP_3d-last-model.hdf5\n",
      "154/154 [==============================] - 28s 179ms/step - loss: 1.2765 - accuracy: 0.9997 - val_loss: 1.3293 - val_accuracy: 0.9944\n",
      "Epoch 90/200\n",
      "154/154 [==============================] - ETA: 0s - loss: 1.2502 - accuracy: 1.0000\n",
      "Epoch 00090: val_accuracy did not improve from 0.99442\n",
      "\n",
      "Epoch 00090: saving model to IP_3d-last-model.hdf5\n",
      "154/154 [==============================] - 28s 180ms/step - loss: 1.2502 - accuracy: 1.0000 - val_loss: 1.2496 - val_accuracy: 0.9944\n",
      "Epoch 91/200\n",
      "154/154 [==============================] - ETA: 0s - loss: 1.2350 - accuracy: 1.0000\n",
      "Epoch 00091: val_accuracy improved from 0.99442 to 0.99489, saving model to IP_3d-best-model.hdf5\n",
      "\n",
      "Epoch 00091: saving model to IP_3d-last-model.hdf5\n",
      "154/154 [==============================] - 29s 191ms/step - loss: 1.2350 - accuracy: 1.0000 - val_loss: 1.1890 - val_accuracy: 0.9949\n",
      "Epoch 92/200\n",
      "154/154 [==============================] - ETA: 0s - loss: 1.2281 - accuracy: 0.9997\n",
      "Epoch 00092: val_accuracy did not improve from 0.99489\n",
      "\n",
      "Epoch 00092: saving model to IP_3d-last-model.hdf5\n",
      "154/154 [==============================] - 28s 179ms/step - loss: 1.2281 - accuracy: 0.9997 - val_loss: 1.1694 - val_accuracy: 0.9940\n",
      "Epoch 93/200\n",
      "154/154 [==============================] - ETA: 0s - loss: 1.2021 - accuracy: 1.0000\n",
      "Epoch 00093: val_accuracy did not improve from 0.99489\n",
      "\n",
      "Epoch 00093: saving model to IP_3d-last-model.hdf5\n",
      "154/154 [==============================] - 28s 180ms/step - loss: 1.2021 - accuracy: 1.0000 - val_loss: 1.1965 - val_accuracy: 0.9940\n",
      "Epoch 94/200\n",
      "154/154 [==============================] - ETA: 0s - loss: 1.2035 - accuracy: 1.0000\n",
      "Epoch 00094: val_accuracy did not improve from 0.99489\n",
      "\n",
      "Epoch 00094: saving model to IP_3d-last-model.hdf5\n",
      "154/154 [==============================] - 28s 184ms/step - loss: 1.2035 - accuracy: 1.0000 - val_loss: 1.4125 - val_accuracy: 0.9944\n",
      "Epoch 95/200\n",
      "154/154 [==============================] - ETA: 0s - loss: 1.2150 - accuracy: 0.9997\n",
      "Epoch 00095: val_accuracy did not improve from 0.99489\n",
      "\n",
      "Epoch 00095: saving model to IP_3d-last-model.hdf5\n",
      "154/154 [==============================] - 29s 187ms/step - loss: 1.2150 - accuracy: 0.9997 - val_loss: 1.3770 - val_accuracy: 0.9944\n"
     ]
    },
    {
     "name": "stdout",
     "output_type": "stream",
     "text": [
      "Epoch 96/200\n",
      "154/154 [==============================] - ETA: 0s - loss: 1.1713 - accuracy: 1.0000\n",
      "Epoch 00096: val_accuracy did not improve from 0.99489\n",
      "\n",
      "Epoch 00096: saving model to IP_3d-last-model.hdf5\n",
      "154/154 [==============================] - 28s 180ms/step - loss: 1.1713 - accuracy: 1.0000 - val_loss: 1.2207 - val_accuracy: 0.9944\n",
      "Epoch 97/200\n",
      "154/154 [==============================] - ETA: 0s - loss: 1.2103 - accuracy: 1.0000\n",
      "Epoch 00097: val_accuracy did not improve from 0.99489\n",
      "\n",
      "Epoch 00097: saving model to IP_3d-last-model.hdf5\n",
      "154/154 [==============================] - 28s 180ms/step - loss: 1.2103 - accuracy: 1.0000 - val_loss: 1.3172 - val_accuracy: 0.9944\n",
      "Epoch 98/200\n",
      "154/154 [==============================] - ETA: 0s - loss: 1.1998 - accuracy: 1.0000\n",
      "Epoch 00098: val_accuracy did not improve from 0.99489\n",
      "\n",
      "Epoch 00098: saving model to IP_3d-last-model.hdf5\n",
      "154/154 [==============================] - 28s 180ms/step - loss: 1.1998 - accuracy: 1.0000 - val_loss: 1.1868 - val_accuracy: 0.9949\n",
      "Epoch 99/200\n",
      "154/154 [==============================] - ETA: 0s - loss: 1.1577 - accuracy: 1.0000\n",
      "Epoch 00099: val_accuracy did not improve from 0.99489\n",
      "\n",
      "Epoch 00099: saving model to IP_3d-last-model.hdf5\n",
      "154/154 [==============================] - 27s 178ms/step - loss: 1.1577 - accuracy: 1.0000 - val_loss: 1.1256 - val_accuracy: 0.9940\n",
      "Epoch 100/200\n",
      "154/154 [==============================] - ETA: 0s - loss: 1.1690 - accuracy: 0.9997\n",
      "Epoch 00100: val_accuracy did not improve from 0.99489\n",
      "\n",
      "Epoch 00100: saving model to IP_3d-last-model.hdf5\n",
      "154/154 [==============================] - 28s 179ms/step - loss: 1.1690 - accuracy: 0.9997 - val_loss: 1.2194 - val_accuracy: 0.9940\n",
      "Epoch 101/200\n",
      "154/154 [==============================] - ETA: 0s - loss: 1.1506 - accuracy: 0.9997\n",
      "Epoch 00101: val_accuracy did not improve from 0.99489\n",
      "\n",
      "Epoch 00101: saving model to IP_3d-last-model.hdf5\n",
      "154/154 [==============================] - 28s 179ms/step - loss: 1.1506 - accuracy: 0.9997 - val_loss: 1.1568 - val_accuracy: 0.9944\n",
      "Epoch 102/200\n",
      "154/154 [==============================] - ETA: 0s - loss: 1.1368 - accuracy: 0.9997\n",
      "Epoch 00102: val_accuracy did not improve from 0.99489\n",
      "\n",
      "Epoch 00102: saving model to IP_3d-last-model.hdf5\n",
      "154/154 [==============================] - 29s 186ms/step - loss: 1.1368 - accuracy: 0.9997 - val_loss: 1.1921 - val_accuracy: 0.9930\n",
      "Epoch 103/200\n",
      "154/154 [==============================] - ETA: 0s - loss: 1.1534 - accuracy: 0.9997\n",
      "Epoch 00103: val_accuracy improved from 0.99489 to 0.99535, saving model to IP_3d-best-model.hdf5\n",
      "\n",
      "Epoch 00103: saving model to IP_3d-last-model.hdf5\n",
      "154/154 [==============================] - 30s 198ms/step - loss: 1.1534 - accuracy: 0.9997 - val_loss: 1.2559 - val_accuracy: 0.9954\n",
      "Epoch 104/200\n",
      "154/154 [==============================] - ETA: 0s - loss: 1.1341 - accuracy: 0.9997\n",
      "Epoch 00104: val_accuracy did not improve from 0.99535\n",
      "\n",
      "Epoch 00104: saving model to IP_3d-last-model.hdf5\n",
      "154/154 [==============================] - 28s 179ms/step - loss: 1.1341 - accuracy: 0.9997 - val_loss: 1.2136 - val_accuracy: 0.9935\n",
      "Epoch 105/200\n",
      "154/154 [==============================] - ETA: 0s - loss: 1.1034 - accuracy: 0.9997\n",
      "Epoch 00105: val_accuracy did not improve from 0.99535\n",
      "\n",
      "Epoch 00105: saving model to IP_3d-last-model.hdf5\n",
      "154/154 [==============================] - 27s 178ms/step - loss: 1.1034 - accuracy: 0.9997 - val_loss: 1.1748 - val_accuracy: 0.9949\n",
      "Epoch 106/200\n",
      "154/154 [==============================] - ETA: 0s - loss: 1.1073 - accuracy: 0.9997\n",
      "Epoch 00106: val_accuracy did not improve from 0.99535\n",
      "\n",
      "Epoch 00106: saving model to IP_3d-last-model.hdf5\n",
      "154/154 [==============================] - 28s 179ms/step - loss: 1.1073 - accuracy: 0.9997 - val_loss: 1.0617 - val_accuracy: 0.9940\n",
      "Epoch 107/200\n",
      "154/154 [==============================] - ETA: 0s - loss: 1.0929 - accuracy: 1.0000\n",
      "Epoch 00107: val_accuracy did not improve from 0.99535\n",
      "\n",
      "Epoch 00107: saving model to IP_3d-last-model.hdf5\n",
      "154/154 [==============================] - 28s 179ms/step - loss: 1.0929 - accuracy: 1.0000 - val_loss: 1.3100 - val_accuracy: 0.9907\n",
      "Epoch 108/200\n",
      "154/154 [==============================] - ETA: 0s - loss: 1.0950 - accuracy: 0.9997\n",
      "Epoch 00108: val_accuracy did not improve from 0.99535\n",
      "\n",
      "Epoch 00108: saving model to IP_3d-last-model.hdf5\n",
      "154/154 [==============================] - 27s 178ms/step - loss: 1.0950 - accuracy: 0.9997 - val_loss: 1.3386 - val_accuracy: 0.9944\n",
      "Epoch 109/200\n",
      "154/154 [==============================] - ETA: 0s - loss: 1.0909 - accuracy: 1.0000\n",
      "Epoch 00109: val_accuracy did not improve from 0.99535\n",
      "\n",
      "Epoch 00109: saving model to IP_3d-last-model.hdf5\n",
      "154/154 [==============================] - 27s 179ms/step - loss: 1.0909 - accuracy: 1.0000 - val_loss: 1.0888 - val_accuracy: 0.9944\n",
      "Epoch 110/200\n",
      "154/154 [==============================] - ETA: 0s - loss: 1.0739 - accuracy: 1.0000\n",
      "Epoch 00110: val_accuracy did not improve from 0.99535\n",
      "\n",
      "Epoch 00110: saving model to IP_3d-last-model.hdf5\n",
      "154/154 [==============================] - 29s 186ms/step - loss: 1.0739 - accuracy: 1.0000 - val_loss: 1.1025 - val_accuracy: 0.9944\n",
      "Epoch 111/200\n",
      "154/154 [==============================] - ETA: 0s - loss: 1.0655 - accuracy: 1.0000\n",
      "Epoch 00111: val_accuracy did not improve from 0.99535\n",
      "\n",
      "Epoch 00111: saving model to IP_3d-last-model.hdf5\n",
      "154/154 [==============================] - 28s 183ms/step - loss: 1.0655 - accuracy: 1.0000 - val_loss: 1.0225 - val_accuracy: 0.9940\n",
      "Epoch 112/200\n",
      "154/154 [==============================] - ETA: 0s - loss: 1.0725 - accuracy: 0.9993\n",
      "Epoch 00112: val_accuracy did not improve from 0.99535\n",
      "\n",
      "Epoch 00112: saving model to IP_3d-last-model.hdf5\n",
      "154/154 [==============================] - 28s 179ms/step - loss: 1.0725 - accuracy: 0.9993 - val_loss: 1.0127 - val_accuracy: 0.9916\n",
      "Epoch 113/200\n",
      "154/154 [==============================] - ETA: 0s - loss: 1.0773 - accuracy: 0.9997\n",
      "Epoch 00113: val_accuracy improved from 0.99535 to 0.99582, saving model to IP_3d-best-model.hdf5\n",
      "\n",
      "Epoch 00113: saving model to IP_3d-last-model.hdf5\n",
      "154/154 [==============================] - 29s 190ms/step - loss: 1.0773 - accuracy: 0.9997 - val_loss: 1.1669 - val_accuracy: 0.9958\n",
      "Epoch 114/200\n",
      "154/154 [==============================] - ETA: 0s - loss: 1.0568 - accuracy: 0.9997\n",
      "Epoch 00114: val_accuracy did not improve from 0.99582\n",
      "\n",
      "Epoch 00114: saving model to IP_3d-last-model.hdf5\n",
      "154/154 [==============================] - 28s 180ms/step - loss: 1.0568 - accuracy: 0.9997 - val_loss: 1.0905 - val_accuracy: 0.9949\n",
      "Epoch 115/200\n",
      "154/154 [==============================] - ETA: 0s - loss: 1.0756 - accuracy: 0.9997\n",
      "Epoch 00115: val_accuracy did not improve from 0.99582\n",
      "\n",
      "Epoch 00115: saving model to IP_3d-last-model.hdf5\n",
      "154/154 [==============================] - 28s 179ms/step - loss: 1.0756 - accuracy: 0.9997 - val_loss: 1.0626 - val_accuracy: 0.9940\n",
      "Epoch 116/200\n",
      "154/154 [==============================] - ETA: 0s - loss: 1.0306 - accuracy: 0.9997\n",
      "Epoch 00116: val_accuracy did not improve from 0.99582\n",
      "\n",
      "Epoch 00116: saving model to IP_3d-last-model.hdf5\n",
      "154/154 [==============================] - 28s 180ms/step - loss: 1.0306 - accuracy: 0.9997 - val_loss: 1.0412 - val_accuracy: 0.9949\n",
      "Epoch 117/200\n",
      "154/154 [==============================] - ETA: 0s - loss: 1.0237 - accuracy: 0.9997\n",
      "Epoch 00117: val_accuracy did not improve from 0.99582\n",
      "\n",
      "Epoch 00117: saving model to IP_3d-last-model.hdf5\n",
      "154/154 [==============================] - 28s 179ms/step - loss: 1.0237 - accuracy: 0.9997 - val_loss: 1.0647 - val_accuracy: 0.9958\n",
      "Epoch 118/200\n",
      "154/154 [==============================] - ETA: 0s - loss: 1.0387 - accuracy: 1.0000\n",
      "Epoch 00118: val_accuracy did not improve from 0.99582\n",
      "\n",
      "Epoch 00118: saving model to IP_3d-last-model.hdf5\n",
      "154/154 [==============================] - 29s 186ms/step - loss: 1.0387 - accuracy: 1.0000 - val_loss: 1.1160 - val_accuracy: 0.9954\n",
      "Epoch 119/200\n",
      "154/154 [==============================] - ETA: 0s - loss: 1.0378 - accuracy: 0.9997\n",
      "Epoch 00119: val_accuracy improved from 0.99582 to 0.99628, saving model to IP_3d-best-model.hdf5\n",
      "\n",
      "Epoch 00119: saving model to IP_3d-last-model.hdf5\n",
      "154/154 [==============================] - 31s 198ms/step - loss: 1.0378 - accuracy: 0.9997 - val_loss: 0.9912 - val_accuracy: 0.9963\n"
     ]
    },
    {
     "name": "stdout",
     "output_type": "stream",
     "text": [
      "Epoch 120/200\n",
      "154/154 [==============================] - ETA: 0s - loss: 1.0282 - accuracy: 1.0000\n",
      "Epoch 00120: val_accuracy did not improve from 0.99628\n",
      "\n",
      "Epoch 00120: saving model to IP_3d-last-model.hdf5\n",
      "154/154 [==============================] - 28s 180ms/step - loss: 1.0282 - accuracy: 1.0000 - val_loss: 0.9686 - val_accuracy: 0.9958\n",
      "Epoch 121/200\n",
      "154/154 [==============================] - ETA: 0s - loss: 1.0271 - accuracy: 0.9997\n",
      "Epoch 00121: val_accuracy did not improve from 0.99628\n",
      "\n",
      "Epoch 00121: saving model to IP_3d-last-model.hdf5\n",
      "154/154 [==============================] - 28s 180ms/step - loss: 1.0271 - accuracy: 0.9997 - val_loss: 1.0396 - val_accuracy: 0.9949\n",
      "Epoch 122/200\n",
      "154/154 [==============================] - ETA: 0s - loss: 1.0097 - accuracy: 1.0000\n",
      "Epoch 00122: val_accuracy did not improve from 0.99628\n",
      "\n",
      "Epoch 00122: saving model to IP_3d-last-model.hdf5\n",
      "154/154 [==============================] - 28s 180ms/step - loss: 1.0097 - accuracy: 1.0000 - val_loss: 1.1726 - val_accuracy: 0.9893\n",
      "Epoch 123/200\n",
      "154/154 [==============================] - ETA: 0s - loss: 0.9941 - accuracy: 1.0000\n",
      "Epoch 00123: val_accuracy did not improve from 0.99628\n",
      "\n",
      "Epoch 00123: saving model to IP_3d-last-model.hdf5\n",
      "154/154 [==============================] - 28s 179ms/step - loss: 0.9941 - accuracy: 1.0000 - val_loss: 0.8815 - val_accuracy: 0.9949\n",
      "Epoch 124/200\n",
      "154/154 [==============================] - ETA: 0s - loss: 0.9768 - accuracy: 0.9997\n",
      "Epoch 00124: val_accuracy did not improve from 0.99628\n",
      "\n",
      "Epoch 00124: saving model to IP_3d-last-model.hdf5\n",
      "154/154 [==============================] - 28s 179ms/step - loss: 0.9768 - accuracy: 0.9997 - val_loss: 1.0426 - val_accuracy: 0.9940\n",
      "Epoch 125/200\n",
      "154/154 [==============================] - ETA: 0s - loss: 0.9856 - accuracy: 0.9997\n",
      "Epoch 00125: val_accuracy did not improve from 0.99628\n",
      "\n",
      "Epoch 00125: saving model to IP_3d-last-model.hdf5\n",
      "154/154 [==============================] - 28s 179ms/step - loss: 0.9856 - accuracy: 0.9997 - val_loss: 0.9970 - val_accuracy: 0.9949\n",
      "Epoch 126/200\n",
      "154/154 [==============================] - ETA: 0s - loss: 0.9986 - accuracy: 1.0000\n",
      "Epoch 00126: val_accuracy did not improve from 0.99628\n",
      "\n",
      "Epoch 00126: saving model to IP_3d-last-model.hdf5\n",
      "154/154 [==============================] - 29s 185ms/step - loss: 0.9986 - accuracy: 1.0000 - val_loss: 1.0221 - val_accuracy: 0.9940\n",
      "Epoch 127/200\n",
      "154/154 [==============================] - ETA: 0s - loss: 0.9914 - accuracy: 0.9993\n",
      "Epoch 00127: val_accuracy improved from 0.99628 to 0.99675, saving model to IP_3d-best-model.hdf5\n",
      "\n",
      "Epoch 00127: saving model to IP_3d-last-model.hdf5\n",
      "154/154 [==============================] - 30s 197ms/step - loss: 0.9914 - accuracy: 0.9993 - val_loss: 1.1552 - val_accuracy: 0.9967\n",
      "Epoch 128/200\n",
      "154/154 [==============================] - ETA: 0s - loss: 0.9906 - accuracy: 1.0000\n",
      "Epoch 00128: val_accuracy did not improve from 0.99675\n",
      "\n",
      "Epoch 00128: saving model to IP_3d-last-model.hdf5\n",
      "154/154 [==============================] - 27s 178ms/step - loss: 0.9906 - accuracy: 1.0000 - val_loss: 1.0869 - val_accuracy: 0.9944\n",
      "Epoch 129/200\n",
      "154/154 [==============================] - ETA: 0s - loss: 0.9546 - accuracy: 1.0000\n",
      "Epoch 00129: val_accuracy did not improve from 0.99675\n",
      "\n",
      "Epoch 00129: saving model to IP_3d-last-model.hdf5\n",
      "154/154 [==============================] - 27s 179ms/step - loss: 0.9546 - accuracy: 1.0000 - val_loss: 0.9143 - val_accuracy: 0.9940\n",
      "Epoch 130/200\n",
      "154/154 [==============================] - ETA: 0s - loss: 0.9897 - accuracy: 1.0000\n",
      "Epoch 00130: val_accuracy did not improve from 0.99675\n",
      "\n",
      "Epoch 00130: saving model to IP_3d-last-model.hdf5\n",
      "154/154 [==============================] - 27s 178ms/step - loss: 0.9897 - accuracy: 1.0000 - val_loss: 0.8562 - val_accuracy: 0.9963\n",
      "Epoch 131/200\n",
      "154/154 [==============================] - ETA: 0s - loss: 0.9639 - accuracy: 0.9997\n",
      "Epoch 00131: val_accuracy did not improve from 0.99675\n",
      "\n",
      "Epoch 00131: saving model to IP_3d-last-model.hdf5\n",
      "154/154 [==============================] - 28s 180ms/step - loss: 0.9639 - accuracy: 0.9997 - val_loss: 1.0235 - val_accuracy: 0.9963\n",
      "Epoch 132/200\n",
      "154/154 [==============================] - ETA: 0s - loss: 0.9683 - accuracy: 1.0000\n",
      "Epoch 00132: val_accuracy did not improve from 0.99675\n",
      "\n",
      "Epoch 00132: saving model to IP_3d-last-model.hdf5\n",
      "154/154 [==============================] - 28s 181ms/step - loss: 0.9683 - accuracy: 1.0000 - val_loss: 0.8496 - val_accuracy: 0.9930\n",
      "Epoch 133/200\n",
      "154/154 [==============================] - ETA: 0s - loss: 0.9540 - accuracy: 1.0000\n",
      "Epoch 00133: val_accuracy did not improve from 0.99675\n",
      "\n",
      "Epoch 00133: saving model to IP_3d-last-model.hdf5\n",
      "154/154 [==============================] - 28s 179ms/step - loss: 0.9540 - accuracy: 1.0000 - val_loss: 0.8291 - val_accuracy: 0.9949\n",
      "Epoch 134/200\n",
      "154/154 [==============================] - ETA: 0s - loss: 0.9694 - accuracy: 0.9997\n",
      "Epoch 00134: val_accuracy did not improve from 0.99675\n",
      "\n",
      "Epoch 00134: saving model to IP_3d-last-model.hdf5\n",
      "154/154 [==============================] - 28s 183ms/step - loss: 0.9694 - accuracy: 0.9997 - val_loss: 1.1337 - val_accuracy: 0.9954\n",
      "Epoch 135/200\n",
      "154/154 [==============================] - ETA: 0s - loss: 0.9596 - accuracy: 1.0000\n",
      "Epoch 00135: val_accuracy did not improve from 0.99675\n",
      "\n",
      "Epoch 00135: saving model to IP_3d-last-model.hdf5\n",
      "154/154 [==============================] - 28s 180ms/step - loss: 0.9596 - accuracy: 1.0000 - val_loss: 1.1597 - val_accuracy: 0.9963\n",
      "Epoch 136/200\n",
      "154/154 [==============================] - ETA: 0s - loss: 0.9442 - accuracy: 0.9997\n",
      "Epoch 00136: val_accuracy did not improve from 0.99675\n",
      "\n",
      "Epoch 00136: saving model to IP_3d-last-model.hdf5\n",
      "154/154 [==============================] - 28s 179ms/step - loss: 0.9442 - accuracy: 0.9997 - val_loss: 0.9690 - val_accuracy: 0.9954\n",
      "Epoch 137/200\n",
      "154/154 [==============================] - ETA: 0s - loss: 0.9409 - accuracy: 0.9997\n",
      "Epoch 00137: val_accuracy did not improve from 0.99675\n",
      "\n",
      "Epoch 00137: saving model to IP_3d-last-model.hdf5\n",
      "154/154 [==============================] - 28s 179ms/step - loss: 0.9409 - accuracy: 0.9997 - val_loss: 0.9996 - val_accuracy: 0.9967\n",
      "Epoch 138/200\n",
      "154/154 [==============================] - ETA: 0s - loss: 0.9436 - accuracy: 1.0000\n",
      "Epoch 00138: val_accuracy did not improve from 0.99675\n",
      "\n",
      "Epoch 00138: saving model to IP_3d-last-model.hdf5\n",
      "154/154 [==============================] - 28s 179ms/step - loss: 0.9436 - accuracy: 1.0000 - val_loss: 0.8479 - val_accuracy: 0.9949\n",
      "Epoch 139/200\n",
      "154/154 [==============================] - ETA: 0s - loss: 0.9264 - accuracy: 0.9997\n",
      "Epoch 00139: val_accuracy did not improve from 0.99675\n",
      "\n",
      "Epoch 00139: saving model to IP_3d-last-model.hdf5\n",
      "154/154 [==============================] - 28s 180ms/step - loss: 0.9264 - accuracy: 0.9997 - val_loss: 0.9007 - val_accuracy: 0.9963\n",
      "Epoch 140/200\n",
      "154/154 [==============================] - ETA: 0s - loss: 0.9408 - accuracy: 1.0000\n",
      "Epoch 00140: val_accuracy did not improve from 0.99675\n",
      "\n",
      "Epoch 00140: saving model to IP_3d-last-model.hdf5\n",
      "154/154 [==============================] - 28s 179ms/step - loss: 0.9408 - accuracy: 1.0000 - val_loss: 1.0318 - val_accuracy: 0.9940\n",
      "Epoch 141/200\n",
      "154/154 [==============================] - ETA: 0s - loss: 0.9391 - accuracy: 1.0000\n",
      "Epoch 00141: val_accuracy did not improve from 0.99675\n",
      "\n",
      "Epoch 00141: saving model to IP_3d-last-model.hdf5\n",
      "154/154 [==============================] - 28s 180ms/step - loss: 0.9391 - accuracy: 1.0000 - val_loss: 0.8697 - val_accuracy: 0.9954\n",
      "Epoch 142/200\n",
      "154/154 [==============================] - ETA: 0s - loss: 0.9379 - accuracy: 0.9993\n",
      "Epoch 00142: val_accuracy did not improve from 0.99675\n",
      "\n",
      "Epoch 00142: saving model to IP_3d-last-model.hdf5\n",
      "154/154 [==============================] - 29s 186ms/step - loss: 0.9379 - accuracy: 0.9993 - val_loss: 1.0190 - val_accuracy: 0.9949\n",
      "Epoch 143/200\n",
      "154/154 [==============================] - ETA: 0s - loss: 0.9058 - accuracy: 0.9993\n",
      "Epoch 00143: val_accuracy did not improve from 0.99675\n",
      "\n",
      "Epoch 00143: saving model to IP_3d-last-model.hdf5\n",
      "154/154 [==============================] - 28s 182ms/step - loss: 0.9058 - accuracy: 0.9993 - val_loss: 1.1729 - val_accuracy: 0.9949\n"
     ]
    },
    {
     "name": "stdout",
     "output_type": "stream",
     "text": [
      "Epoch 00143: early stopping\n"
     ]
    }
   ],
   "source": [
    "# load last saved model weights\n",
    "if (os.path.exists(last_model)):\n",
    "    model.load_weights(last_model)\n",
    "    model.compile(loss='categorical_crossentropy', optimizer=FuncOptimizer, metrics=['accuracy'])\n",
    "\n",
    "# Fit the model keeping the history\n",
    "history = model.fit(x=Xtrain, y=ytrain, \n",
    "#history = model.fit(my_batch_gen, \n",
    "                    validation_data = (Xvalidate, yvalidate),\n",
    "                    batch_size=batch_size, epochs=max_epochs, \n",
    "                    sample_weight = sample_weights,\n",
    "                    callbacks=callbacks_list)"
   ]
  },
  {
   "cell_type": "code",
   "execution_count": 63,
   "metadata": {},
   "outputs": [],
   "source": [
    "# model.save(best_model)"
   ]
  },
  {
   "cell_type": "markdown",
   "metadata": {
    "id": "R5-BLNivkkD2"
   },
   "source": [
    "# Validation"
   ]
  },
  {
   "cell_type": "code",
   "execution_count": 64,
   "metadata": {
    "colab": {
     "base_uri": "https://localhost:8080/",
     "height": 445
    },
    "executionInfo": {
     "elapsed": 417824,
     "status": "ok",
     "timestamp": 1602478821723,
     "user": {
      "displayName": "Tanmay Chakraborty",
      "photoUrl": "https://lh3.googleusercontent.com/a-/AOh14Gi7eevbipSJbPNmjfEacGnvwa7ZJkT_EcljzNX6FQ=s64",
      "userId": "10513402671331353489"
     },
     "user_tz": -330
    },
    "id": "rzi0kGwckZIh",
    "outputId": "860ced41-4c23-4c7b-d0d9-88b35f1d005f"
   },
   "outputs": [],
   "source": [
    "# Saves, but does not display, the history charts\n",
    "fig = plt.figure(figsize=(7,7)) \n",
    "plt.ioff()\n",
    "plt.grid() \n",
    "plt.plot(history.history['loss'])\n",
    "plt.plot(history.history['val_loss'])\n",
    "plt.ylabel('Loss') \n",
    "plt.xlabel('Epochs') \n",
    "plt.legend(['Training','Validation'], loc='upper right') \n",
    "plt.savefig(loss_curve) \n",
    "plt.close(fig)\n",
    "\n",
    "fig = plt.figure(figsize=(7,7)) \n",
    "plt.ioff()\n",
    "plt.ylim(np.min(history.history['accuracy']),1.05) \n",
    "plt.grid() \n",
    "plt.plot(history.history['accuracy'])\n",
    "plt.plot(history.history['val_accuracy'])\n",
    "plt.ylabel('Accuracy') \n",
    "plt.xlabel('Epochs') \n",
    "plt.legend(['Training','Validation']) \n",
    "plt.savefig(acc_curve) \n",
    "plt.close(fig) "
   ]
  },
  {
   "cell_type": "code",
   "execution_count": 65,
   "metadata": {},
   "outputs": [
    {
     "data": {
      "image/png": "[encoded data removed]",
      "text/plain": [
       "<Figure size 1008x504 with 2 Axes>"
      ]
     },
     "metadata": {
      "needs_background": "light"
     },
     "output_type": "display_data"
    }
   ],
   "source": [
    "# Displays history of training\n",
    "# loss and accuracy by epoch, side by side\n",
    "\n",
    "fig, (ax1, ax2) = plt.subplots(1,2, figsize=(14, 7))\n",
    "ax1.grid() \n",
    "ax1.plot(history.history['loss'])\n",
    "ax1.plot(history.history['val_loss'])\n",
    "ax1.set_ylabel('Loss') \n",
    "ax1.set_xlabel('Epochs') \n",
    "ax1.legend(['Training','Validation'], loc='upper right') \n",
    "\n",
    "ax2.set_ylim(np.min(np.append(history.history['accuracy'], history.history['val_accuracy'])),1.05) \n",
    "ax2.grid() \n",
    "ax2.plot(history.history['accuracy'])\n",
    "ax2.plot(history.history['val_accuracy'])\n",
    "ax2.set_ylabel('Accuracy') \n",
    "ax2.set_xlabel('Epochs') \n",
    "ax2.legend(['Training','Validation']) \n",
    "plt.show() # plt.tight_layout()"
   ]
  },
  {
   "cell_type": "code",
   "execution_count": 66,
   "metadata": {
    "executionInfo": {
     "elapsed": 418307,
     "status": "ok",
     "timestamp": 1602478822219,
     "user": {
      "displayName": "Tanmay Chakraborty",
      "photoUrl": "https://lh3.googleusercontent.com/a-/AOh14Gi7eevbipSJbPNmjfEacGnvwa7ZJkT_EcljzNX6FQ=s64",
      "userId": "10513402671331353489"
     },
     "user_tz": -330
    },
    "id": "HKSPxOqckkD3"
   },
   "outputs": [],
   "source": [
    "# load best weights\n",
    "model.load_weights(best_model)\n",
    "model.compile(loss='categorical_crossentropy', optimizer=FuncOptimizer, metrics=['accuracy'])"
   ]
  },
  {
   "cell_type": "code",
   "execution_count": 67,
   "metadata": {
    "colab": {
     "base_uri": "https://localhost:8080/",
     "height": 34
    },
    "executionInfo": {
     "elapsed": 418301,
     "status": "ok",
     "timestamp": 1602478822220,
     "user": {
      "displayName": "Tanmay Chakraborty",
      "photoUrl": "https://lh3.googleusercontent.com/a-/AOh14Gi7eevbipSJbPNmjfEacGnvwa7ZJkT_EcljzNX6FQ=s64",
      "userId": "10513402671331353489"
     },
     "user_tz": -330
    },
    "id": "tzGuqZILkkD5",
    "outputId": "58b28fd2-e2a8-47a5-94bd-3bb222491aa0"
   },
   "outputs": [
    {
     "data": {
      "text/plain": [
       "(5023, 27, 27, 200, 1)"
      ]
     },
     "execution_count": 67,
     "metadata": {},
     "output_type": "execute_result"
    }
   ],
   "source": [
    "Xtest = Xtest.reshape(-1, window_size, window_size, num_channels, 1)\n",
    "Xtest.shape"
   ]
  },
  {
   "cell_type": "code",
   "execution_count": 68,
   "metadata": {
    "colab": {
     "base_uri": "https://localhost:8080/",
     "height": 34
    },
    "executionInfo": {
     "elapsed": 418293,
     "status": "ok",
     "timestamp": 1602478822221,
     "user": {
      "displayName": "Tanmay Chakraborty",
      "photoUrl": "https://lh3.googleusercontent.com/a-/AOh14Gi7eevbipSJbPNmjfEacGnvwa7ZJkT_EcljzNX6FQ=s64",
      "userId": "10513402671331353489"
     },
     "user_tz": -330
    },
    "id": "FIhcrDHQkkD7",
    "outputId": "301bc50b-063d-4ad4-b84e-96658ec5bfee"
   },
   "outputs": [
    {
     "data": {
      "text/plain": [
       "(5023, 16)"
      ]
     },
     "execution_count": 68,
     "metadata": {},
     "output_type": "execute_result"
    }
   ],
   "source": [
    "Ytest = np_utils.to_categorical(ytest, num_classes = output_units)\n",
    "Ytest.shape"
   ]
  },
  {
   "cell_type": "code",
   "execution_count": 69,
   "metadata": {
    "colab": {
     "base_uri": "https://localhost:8080/",
     "height": 403
    },
    "executionInfo": {
     "elapsed": 427183,
     "status": "ok",
     "timestamp": 1602478831122,
     "user": {
      "displayName": "Tanmay Chakraborty",
      "photoUrl": "https://lh3.googleusercontent.com/a-/AOh14Gi7eevbipSJbPNmjfEacGnvwa7ZJkT_EcljzNX6FQ=s64",
      "userId": "10513402671331353489"
     },
     "user_tz": -330
    },
    "id": "x9gnEB8wkkD-",
    "outputId": "38e44cce-3f72-40f7-b8e4-5914a2294f69"
   },
   "outputs": [],
   "source": [
    "Y_pred_test = model.predict(Xtest)\n",
    "y_pred_test = np.argmax(Y_pred_test, axis=1)\n"
   ]
  },
  {
   "cell_type": "code",
   "execution_count": 70,
   "metadata": {},
   "outputs": [
    {
     "name": "stdout",
     "output_type": "stream",
     "text": [
      "(5023,)\n",
      "              precision    recall  f1-score   support\n",
      "\n",
      "           0       0.92      1.00      0.96        22\n",
      "           1       1.00      1.00      1.00       700\n",
      "           2       1.00      0.99      0.99       407\n",
      "           3       0.97      1.00      0.99       116\n",
      "           4       1.00      1.00      1.00       237\n",
      "           5       1.00      1.00      1.00       358\n",
      "           6       1.00      1.00      1.00        14\n",
      "           7       1.00      1.00      1.00       235\n",
      "           8       1.00      1.00      1.00        10\n",
      "           9       1.00      1.00      1.00       476\n",
      "          10       1.00      1.00      1.00      1203\n",
      "          11       1.00      0.99      0.99       291\n",
      "          12       1.00      1.00      1.00       100\n",
      "          13       1.00      1.00      1.00       620\n",
      "          14       0.99      1.00      0.99       189\n",
      "          15       0.98      1.00      0.99        45\n",
      "\n",
      "    accuracy                           1.00      5023\n",
      "   macro avg       0.99      1.00      0.99      5023\n",
      "weighted avg       1.00      1.00      1.00      5023\n",
      "\n"
     ]
    }
   ],
   "source": [
    "print(y_pred_test.shape) \n",
    "classification = classification_report(np.argmax(Ytest, axis=1), y_pred_test)\n",
    "print(classification)"
   ]
  },
  {
   "cell_type": "code",
   "execution_count": 71,
   "metadata": {
    "executionInfo": {
     "elapsed": 427171,
     "status": "ok",
     "timestamp": 1602478831123,
     "user": {
      "displayName": "Tanmay Chakraborty",
      "photoUrl": "https://lh3.googleusercontent.com/a-/AOh14Gi7eevbipSJbPNmjfEacGnvwa7ZJkT_EcljzNX6FQ=s64",
      "userId": "10513402671331353489"
     },
     "user_tz": -330
    },
    "id": "M8Z-62eCkkEA"
   },
   "outputs": [],
   "source": [
    "def AA_andEachClassAccuracy(confusion_matrix):\n",
    "    counter = confusion_matrix.shape[0]\n",
    "    list_diag = np.diag(confusion_matrix)\n",
    "    list_row_sum = np.sum(confusion_matrix, axis=1)\n",
    "    each_acc = np.nan_to_num(truediv(list_diag, list_row_sum))\n",
    "    average_acc = np.mean(each_acc)\n",
    "    return each_acc, average_acc"
   ]
  },
  {
   "cell_type": "code",
   "execution_count": 72,
   "metadata": {
    "executionInfo": {
     "elapsed": 427165,
     "status": "ok",
     "timestamp": 1602478831124,
     "user": {
      "displayName": "Tanmay Chakraborty",
      "photoUrl": "https://lh3.googleusercontent.com/a-/AOh14Gi7eevbipSJbPNmjfEacGnvwa7ZJkT_EcljzNX6FQ=s64",
      "userId": "10513402671331353489"
     },
     "user_tz": -330
    },
    "id": "Jw2j7mjQkkEC"
   },
   "outputs": [
    {
     "name": "stdout",
     "output_type": "stream",
     "text": [
      "Alfalfa, Corn-notill, Corn-mintill, Corn, Grass-pasture, Grass-trees, Grass-pasture-mowed, Hay-windrowed, Oats, Soybean-notill, Soybean-mintill, Soybean-clean, Wheat, Woods, Buildings-Grass-Trees-Drives, Stone-Steel-Towers\n"
     ]
    }
   ],
   "source": [
    "def get_targets(name):\n",
    "    targets_dict = {\n",
    "        'IP': ['Alfalfa', 'Corn-notill', 'Corn-mintill', 'Corn', 'Grass-pasture', 'Grass-trees', 'Grass-pasture-mowed',\n",
    "               'Hay-windrowed', 'Oats', 'Soybean-notill', 'Soybean-mintill', 'Soybean-clean', 'Wheat', 'Woods', \n",
    "               'Buildings-Grass-Trees-Drives', 'Stone-Steel-Towers'],\n",
    "        'SA': ['Brocoli_green_weeds_1', 'Brocoli_green_weeds_2', 'Fallow', 'Fallow_rough_plow', 'Fallow_smooth', 'Stubble',\n",
    "               'Celery','Grapes_untrained', 'Soil_vinyard_develop', 'Corn_senesced_green_weeds', 'Lettuce_romaine_4wk',\n",
    "               'Lettuce_romaine_5wk', 'Lettuce_romaine_6wk', 'Lettuce_romaine_7wk', 'Vinyard_untrained',\n",
    "               'Vinyard_vertical_trellis'],\n",
    "        'PU': ['Asphalt', 'Meadows', 'Gravel', 'Trees', 'Painted metal sheets', 'Bare Soil', 'Bitumen', 'Self-Blocking Bricks',\n",
    "               'Shadows']\n",
    "    }\n",
    "    targets = targets_dict.get(name)\n",
    "    return (targets)\n",
    "\n",
    "\n",
    "print(', '.join(get_targets(dataset[0:2].upper())))\n",
    "\n",
    "def reports (model, X_test, y_test, name, y_pred = None):\n",
    "    #start = time.time()\n",
    "    if (y_pred is None):\n",
    "        Y_pred = model.predict(X_test)\n",
    "        y_pred = np.argmax(Y_pred, axis=1)\n",
    "    #end = time.time()\n",
    "    #print(end - start)\n",
    "    target_names = get_targets(name[0:2].upper())\n",
    "    print(\"Producing report\")\n",
    "    classification = classification_report(np.argmax(y_test, axis=1), y_pred, target_names=target_names)\n",
    "    oa = accuracy_score(np.argmax(y_test, axis=1), y_pred)\n",
    "    confusion = confusion_matrix(np.argmax(y_test, axis=1), y_pred)\n",
    "    each_acc, aa = AA_andEachClassAccuracy(confusion)\n",
    "    kappa = cohen_kappa_score(np.argmax(y_test, axis=1), y_pred)\n",
    "    #score = model.evaluate(X_test, y_test, batch_size=32)\n",
    "    #Test_Loss =  score[0]*100\n",
    "    #Test_accuracy = score[1]*100\n",
    "    return classification, confusion, oa*100, each_acc*100, aa*100, kappa*100, target_names"
   ]
  },
  {
   "cell_type": "code",
   "execution_count": 73,
   "metadata": {
    "colab": {
     "base_uri": "https://localhost:8080/",
     "height": 34
    },
    "executionInfo": {
     "elapsed": 445851,
     "status": "ok",
     "timestamp": 1602478849818,
     "user": {
      "displayName": "Tanmay Chakraborty",
      "photoUrl": "https://lh3.googleusercontent.com/a-/AOh14Gi7eevbipSJbPNmjfEacGnvwa7ZJkT_EcljzNX6FQ=s64",
      "userId": "10513402671331353489"
     },
     "user_tz": -330
    },
    "id": "wiez8wEtkkEE",
    "outputId": "9955427d-ee60-4060-b1eb-9e79bbf5b67f"
   },
   "outputs": [
    {
     "name": "stdout",
     "output_type": "stream",
     "text": [
      "Producing report\n"
     ]
    }
   ],
   "source": [
    "(classification, confusion, \n",
    " oa, each_acc, aa, kappa, target_names) = reports(model, Xtest, Ytest, dataset[0:2], y_pred=y_pred_test)"
   ]
  },
  {
   "cell_type": "code",
   "execution_count": 74,
   "metadata": {},
   "outputs": [
    {
     "name": "stdout",
     "output_type": "stream",
     "text": [
      "Recall by target:\n",
      "100.0000 : Alfalfa\n",
      " 99.5714 : Corn-notill\n",
      " 99.0172 : Corn-mintill\n",
      "100.0000 : Corn\n",
      "100.0000 : Grass-pasture\n",
      "100.0000 : Grass-trees\n",
      "100.0000 : Grass-pasture-mowed\n",
      "100.0000 : Hay-windrowed\n",
      "100.0000 : Oats\n",
      "100.0000 : Soybean-notill\n",
      " 99.9169 : Soybean-mintill\n",
      " 98.9691 : Soybean-clean\n",
      "100.0000 : Wheat\n",
      " 99.6774 : Woods\n",
      "100.0000 : Buildings-Grass-Trees-Drives\n",
      "100.0000 : Stone-Steel-Towers\n",
      "\n"
     ]
    }
   ],
   "source": [
    "target_performance = 'Recall by target:\\n'\n",
    "for (a, b) in zip(target_names, each_acc):\n",
    "    target_performance += f'{b:8.4f} : {a}\\n'\n",
    "print(target_performance)"
   ]
  },
  {
   "cell_type": "code",
   "execution_count": 75,
   "metadata": {
    "scrolled": true
   },
   "outputs": [
    {
     "data": {
      "image/png": "[encoded data removed]",
      "text/plain": [
       "<Figure size 432x432 with 2 Axes>"
      ]
     },
     "metadata": {
      "needs_background": "light"
     },
     "output_type": "display_data"
    }
   ],
   "source": [
    "import seaborn as sns\n",
    "cf_matrix = np.asarray(confusion)\n",
    "plt.figure(figsize=(6,6))\n",
    "sns_plot=sns.heatmap(cf_matrix, annot=True, xticklabels=target_names, yticklabels=target_names, fmt='1d')\n",
    "#sns_plot.figure.savefig(str(dataset)+'-heatmap.png', dpi=300)\n",
    "plt.savefig(str(dataset)+'-heatmap.png', bbox_inches='tight', dpi=300)"
   ]
  },
  {
   "cell_type": "code",
   "execution_count": null,
   "metadata": {},
   "outputs": [],
   "source": []
  },
  {
   "cell_type": "code",
   "execution_count": 76,
   "metadata": {
    "executionInfo": {
     "elapsed": 445840,
     "status": "ok",
     "timestamp": 1602478849819,
     "user": {
      "displayName": "Tanmay Chakraborty",
      "photoUrl": "https://lh3.googleusercontent.com/a-/AOh14Gi7eevbipSJbPNmjfEacGnvwa7ZJkT_EcljzNX6FQ=s64",
      "userId": "10513402671331353489"
     },
     "user_tz": -330
    },
    "id": "kR-idaI8J5bl"
   },
   "outputs": [
    {
     "name": "stdout",
     "output_type": "stream",
     "text": [
      "Classification Summary\n",
      " 99.705 Kappa accuracy (%)\n",
      " 99.741 Overall accuracy (%)\n",
      " 99.822 Average accuracy (%)\n",
      "\n",
      "                              precision    recall  f1-score   support\n",
      "\n",
      "                     Alfalfa       0.92      1.00      0.96        22\n",
      "                 Corn-notill       1.00      1.00      1.00       700\n",
      "                Corn-mintill       1.00      0.99      0.99       407\n",
      "                        Corn       0.97      1.00      0.99       116\n",
      "               Grass-pasture       1.00      1.00      1.00       237\n",
      "                 Grass-trees       1.00      1.00      1.00       358\n",
      "         Grass-pasture-mowed       1.00      1.00      1.00        14\n",
      "               Hay-windrowed       1.00      1.00      1.00       235\n",
      "                        Oats       1.00      1.00      1.00        10\n",
      "              Soybean-notill       1.00      1.00      1.00       476\n",
      "             Soybean-mintill       1.00      1.00      1.00      1203\n",
      "               Soybean-clean       1.00      0.99      0.99       291\n",
      "                       Wheat       1.00      1.00      1.00       100\n",
      "                       Woods       1.00      1.00      1.00       620\n",
      "Buildings-Grass-Trees-Drives       0.99      1.00      0.99       189\n",
      "          Stone-Steel-Towers       0.98      1.00      0.99        45\n",
      "\n",
      "                    accuracy                           1.00      5023\n",
      "                   macro avg       0.99      1.00      0.99      5023\n",
      "                weighted avg       1.00      1.00      1.00      5023\n",
      "\n",
      "\n",
      "[  22    0    0    0    0    0    0    0    0    0    0    0    0    0     0    0]\n",
      "[   2  697    0    0    0    0    0    0    0    0    1    0    0    0     0    0]\n",
      "[   0    0  403    2    0    0    0    0    0    0    2    0    0    0     0    0]\n",
      "[   0    0    0  116    0    0    0    0    0    0    0    0    0    0     0    0]\n",
      "[   0    0    0    0  237    0    0    0    0    0    0    0    0    0     0    0]\n",
      "[   0    0    0    0    0  358    0    0    0    0    0    0    0    0     0    0]\n",
      "[   0    0    0    0    0    0   14    0    0    0    0    0    0    0     0    0]\n",
      "[   0    0    0    0    0    0    0  235    0    0    0    0    0    0     0    0]\n",
      "[   0    0    0    0    0    0    0    0   10    0    0    0    0    0     0    0]\n",
      "[   0    0    0    0    0    0    0    0    0  476    0    0    0    0     0    0]\n",
      "[   0    0    0    0    0    1    0    0    0    0 1202    0    0    0     0    0]\n",
      "[   0    0    1    1    0    0    0    0    0    0    0  288    0    0     0    1]\n",
      "[   0    0    0    0    0    0    0    0    0    0    0    0  100    0     0    0]\n",
      "[   0    0    0    0    0    0    0    0    0    0    0    0    0  618     2    0]\n",
      "[   0    0    0    0    0    0    0    0    0    0    0    0    0    0   189    0]\n",
      "[   0    0    0    0    0    0    0    0    0    0    0    0    0    0     0   45]\n",
      "\n",
      "\n",
      "Recall by target:\n",
      "100.0000 : Alfalfa\n",
      " 99.5714 : Corn-notill\n",
      " 99.0172 : Corn-mintill\n",
      "100.0000 : Corn\n",
      "100.0000 : Grass-pasture\n",
      "100.0000 : Grass-trees\n",
      "100.0000 : Grass-pasture-mowed\n",
      "100.0000 : Hay-windrowed\n",
      "100.0000 : Oats\n",
      "100.0000 : Soybean-notill\n",
      " 99.9169 : Soybean-mintill\n",
      " 98.9691 : Soybean-clean\n",
      "100.0000 : Wheat\n",
      " 99.6774 : Woods\n",
      "100.0000 : Buildings-Grass-Trees-Drives\n",
      "100.0000 : Stone-Steel-Towers\n",
      "\n",
      "\n",
      "\n",
      "Model: \"JigsawHSI\"\n",
      "__________________________________________________________________________________________________\n",
      "Layer (type)                    Output Shape         Param #     Connected to                     \n",
      "==================================================================================================\n",
      "input_1 (InputLayer)            [(None, 27, 27, 200, 0                                            \n",
      "__________________________________________________________________________________________________\n",
      "layer_normalization (LayerNorma (None, 27, 27, 200,  54          input_1[0][0]                    \n",
      "__________________________________________________________________________________________________\n",
      "3d_1x1x7 (Conv3D)               (None, 27, 27, 97, 6 512         layer_normalization[0][0]        \n",
      "__________________________________________________________________________________________________\n",
      "3d_1x1x5 (Conv3D)               (None, 27, 27, 47, 3 10272       3d_1x1x7[0][0]                   \n",
      "__________________________________________________________________________________________________\n",
      "3d_1x1x3 (Conv3D)               (None, 27, 27, 23, 1 1552        3d_1x1x5[0][0]                   \n",
      "__________________________________________________________________________________________________\n",
      "reshape_1 (Reshape)             (None, 27, 27, 200)  0           input_1[0][0]                    \n",
      "__________________________________________________________________________________________________\n",
      "reshape (Reshape)               (None, 27, 27, 368)  0           3d_1x1x3[0][0]                   \n",
      "__________________________________________________________________________________________________\n",
      "cropping2d (Cropping2D)         (None, 1, 1, 200)    0           reshape_1[0][0]                  \n",
      "__________________________________________________________________________________________________\n",
      "conv2d_1 (Conv2D)               (None, 27, 27, 64)   23616       reshape[0][0]                    \n",
      "__________________________________________________________________________________________________\n",
      "conv2d_3 (Conv2D)               (None, 27, 27, 16)   5904        reshape[0][0]                    \n",
      "__________________________________________________________________________________________________\n",
      "conv2d_5 (Conv2D)               (None, 27, 27, 16)   5904        reshape[0][0]                    \n",
      "__________________________________________________________________________________________________\n",
      "conv2d_7 (Conv2D)               (None, 27, 27, 16)   5904        reshape[0][0]                    \n",
      "__________________________________________________________________________________________________\n",
      "flatten_2 (Flatten)             (None, 200)          0           cropping2d[0][0]                 \n",
      "__________________________________________________________________________________________________\n",
      "conv2d_2 (Conv2D)               (None, 27, 27, 64)   36928       conv2d_1[0][0]                   \n",
      "__________________________________________________________________________________________________\n",
      "conv2d_4 (Conv2D)               (None, 27, 27, 16)   6416        conv2d_3[0][0]                   \n",
      "__________________________________________________________________________________________________\n",
      "conv2d_6 (Conv2D)               (None, 27, 27, 16)   12560       conv2d_5[0][0]                   \n",
      "__________________________________________________________________________________________________\n",
      "conv2d_8 (Conv2D)               (None, 27, 27, 16)   20752       conv2d_7[0][0]                   \n",
      "__________________________________________________________________________________________________\n",
      "dense_1 (Dense)                 (None, 16)           3216        flatten_2[0][0]                  \n",
      "__________________________________________________________________________________________________\n",
      "concatenate (Concatenate)       (None, 27, 27, 112)  0           conv2d_2[0][0]                   \n",
      "                                                                 conv2d_4[0][0]                   \n",
      "                                                                 conv2d_6[0][0]                   \n",
      "                                                                 conv2d_8[0][0]                   \n",
      "__________________________________________________________________________________________________\n",
      "dropout_1 (Dropout)             (None, 16)           0           dense_1[0][0]                    \n",
      "__________________________________________________________________________________________________\n",
      "flatten_1 (Flatten)             (None, 81648)        0           concatenate[0][0]                \n",
      "__________________________________________________________________________________________________\n",
      "dense_2 (Dense)                 (None, 16)           272         dropout_1[0][0]                  \n",
      "__________________________________________________________________________________________________\n",
      "dense (Dense)                   (None, 256)          20902144    flatten_1[0][0]                  \n",
      "__________________________________________________________________________________________________\n",
      "dropout_2 (Dropout)             (None, 16)           0           dense_2[0][0]                    \n",
      "__________________________________________________________________________________________________\n",
      "dropout (Dropout)               (None, 256)          0           dense[0][0]                      \n",
      "__________________________________________________________________________________________________\n",
      "concatenate_1 (Concatenate)     (None, 272)          0           dropout_2[0][0]                  \n",
      "                                                                 dropout[0][0]                    \n",
      "__________________________________________________________________________________________________\n",
      "dense_3 (Dense)                 (None, 128)          34944       concatenate_1[0][0]              \n",
      "__________________________________________________________________________________________________\n",
      "dropout_3 (Dropout)             (None, 128)          0           dense_3[0][0]                    \n",
      "__________________________________________________________________________________________________\n",
      "Softmax (Dense)                 (None, 16)           2064        dropout_3[0][0]                  \n",
      "==================================================================================================\n",
      "Total params: 21,073,014\n",
      "Trainable params: 21,073,014\n",
      "Non-trainable params: 0\n",
      "__________________________________________________________________________________________________\n",
      "\n",
      "\n",
      "Configuration for dataset [IP_3d]:\n",
      "\n",
      "Test Set Ratio: 70.0% of samples\n",
      "Window Size   : 27 pixels per side\n",
      "Dim. Reduction: None function\n",
      "Num channels  : 200 bands after None\n",
      "# Network design\n",
      "Input shape   : (27x27x200)\n",
      "HSI Filters   : None filters in first layer\n",
      "Internal Size : (9x9) maximum network filter size\n",
      "# Training hyperparameters\n",
      "Optimizer     : adadelta\n",
      "Learning rate : 0.1\n",
      "Batch Size    : 20\n",
      "Num Epochs    : 200\n",
      "Patience      : 20\n",
      "# Training GPUs\n",
      "GPU Maximum   : 1\n",
      "\n"
     ]
    }
   ],
   "source": [
    "classification = str(classification)\n",
    "confusion = str(confusion)\n",
    "confusion=confusion.replace('\\n', '')\n",
    "confusion=confusion.replace('] [', ']\\n[')\n",
    "confusion=confusion.replace('][', ']\\n[')\n",
    "confusion=confusion.replace('[[', '[')\n",
    "confusion=confusion.replace(']]', ']')\n",
    "# dim_reduction='pca'\n",
    "c_summary = 'Classification Summary\\n'\n",
    "#c_summary += f'{Test_loss:7.3f} Test loss (%)\\n'\n",
    "#c_summary += f'{Test_accuracy:7.3f} Test accuracy (%)\\n'\n",
    "c_summary += f'{kappa:7.3f} Kappa accuracy (%)\\n'\n",
    "c_summary += f'{oa:7.3f} Overall accuracy (%)\\n'\n",
    "c_summary += f'{aa:7.3f} Average accuracy (%)\\n\\n'\n",
    "\n",
    "c_summary += f'{classification}\\n\\n'\n",
    "c_summary += f'{confusion}\\n\\n'\n",
    "\n",
    "model_summary = []\n",
    "model.summary(print_fn=lambda x: model_summary.append(x)) # line_length=70,\n",
    "model_summary = '\\n'.join(model_summary)\n",
    "model_summary += '\\n\\n'\n",
    "\n",
    "print(c_summary)\n",
    "print(target_performance+'\\n\\n')\n",
    "print(model_summary)\n",
    "print(config_txt)\n",
    "\n",
    "with open(classification_file, 'w') as cs_file:\n",
    "    cs_file.write(c_summary)\n",
    "    cs_file.write(target_performance+'\\n\\n')\n",
    "    cs_file.write(model_summary)\n",
    "    cs_file.write(config_txt)"
   ]
  },
  {
   "cell_type": "code",
   "execution_count": 77,
   "metadata": {
    "executionInfo": {
     "elapsed": 445833,
     "status": "ok",
     "timestamp": 1602478849820,
     "user": {
      "displayName": "Tanmay Chakraborty",
      "photoUrl": "https://lh3.googleusercontent.com/a-/AOh14Gi7eevbipSJbPNmjfEacGnvwa7ZJkT_EcljzNX6FQ=s64",
      "userId": "10513402671331353489"
     },
     "user_tz": -330
    },
    "id": "xGcIixswkkEG"
   },
   "outputs": [],
   "source": [
    "def Patch(data, height_index, width_index, PATCH_SIZE):\n",
    "    height_slice = slice(height_index, height_index+PATCH_SIZE)\n",
    "    width_slice = slice(width_index, width_index+PATCH_SIZE)\n",
    "    patch = data[height_slice, width_slice, :]\n",
    "    \n",
    "    return patch"
   ]
  },
  {
   "cell_type": "code",
   "execution_count": null,
   "metadata": {
    "executionInfo": {
     "elapsed": 445826,
     "status": "ok",
     "timestamp": 1602478849821,
     "user": {
      "displayName": "Tanmay Chakraborty",
      "photoUrl": "https://lh3.googleusercontent.com/a-/AOh14Gi7eevbipSJbPNmjfEacGnvwa7ZJkT_EcljzNX6FQ=s64",
      "userId": "10513402671331353489"
     },
     "user_tz": -330
    },
    "id": "r-HdxMrCkkEJ"
   },
   "outputs": [],
   "source": []
  },
  {
   "cell_type": "code",
   "execution_count": 78,
   "metadata": {
    "executionInfo": {
     "elapsed": 445812,
     "status": "ok",
     "timestamp": 1602478849821,
     "user": {
      "displayName": "Tanmay Chakraborty",
      "photoUrl": "https://lh3.googleusercontent.com/a-/AOh14Gi7eevbipSJbPNmjfEacGnvwa7ZJkT_EcljzNX6FQ=s64",
      "userId": "10513402671331353489"
     },
     "user_tz": -330
    },
    "id": "6GaaBm4BkkEL"
   },
   "outputs": [],
   "source": [
    "height = HSI_y.shape[0]\n",
    "width  = HSI_y.shape[1]"
   ]
  },
  {
   "cell_type": "code",
   "execution_count": null,
   "metadata": {
    "executionInfo": {
     "elapsed": 470026,
     "status": "ok",
     "timestamp": 1602478874044,
     "user": {
      "displayName": "Tanmay Chakraborty",
      "photoUrl": "https://lh3.googleusercontent.com/a-/AOh14Gi7eevbipSJbPNmjfEacGnvwa7ZJkT_EcljzNX6FQ=s64",
      "userId": "10513402671331353489"
     },
     "user_tz": -330
    },
    "id": "oumhazm3kkEN"
   },
   "outputs": [],
   "source": []
  },
  {
   "cell_type": "code",
   "execution_count": 79,
   "metadata": {
    "executionInfo": {
     "elapsed": 470018,
     "status": "ok",
     "timestamp": 1602478874046,
     "user": {
      "displayName": "Tanmay Chakraborty",
      "photoUrl": "https://lh3.googleusercontent.com/a-/AOh14Gi7eevbipSJbPNmjfEacGnvwa7ZJkT_EcljzNX6FQ=s64",
      "userId": "10513402671331353489"
     },
     "user_tz": -330
    },
    "id": "tvZuH_0-kkEP"
   },
   "outputs": [],
   "source": [
    "X = padWithZeros(DRI, window_size//2)"
   ]
  },
  {
   "cell_type": "code",
   "execution_count": 80,
   "metadata": {},
   "outputs": [
    {
     "data": {
      "text/plain": [
       "(171, 171, 200)"
      ]
     },
     "execution_count": 80,
     "metadata": {},
     "output_type": "execute_result"
    }
   ],
   "source": [
    "X.shape"
   ]
  },
  {
   "cell_type": "code",
   "execution_count": 81,
   "metadata": {
    "id": "4sHtc-12kkER"
   },
   "outputs": [
    {
     "name": "stderr",
     "output_type": "stream",
     "text": [
      "Predicting...: 100%|█████████████████████| 145/145 [03:20<00:00,  1.38s/it]\n"
     ]
    }
   ],
   "source": [
    "from tqdm import tqdm\n",
    "# calculate the predicted image\n",
    "outputs = np.zeros((height,width))\n",
    "#for i in range(height):\n",
    "for i in tqdm(range(height), desc=\"Predicting...\",\n",
    "                          ascii=False, ncols=75):\n",
    "    for j in range(width):\n",
    "        target = int(HSI_y[i,j])\n",
    "        if target == 0 :\n",
    "            continue\n",
    "        else :\n",
    "            image_patch=Patch(X, i, j, window_size)\n",
    "            X_test_image = image_patch.reshape(1,image_patch.shape[0],image_patch.shape[1], image_patch.shape[2]).astype('float32')                                   \n",
    "            prediction = (model.predict(X_test_image))\n",
    "            prediction = np.argmax(prediction, axis=1)\n",
    "            outputs[i][j] = prediction+1\n"
   ]
  },
  {
   "cell_type": "code",
   "execution_count": 82,
   "metadata": {
    "id": "KpnGO-c_kkET"
   },
   "outputs": [
    {
     "data": {
      "image/png": "[encoded data removed]",
      "text/plain": [
       "<Figure size 504x504 with 1 Axes>"
      ]
     },
     "metadata": {
      "needs_background": "light"
     },
     "output_type": "display_data"
    }
   ],
   "source": [
    "ground_truth = spectral.imshow(classes = HSI_y,figsize =(7,7))"
   ]
  },
  {
   "cell_type": "code",
   "execution_count": 83,
   "metadata": {
    "id": "5yIVQ8-hkkEW"
   },
   "outputs": [
    {
     "data": {
      "image/png": "[encoded data removed]",
      "text/plain": [
       "<Figure size 504x504 with 1 Axes>"
      ]
     },
     "metadata": {
      "needs_background": "light"
     },
     "output_type": "display_data"
    }
   ],
   "source": [
    "predict_image = spectral.imshow(classes = outputs.astype(int),figsize =(7,7))"
   ]
  },
  {
   "cell_type": "code",
   "execution_count": 84,
   "metadata": {},
   "outputs": [
    {
     "name": "stdout",
     "output_type": "stream",
     "text": [
      "Misclassified pixels:  20 / 21025\n"
     ]
    },
    {
     "data": {
      "image/png": "[encoded data removed]",
      "text/plain": [
       "<Figure size 1080x576 with 3 Axes>"
      ]
     },
     "metadata": {
      "needs_background": "light"
     },
     "output_type": "display_data"
    }
   ],
   "source": [
    "from matplotlib.colors import ListedColormap, NoNorm\n",
    "\n",
    "cm = ListedColormap(np.array(spectral.spy_colors)/255.0)\n",
    "delta = (np.abs(outputs.astype(int) - (HSI_y))>0)*1\n",
    "print('Misclassified pixels: ', np.sum(np.asarray(delta)>0), \"/\", delta.shape[0]*delta.shape[1])\n",
    "fig, (ax1, ax2, ax3) = plt.subplots(1,3, figsize=(15,8))\n",
    "ax1.set_title(\"Ground truth\")\n",
    "ax2.set_title(\"Prediction\")\n",
    "ax3.set_title(\"Delta\")\n",
    "ax1.imshow(HSI_y) #, cmap=cm, norm=NoNorm())\n",
    "ax2.imshow(outputs.astype(int)) #, cmap=cm, norm=NoNorm())\n",
    "ax3.imshow(delta, cmap=cm)\n",
    "plt.tight_layout()"
   ]
  },
  {
   "cell_type": "code",
   "execution_count": 85,
   "metadata": {
    "id": "vBPvnosekkEZ"
   },
   "outputs": [],
   "source": [
    "spectral.save_rgb(str(dataset)+\"-ground_truth.png\", HSI_y, colors=spectral.spy_colors)\n",
    "spectral.save_rgb(str(dataset)+\"-delta.png\", delta, colors=spectral.spy_colors)\n",
    "spectral.save_rgb(predictions_img, outputs.astype(int), colors=spectral.spy_colors)"
   ]
  },
  {
   "cell_type": "code",
   "execution_count": null,
   "metadata": {},
   "outputs": [],
   "source": []
  },
  {
   "cell_type": "code",
   "execution_count": null,
   "metadata": {},
   "outputs": [],
   "source": []
  },
  {
   "cell_type": "code",
   "execution_count": null,
   "metadata": {},
   "outputs": [],
   "source": []
  },
  {
   "cell_type": "code",
   "execution_count": 86,
   "metadata": {},
   "outputs": [],
   "source": [
    "#del model\n",
    "#print(\"Keras Backend RESET\")  # optional\n",
    "#import keras\n",
    "#import gc\n",
    "#keras.backend.clear_session()\n",
    "#tf.keras.backend.clear_session()\n",
    "#gc.collect()"
   ]
  },
  {
   "cell_type": "markdown",
   "metadata": {
    "id": "JL4rV6j7kkEa"
   },
   "source": []
  },
  {
   "cell_type": "code",
   "execution_count": null,
   "metadata": {},
   "outputs": [],
   "source": []
  },
  {
   "cell_type": "code",
   "execution_count": null,
   "metadata": {},
   "outputs": [],
   "source": []
  }
 ],
 "metadata": {
  "accelerator": "GPU",
  "colab": {
   "authorship_tag": "ABX9TyN/aVtrq8w9XQ9tKxeZX/5h",
   "collapsed_sections": [],
   "name": "Untitled1.ipynb",
   "provenance": []
  },
  "kernelspec": {
   "display_name": "Python 3 (ipykernel)",
   "language": "python",
   "name": "python3"
  },
  "language_info": {
   "codemirror_mode": {
    "name": "ipython",
    "version": 3
   },
   "file_extension": ".py",
   "mimetype": "text/x-python",
   "name": "python",
   "nbconvert_exporter": "python",
   "pygments_lexer": "ipython3",
   "version": "3.8.13"
  }
 },
 "nbformat": 4,
 "nbformat_minor": 1
}
